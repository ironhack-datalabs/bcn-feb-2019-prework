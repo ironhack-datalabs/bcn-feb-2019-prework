{
 "cells": [
  {
   "cell_type": "code",
   "execution_count": 1,
   "metadata": {},
   "outputs": [
    {
     "ename": "SyntaxError",
     "evalue": "invalid syntax (<ipython-input-1-d25fb7ec41c2>, line 16)",
     "output_type": "error",
     "traceback": [
      "\u001b[0;36m  File \u001b[0;32m\"<ipython-input-1-d25fb7ec41c2>\"\u001b[0;36m, line \u001b[0;32m16\u001b[0m\n\u001b[0;31m    for i in range(spells)\u001b[0m\n\u001b[0m                          ^\u001b[0m\n\u001b[0;31mSyntaxError\u001b[0m\u001b[0;31m:\u001b[0m invalid syntax\n"
     ]
    }
   ],
   "source": [
    "#Create two variables called gandalf and saruman and assign them the spell power lists. Create a variable called spells to store the number of spells that the sorcerers cast\n",
    "\n",
    "gandalf = [10, 11, 13, 30, 22, 11, 10, 33, 22, 22]\n",
    "saruman = [23, 66, 12, 43, 12, 10, 44, 23, 12, 17]\n",
    "\n",
    "#Create a variable called spells to store the number of spells that the sorcerers cast\n",
    "spells=len(spell_lenght)\n",
    "\n",
    "#Create two variables called gandalf_wins and saruman_wins. Set both of them to 0.\n",
    "\n",
    "gandalf_wins=0\n",
    "saruman_wins=0\n",
    "\n",
    "#Using the lists of spells of both sorcerers, update variables gandalf_wins and saruman_wins to count the number of times each sorcerer wins a clash.\n",
    "\n",
    "for i in range(spells)\n",
    "if gandalf[i] > saruman[i]:\n",
    "\tgandalf_wins = +1\n",
    "\telse gandalf[i] < saruman[i]:\n",
    "\t\tsaruman_wins = +1\n",
    "\n",
    "\n",
    "#Who won the battle?\n",
    "\n",
    "if gandalf_wins > saruman_wins:\n",
    "\tprint(\"gandalf the unbeatable!\")\n",
    "\telif gandalf_wins < saruman_wins \n",
    "\tprint(\"saruman the unbeatable!\")\n",
    "else: \n",
    "\tprint(\"the power of the the two sorcerers are in balance!\")\n"
   ]
  },
  {
   "cell_type": "code",
   "execution_count": 2,
   "metadata": {},
   "outputs": [
    {
     "ename": "SyntaxError",
     "evalue": "invalid syntax (<ipython-input-2-54db7ab979b6>, line 16)",
     "output_type": "error",
     "traceback": [
      "\u001b[0;36m  File \u001b[0;32m\"<ipython-input-2-54db7ab979b6>\"\u001b[0;36m, line \u001b[0;32m16\u001b[0m\n\u001b[0;31m    for i in range(spell_lenght)\u001b[0m\n\u001b[0m                                ^\u001b[0m\n\u001b[0;31mSyntaxError\u001b[0m\u001b[0;31m:\u001b[0m invalid syntax\n"
     ]
    }
   ],
   "source": [
    "#Create two variables called gandalf and saruman and assign them the spell power lists. Create a variable called spells to store the number of spells that the sorcerers cast\n",
    "\n",
    "gandalf = [10, 11, 13, 30, 22, 11, 10, 33, 22, 22]\n",
    "saruman = [23, 66, 12, 43, 12, 10, 44, 23, 12, 17]\n",
    "\n",
    "#Create a variable called spells to store the number of spells that the sorcerers cast\n",
    "spells=len(spell_lenght)\n",
    "\n",
    "#Create two variables called gandalf_wins and saruman_wins. Set both of them to 0.\n",
    "\n",
    "gandalf_wins=0\n",
    "saruman_wins=0\n",
    "\n",
    "#Using the lists of spells of both sorcerers, update variables gandalf_wins and saruman_wins to count the number of times each sorcerer wins a clash.\n",
    "\n",
    "for i in range(spell_lenght)\n",
    "if gandalf[i] > saruman[i]:\n",
    "\tgandalf_wins = +1\n",
    "\telse gandalf[i] < saruman[i]:\n",
    "\t\tsaruman_wins = +1\n",
    "\n",
    "\n",
    "#Who won the battle?\n",
    "\n",
    "if gandalf_wins > saruman_wins:\n",
    "\tprint(\"gandalf the unbeatable!\")\n",
    "\telif gandalf_wins < saruman_wins \n",
    "\tprint(\"saruman the unbeatable!\")\n",
    "else: \n",
    "\tprint(\"the power of the the two sorcerers are in balance!\")"
   ]
  },
  {
   "cell_type": "code",
   "execution_count": 3,
   "metadata": {},
   "outputs": [
    {
     "ename": "SyntaxError",
     "evalue": "invalid syntax (<ipython-input-3-54db7ab979b6>, line 16)",
     "output_type": "error",
     "traceback": [
      "\u001b[0;36m  File \u001b[0;32m\"<ipython-input-3-54db7ab979b6>\"\u001b[0;36m, line \u001b[0;32m16\u001b[0m\n\u001b[0;31m    for i in range(spell_lenght)\u001b[0m\n\u001b[0m                                ^\u001b[0m\n\u001b[0;31mSyntaxError\u001b[0m\u001b[0;31m:\u001b[0m invalid syntax\n"
     ]
    }
   ],
   "source": [
    "#Create two variables called gandalf and saruman and assign them the spell power lists. Create a variable called spells to store the number of spells that the sorcerers cast\n",
    "\n",
    "gandalf = [10, 11, 13, 30, 22, 11, 10, 33, 22, 22]\n",
    "saruman = [23, 66, 12, 43, 12, 10, 44, 23, 12, 17]\n",
    "\n",
    "#Create a variable called spells to store the number of spells that the sorcerers cast\n",
    "spells=len(spell_lenght)\n",
    "\n",
    "#Create two variables called gandalf_wins and saruman_wins. Set both of them to 0.\n",
    "\n",
    "gandalf_wins=0\n",
    "saruman_wins=0\n",
    "\n",
    "#Using the lists of spells of both sorcerers, update variables gandalf_wins and saruman_wins to count the number of times each sorcerer wins a clash.\n",
    "\n",
    "for i in range(spell_lenght)\n",
    "if gandalf[i] > saruman[i]:\n",
    "\tgandalf_wins = +1\n",
    "\telse gandalf[i] < saruman[i]:\n",
    "\t\tsaruman_wins = +1\n",
    "\n",
    "\n",
    "#Who won the battle?\n",
    "\n",
    "if gandalf_wins > saruman_wins:\n",
    "\tprint(\"gandalf the unbeatable!\")\n",
    "\telif gandalf_wins < saruman_wins \n",
    "\tprint(\"saruman the unbeatable!\")\n",
    "else: \n",
    "\tprint(\"the power of the the two sorcerers are in balance!\")"
   ]
  },
  {
   "cell_type": "code",
   "execution_count": 4,
   "metadata": {},
   "outputs": [
    {
     "ename": "SyntaxError",
     "evalue": "invalid syntax (<ipython-input-4-78423726fe0b>, line 16)",
     "output_type": "error",
     "traceback": [
      "\u001b[0;36m  File \u001b[0;32m\"<ipython-input-4-78423726fe0b>\"\u001b[0;36m, line \u001b[0;32m16\u001b[0m\n\u001b[0;31m    for i in range(saruman)\u001b[0m\n\u001b[0m                           ^\u001b[0m\n\u001b[0;31mSyntaxError\u001b[0m\u001b[0;31m:\u001b[0m invalid syntax\n"
     ]
    }
   ],
   "source": [
    "#Create two variables called gandalf and saruman and assign them the spell power lists. Create a variable called spells to store the number of spells that the sorcerers cast\n",
    "\n",
    "gandalf = [10, 11, 13, 30, 22, 11, 10, 33, 22, 22]\n",
    "saruman = [23, 66, 12, 43, 12, 10, 44, 23, 12, 17]\n",
    "\n",
    "#Create a variable called spells to store the number of spells that the sorcerers cast\n",
    "spells=len(saruman)\n",
    "\n",
    "#Create two variables called gandalf_wins and saruman_wins. Set both of them to 0.\n",
    "\n",
    "gandalf_wins=0\n",
    "saruman_wins=0\n",
    "\n",
    "#Using the lists of spells of both sorcerers, update variables gandalf_wins and saruman_wins to count the number of times each sorcerer wins a clash.\n",
    "\n",
    "for i in range(saruman)\n",
    "if gandalf[i] > saruman[i]:\n",
    "\tgandalf_wins = +1\n",
    "\telse gandalf[i] < saruman[i]:\n",
    "\t\tsaruman_wins = +1\n",
    "\n",
    "\n",
    "#Who won the battle?\n",
    "\n",
    "if gandalf_wins > saruman_wins:\n",
    "\tprint(\"gandalf the unbeatable!\")\n",
    "\telif gandalf_wins < saruman_wins \n",
    "\tprint(\"saruman the unbeatable!\")\n",
    "else: \n",
    "\tprint(\"the power of the the two sorcerers are in balance!\")\n"
   ]
  },
  {
   "cell_type": "code",
   "execution_count": 5,
   "metadata": {},
   "outputs": [
    {
     "ename": "SyntaxError",
     "evalue": "invalid syntax (<ipython-input-5-d25fb7ec41c2>, line 16)",
     "output_type": "error",
     "traceback": [
      "\u001b[0;36m  File \u001b[0;32m\"<ipython-input-5-d25fb7ec41c2>\"\u001b[0;36m, line \u001b[0;32m16\u001b[0m\n\u001b[0;31m    for i in range(spells)\u001b[0m\n\u001b[0m                          ^\u001b[0m\n\u001b[0;31mSyntaxError\u001b[0m\u001b[0;31m:\u001b[0m invalid syntax\n"
     ]
    }
   ],
   "source": [
    "#Create two variables called gandalf and saruman and assign them the spell power lists. Create a variable called spells to store the number of spells that the sorcerers cast\n",
    "\n",
    "gandalf = [10, 11, 13, 30, 22, 11, 10, 33, 22, 22]\n",
    "saruman = [23, 66, 12, 43, 12, 10, 44, 23, 12, 17]\n",
    "\n",
    "#Create a variable called spells to store the number of spells that the sorcerers cast\n",
    "spells=len(spell_lenght)\n",
    "\n",
    "#Create two variables called gandalf_wins and saruman_wins. Set both of them to 0.\n",
    "\n",
    "gandalf_wins=0\n",
    "saruman_wins=0\n",
    "\n",
    "#Using the lists of spells of both sorcerers, update variables gandalf_wins and saruman_wins to count the number of times each sorcerer wins a clash.\n",
    "\n",
    "for i in range(spells)\n",
    "if gandalf[i] > saruman[i]:\n",
    "\tgandalf_wins = +1\n",
    "\telse gandalf[i] < saruman[i]:\n",
    "\t\tsaruman_wins = +1\n",
    "\n",
    "\n",
    "#Who won the battle?\n",
    "\n",
    "if gandalf_wins > saruman_wins:\n",
    "\tprint(\"gandalf the unbeatable!\")\n",
    "\telif gandalf_wins < saruman_wins \n",
    "\tprint(\"saruman the unbeatable!\")\n",
    "else: \n",
    "\tprint(\"the power of the the two sorcerers are in balance!\")\n"
   ]
  },
  {
   "cell_type": "code",
   "execution_count": 6,
   "metadata": {},
   "outputs": [
    {
     "ename": "SyntaxError",
     "evalue": "invalid syntax (<ipython-input-6-fb9c1b07316f>, line 16)",
     "output_type": "error",
     "traceback": [
      "\u001b[0;36m  File \u001b[0;32m\"<ipython-input-6-fb9c1b07316f>\"\u001b[0;36m, line \u001b[0;32m16\u001b[0m\n\u001b[0;31m    for i in range(spells)\u001b[0m\n\u001b[0m                          ^\u001b[0m\n\u001b[0;31mSyntaxError\u001b[0m\u001b[0;31m:\u001b[0m invalid syntax\n"
     ]
    }
   ],
   "source": [
    "#Create two variables called gandalf and saruman and assign them the spell power lists. Create a variable called spells to store the number of spells that the sorcerers cast\n",
    "\n",
    "gandalf = [10, 11, 13, 30, 22, 11, 10, 33, 22, 22]\n",
    "saruman = [23, 66, 12, 43, 12, 10, 44, 23, 12, 17]\n",
    "\n",
    "#Create a variable called spells to store the number of spells that the sorcerers cast\n",
    "spells=len(saruman)\n",
    "\n",
    "#Create two variables called gandalf_wins and saruman_wins. Set both of them to 0.\n",
    "\n",
    "gandalf_wins=0\n",
    "saruman_wins=0\n",
    "\n",
    "#Using the lists of spells of both sorcerers, update variables gandalf_wins and saruman_wins to count the number of times each sorcerer wins a clash.\n",
    "\n",
    "for i in range(spells)\n",
    "if gandalf[i] > saruman[i]:\n",
    "\tgandalf_wins = +1\n",
    "\telse gandalf[i] < saruman[i]:\n",
    "\t\tsaruman_wins = +1\n",
    "\n",
    "\n",
    "#Who won the battle?\n",
    "\n",
    "if gandalf_wins > saruman_wins:\n",
    "\tprint(\"gandalf the unbeatable!\")\n",
    "\telif gandalf_wins < saruman_wins \n",
    "\tprint(\"saruman the unbeatable!\")\n",
    "else: \n",
    "\tprint(\"the power of the the two sorcerers are in balance!\")\n"
   ]
  },
  {
   "cell_type": "code",
   "execution_count": 7,
   "metadata": {},
   "outputs": [
    {
     "ename": "SyntaxError",
     "evalue": "invalid syntax (<ipython-input-7-d25fb7ec41c2>, line 16)",
     "output_type": "error",
     "traceback": [
      "\u001b[0;36m  File \u001b[0;32m\"<ipython-input-7-d25fb7ec41c2>\"\u001b[0;36m, line \u001b[0;32m16\u001b[0m\n\u001b[0;31m    for i in range(spells)\u001b[0m\n\u001b[0m                          ^\u001b[0m\n\u001b[0;31mSyntaxError\u001b[0m\u001b[0;31m:\u001b[0m invalid syntax\n"
     ]
    }
   ],
   "source": [
    "#Create two variables called gandalf and saruman and assign them the spell power lists. Create a variable called spells to store the number of spells that the sorcerers cast\n",
    "\n",
    "gandalf = [10, 11, 13, 30, 22, 11, 10, 33, 22, 22]\n",
    "saruman = [23, 66, 12, 43, 12, 10, 44, 23, 12, 17]\n",
    "\n",
    "#Create a variable called spells to store the number of spells that the sorcerers cast\n",
    "spells=len(spell_lenght)\n",
    "\n",
    "#Create two variables called gandalf_wins and saruman_wins. Set both of them to 0.\n",
    "\n",
    "gandalf_wins=0\n",
    "saruman_wins=0\n",
    "\n",
    "#Using the lists of spells of both sorcerers, update variables gandalf_wins and saruman_wins to count the number of times each sorcerer wins a clash.\n",
    "\n",
    "for i in range(spells)\n",
    "if gandalf[i] > saruman[i]:\n",
    "\tgandalf_wins = +1\n",
    "\telse gandalf[i] < saruman[i]:\n",
    "\t\tsaruman_wins = +1\n",
    "\n",
    "\n",
    "#Who won the battle?\n",
    "\n",
    "if gandalf_wins > saruman_wins:\n",
    "\tprint(\"gandalf the unbeatable!\")\n",
    "\telif gandalf_wins < saruman_wins \n",
    "\tprint(\"saruman the unbeatable!\")\n",
    "else: \n",
    "\tprint(\"the power of the the two sorcerers are in balance!\")\n"
   ]
  },
  {
   "cell_type": "code",
   "execution_count": 8,
   "metadata": {},
   "outputs": [
    {
     "ename": "SyntaxError",
     "evalue": "invalid syntax (<ipython-input-8-fb9c1b07316f>, line 16)",
     "output_type": "error",
     "traceback": [
      "\u001b[0;36m  File \u001b[0;32m\"<ipython-input-8-fb9c1b07316f>\"\u001b[0;36m, line \u001b[0;32m16\u001b[0m\n\u001b[0;31m    for i in range(spells)\u001b[0m\n\u001b[0m                          ^\u001b[0m\n\u001b[0;31mSyntaxError\u001b[0m\u001b[0;31m:\u001b[0m invalid syntax\n"
     ]
    }
   ],
   "source": [
    "#Create two variables called gandalf and saruman and assign them the spell power lists. Create a variable called spells to store the number of spells that the sorcerers cast\n",
    "\n",
    "gandalf = [10, 11, 13, 30, 22, 11, 10, 33, 22, 22]\n",
    "saruman = [23, 66, 12, 43, 12, 10, 44, 23, 12, 17]\n",
    "\n",
    "#Create a variable called spells to store the number of spells that the sorcerers cast\n",
    "spells=len(saruman)\n",
    "\n",
    "#Create two variables called gandalf_wins and saruman_wins. Set both of them to 0.\n",
    "\n",
    "gandalf_wins=0\n",
    "saruman_wins=0\n",
    "\n",
    "#Using the lists of spells of both sorcerers, update variables gandalf_wins and saruman_wins to count the number of times each sorcerer wins a clash.\n",
    "\n",
    "for i in range(spells)\n",
    "if gandalf[i] > saruman[i]:\n",
    "\tgandalf_wins = +1\n",
    "\telse gandalf[i] < saruman[i]:\n",
    "\t\tsaruman_wins = +1\n",
    "\n",
    "\n",
    "#Who won the battle?\n",
    "\n",
    "if gandalf_wins > saruman_wins:\n",
    "\tprint(\"gandalf the unbeatable!\")\n",
    "\telif gandalf_wins < saruman_wins \n",
    "\tprint(\"saruman the unbeatable!\")\n",
    "else: \n",
    "\tprint(\"the power of the the two sorcerers are in balance!\")\n"
   ]
  },
  {
   "cell_type": "code",
   "execution_count": 9,
   "metadata": {},
   "outputs": [
    {
     "ename": "IndentationError",
     "evalue": "expected an indented block (<ipython-input-9-1e03dbb97755>, line 17)",
     "output_type": "error",
     "traceback": [
      "\u001b[0;36m  File \u001b[0;32m\"<ipython-input-9-1e03dbb97755>\"\u001b[0;36m, line \u001b[0;32m17\u001b[0m\n\u001b[0;31m    if gandalf[i] > saruman[i]:\u001b[0m\n\u001b[0m    ^\u001b[0m\n\u001b[0;31mIndentationError\u001b[0m\u001b[0;31m:\u001b[0m expected an indented block\n"
     ]
    }
   ],
   "source": [
    "#Create two variables called gandalf and saruman and assign them the spell power lists. Create a variable called spells to store the number of spells that the sorcerers cast\n",
    "\n",
    "gandalf = [10, 11, 13, 30, 22, 11, 10, 33, 22, 22]\n",
    "saruman = [23, 66, 12, 43, 12, 10, 44, 23, 12, 17]\n",
    "\n",
    "#Create a variable called spells to store the number of spells that the sorcerers cast\n",
    "spells=len(spell_lenght)\n",
    "\n",
    "#Create two variables called gandalf_wins and saruman_wins. Set both of them to 0.\n",
    "\n",
    "gandalf_wins=0\n",
    "saruman_wins=0\n",
    "\n",
    "#Using the lists of spells of both sorcerers, update variables gandalf_wins and saruman_wins to count the number of times each sorcerer wins a clash.\n",
    "\n",
    "for i in range(spells):\n",
    "if gandalf[i] > saruman[i]:\n",
    "\tgandalf_wins = +1\n",
    "\telse gandalf[i] < saruman[i]:\n",
    "\t\tsaruman_wins = +1\n",
    "\n",
    "\n",
    "#Who won the battle?\n",
    "\n",
    "if gandalf_wins > saruman_wins:\n",
    "\tprint(\"gandalf the unbeatable!\")\n",
    "\telif gandalf_wins < saruman_wins \n",
    "\tprint(\"saruman the unbeatable!\")\n",
    "else: \n",
    "\tprint(\"the power of the the two sorcerers are in balance!\")\n"
   ]
  },
  {
   "cell_type": "code",
   "execution_count": 10,
   "metadata": {},
   "outputs": [
    {
     "ename": "IndentationError",
     "evalue": "expected an indented block (<ipython-input-10-1e03dbb97755>, line 17)",
     "output_type": "error",
     "traceback": [
      "\u001b[0;36m  File \u001b[0;32m\"<ipython-input-10-1e03dbb97755>\"\u001b[0;36m, line \u001b[0;32m17\u001b[0m\n\u001b[0;31m    if gandalf[i] > saruman[i]:\u001b[0m\n\u001b[0m    ^\u001b[0m\n\u001b[0;31mIndentationError\u001b[0m\u001b[0;31m:\u001b[0m expected an indented block\n"
     ]
    }
   ],
   "source": [
    "#Create two variables called gandalf and saruman and assign them the spell power lists. Create a variable called spells to store the number of spells that the sorcerers cast\n",
    "\n",
    "gandalf = [10, 11, 13, 30, 22, 11, 10, 33, 22, 22]\n",
    "saruman = [23, 66, 12, 43, 12, 10, 44, 23, 12, 17]\n",
    "\n",
    "#Create a variable called spells to store the number of spells that the sorcerers cast\n",
    "spells=len(spell_lenght)\n",
    "\n",
    "#Create two variables called gandalf_wins and saruman_wins. Set both of them to 0.\n",
    "\n",
    "gandalf_wins=0\n",
    "saruman_wins=0\n",
    "\n",
    "#Using the lists of spells of both sorcerers, update variables gandalf_wins and saruman_wins to count the number of times each sorcerer wins a clash.\n",
    "\n",
    "for i in range(spells):\n",
    "if gandalf[i] > saruman[i]:\n",
    "\tgandalf_wins = +1\n",
    "\telse gandalf[i] < saruman[i]:\n",
    "\t\tsaruman_wins = +1\n",
    "\n",
    "\n",
    "#Who won the battle?\n",
    "\n",
    "if gandalf_wins > saruman_wins:\n",
    "\tprint(\"gandalf the unbeatable!\")\n",
    "\telif gandalf_wins < saruman_wins \n",
    "\tprint(\"saruman the unbeatable!\")\n",
    "else: \n",
    "\tprint(\"the power of the the two sorcerers are in balance!\")"
   ]
  },
  {
   "cell_type": "code",
   "execution_count": 11,
   "metadata": {},
   "outputs": [
    {
     "ename": "IndentationError",
     "evalue": "expected an indented block (<ipython-input-11-3ab890eace53>, line 17)",
     "output_type": "error",
     "traceback": [
      "\u001b[0;36m  File \u001b[0;32m\"<ipython-input-11-3ab890eace53>\"\u001b[0;36m, line \u001b[0;32m17\u001b[0m\n\u001b[0;31m    if gandalf[i] > saruman[i]:\u001b[0m\n\u001b[0m    ^\u001b[0m\n\u001b[0;31mIndentationError\u001b[0m\u001b[0;31m:\u001b[0m expected an indented block\n"
     ]
    }
   ],
   "source": [
    "#Create two variables called gandalf and saruman and assign them the spell power lists. Create a variable called spells to store the number of spells that the sorcerers cast\n",
    "\n",
    "gandalf = [10, 11, 13, 30, 22, 11, 10, 33, 22, 22]\n",
    "saruman = [23, 66, 12, 43, 12, 10, 44, 23, 12, 17]\n",
    "\n",
    "#Create a variable called spells to store the number of spells that the sorcerers cast\n",
    "spells=len(gandalf)\n",
    "\n",
    "#Create two variables called gandalf_wins and saruman_wins. Set both of them to 0.\n",
    "\n",
    "gandalf_wins=0\n",
    "saruman_wins=0\n",
    "\n",
    "#Using the lists of spells of both sorcerers, update variables gandalf_wins and saruman_wins to count the number of times each sorcerer wins a clash.\n",
    "\n",
    "for i in range(spells):\n",
    "if gandalf[i] > saruman[i]:\n",
    "\tgandalf_wins = +1\n",
    "\telse gandalf[i] < saruman[i]:\n",
    "\t\tsaruman_wins = +1\n",
    "\n",
    "\n",
    "#Who won the battle?\n",
    "\n",
    "if gandalf_wins > saruman_wins:\n",
    "\tprint(\"gandalf the unbeatable!\")\n",
    "\telif gandalf_wins < saruman_wins \n",
    "\tprint(\"saruman the unbeatable!\")\n",
    "else: \n",
    "\tprint(\"the power of the the two sorcerers are in balance!\")"
   ]
  },
  {
   "cell_type": "code",
   "execution_count": 13,
   "metadata": {},
   "outputs": [
    {
     "ename": "TabError",
     "evalue": "inconsistent use of tabs and spaces in indentation (<ipython-input-13-6e514cd6a436>, line 19)",
     "output_type": "error",
     "traceback": [
      "\u001b[0;36m  File \u001b[0;32m\"<ipython-input-13-6e514cd6a436>\"\u001b[0;36m, line \u001b[0;32m19\u001b[0m\n\u001b[0;31m    else gandalf[i] < saruman[i]:\u001b[0m\n\u001b[0m                                 ^\u001b[0m\n\u001b[0;31mTabError\u001b[0m\u001b[0;31m:\u001b[0m inconsistent use of tabs and spaces in indentation\n"
     ]
    }
   ],
   "source": [
    "#Create two variables called gandalf and saruman and assign them the spell power lists. Create a variable called spells to store the number of spells that the sorcerers cast\n",
    "\n",
    "gandalf = [10, 11, 13, 30, 22, 11, 10, 33, 22, 22]\n",
    "saruman = [23, 66, 12, 43, 12, 10, 44, 23, 12, 17]\n",
    "\n",
    "#Create a variable called spells to store the number of spells that the sorcerers cast\n",
    "spells=len(spell_lenght)\n",
    "\n",
    "#Create two variables called gandalf_wins and saruman_wins. Set both of them to 0.\n",
    "\n",
    "gandalf_wins=0\n",
    "saruman_wins=0\n",
    "\n",
    "#Using the lists of spells of both sorcerers, update variables gandalf_wins and saruman_wins to count the number of times each sorcerer wins a clash.\n",
    "\n",
    "for i in range(spells):\n",
    "\tif gandalf[i] > saruman[i]:\n",
    "\t\tgandalf_wins = +1\n",
    "        else gandalf[i] < saruman[i]:\n",
    "\t\tsaruman_wins = +1\n",
    "\n",
    "\n",
    "#Who won the battle?\n",
    "\n",
    "if gandalf_wins > saruman_wins:\n",
    "\tprint(\"gandalf the unbeatable!\")\n",
    "\telif gandalf_wins < saruman_wins \n",
    "\tprint(\"saruman the unbeatable!\")\n",
    "else: \n",
    "\tprint(\"the power of the the two sorcerers are in balance!\")"
   ]
  },
  {
   "cell_type": "code",
   "execution_count": 14,
   "metadata": {},
   "outputs": [
    {
     "ename": "TabError",
     "evalue": "inconsistent use of tabs and spaces in indentation (<ipython-input-14-6e514cd6a436>, line 19)",
     "output_type": "error",
     "traceback": [
      "\u001b[0;36m  File \u001b[0;32m\"<ipython-input-14-6e514cd6a436>\"\u001b[0;36m, line \u001b[0;32m19\u001b[0m\n\u001b[0;31m    else gandalf[i] < saruman[i]:\u001b[0m\n\u001b[0m                                 ^\u001b[0m\n\u001b[0;31mTabError\u001b[0m\u001b[0;31m:\u001b[0m inconsistent use of tabs and spaces in indentation\n"
     ]
    }
   ],
   "source": [
    "#Create two variables called gandalf and saruman and assign them the spell power lists. Create a variable called spells to store the number of spells that the sorcerers cast\n",
    "\n",
    "gandalf = [10, 11, 13, 30, 22, 11, 10, 33, 22, 22]\n",
    "saruman = [23, 66, 12, 43, 12, 10, 44, 23, 12, 17]\n",
    "\n",
    "#Create a variable called spells to store the number of spells that the sorcerers cast\n",
    "spells=len(spell_lenght)\n",
    "\n",
    "#Create two variables called gandalf_wins and saruman_wins. Set both of them to 0.\n",
    "\n",
    "gandalf_wins=0\n",
    "saruman_wins=0\n",
    "\n",
    "#Using the lists of spells of both sorcerers, update variables gandalf_wins and saruman_wins to count the number of times each sorcerer wins a clash.\n",
    "\n",
    "for i in range(spells):\n",
    "\tif gandalf[i] > saruman[i]:\n",
    "\t\tgandalf_wins = +1\n",
    "        else gandalf[i] < saruman[i]:\n",
    "\t\tsaruman_wins = +1\n",
    "\n",
    "\n",
    "#Who won the battle?\n",
    "\n",
    "if gandalf_wins > saruman_wins:\n",
    "\tprint(\"gandalf the unbeatable!\")\n",
    "\telif gandalf_wins < saruman_wins \n",
    "\tprint(\"saruman the unbeatable!\")\n",
    "else: \n",
    "\tprint(\"the power of the the two sorcerers are in balance!\")"
   ]
  },
  {
   "cell_type": "code",
   "execution_count": 16,
   "metadata": {},
   "outputs": [
    {
     "ename": "IndentationError",
     "evalue": "unindent does not match any outer indentation level (<tokenize>, line 19)",
     "output_type": "error",
     "traceback": [
      "\u001b[0;36m  File \u001b[0;32m\"<tokenize>\"\u001b[0;36m, line \u001b[0;32m19\u001b[0m\n\u001b[0;31m    else gandalf[i] < saruman[i]:\u001b[0m\n\u001b[0m    ^\u001b[0m\n\u001b[0;31mIndentationError\u001b[0m\u001b[0;31m:\u001b[0m unindent does not match any outer indentation level\n"
     ]
    }
   ],
   "source": [
    "#Create two variables called gandalf and saruman and assign them the spell power lists. Create a variable called spells to store the number of spells that the sorcerers cast\n",
    "\n",
    "gandalf = [10, 11, 13, 30, 22, 11, 10, 33, 22, 22]\n",
    "saruman = [23, 66, 12, 43, 12, 10, 44, 23, 12, 17]\n",
    "\n",
    "#Create a variable called spells to store the number of spells that the sorcerers cast\n",
    "spells=len(spell_lenght)\n",
    "\n",
    "#Create two variables called gandalf_wins and saruman_wins. Set both of them to 0.\n",
    "\n",
    "gandalf_wins=0\n",
    "saruman_wins=0\n",
    "\n",
    "#Using the lists of spells of both sorcerers, update variables gandalf_wins and saruman_wins to count the number of times each sorcerer wins a clash.\n",
    "\n",
    "for i in range(spells):\n",
    "\tif gandalf[i] > saruman[i]:\n",
    "\t\tgandalf_wins = +1\n",
    "    else gandalf[i] < saruman[i]:\n",
    "\t\tsaruman_wins = +1\n",
    "\n",
    "\n",
    "#Who won the battle?\n",
    "\n",
    "if gandalf_wins > saruman_wins:\n",
    "\tprint(\"gandalf the unbeatable!\")\n",
    "elif gandalf_wins < saruman_wins \n",
    "\tprint(\"saruman the unbeatable!\")\n",
    "else: \n",
    "\tprint(\"the power of the the two sorcerers are in balance!\")"
   ]
  },
  {
   "cell_type": "code",
   "execution_count": 19,
   "metadata": {},
   "outputs": [
    {
     "ename": "TabError",
     "evalue": "inconsistent use of tabs and spaces in indentation (<ipython-input-19-f7647d2b43f0>, line 18)",
     "output_type": "error",
     "traceback": [
      "\u001b[0;36m  File \u001b[0;32m\"<ipython-input-19-f7647d2b43f0>\"\u001b[0;36m, line \u001b[0;32m18\u001b[0m\n\u001b[0;31m    gandalf_wins = +1\u001b[0m\n\u001b[0m                     ^\u001b[0m\n\u001b[0;31mTabError\u001b[0m\u001b[0;31m:\u001b[0m inconsistent use of tabs and spaces in indentation\n"
     ]
    }
   ],
   "source": [
    "#Create two variables called gandalf and saruman and assign them the spell power lists. Create a variable called spells to store the number of spells that the sorcerers cast\n",
    "\n",
    "gandalf = [10, 11, 13, 30, 22, 11, 10, 33, 22, 22]\n",
    "saruman = [23, 66, 12, 43, 12, 10, 44, 23, 12, 17]\n",
    "\n",
    "#Create a variable called spells to store the number of spells that the sorcerers cast\n",
    "spells=len(spell_lenght)\n",
    "\n",
    "#Create two variables called gandalf_wins and saruman_wins. Set both of them to 0.\n",
    "\n",
    "gandalf_wins=0\n",
    "saruman_wins=0\n",
    "\n",
    "#Using the lists of spells of both sorcerers, update variables gandalf_wins and saruman_wins to count the number of times each sorcerer wins a clash.\n",
    "\n",
    "for i in range(spells):\n",
    "    if gandalf[i] > saruman[i]:\n",
    "        gandalf_wins = +1\n",
    "    elif gandalf[i] < saruman[i]:\n",
    "        saruman_wins = +1\n",
    "\n",
    "\n",
    "#Who won the battle?\n",
    "\n",
    "if gandalf_wins > saruman_wins:\n",
    "    print(\"gandalf the unbeatable!\")\n",
    "elif gandalf_wins < saruman_wins \n",
    "    print(\"saruman the unbeatable!\")\n",
    "else: \n",
    "    print(\"the power of the the two sorcerers are in balance!\")"
   ]
  },
  {
   "cell_type": "code",
   "execution_count": 20,
   "metadata": {},
   "outputs": [
    {
     "ename": "SyntaxError",
     "evalue": "invalid syntax (<ipython-input-20-c260113e4d05>, line 27)",
     "output_type": "error",
     "traceback": [
      "\u001b[0;36m  File \u001b[0;32m\"<ipython-input-20-c260113e4d05>\"\u001b[0;36m, line \u001b[0;32m27\u001b[0m\n\u001b[0;31m    elif gandalf_wins < saruman_wins\u001b[0m\n\u001b[0m                                     ^\u001b[0m\n\u001b[0;31mSyntaxError\u001b[0m\u001b[0;31m:\u001b[0m invalid syntax\n"
     ]
    }
   ],
   "source": [
    "#Create two variables called gandalf and saruman and assign them the spell power lists. Create a variable called spells to store the number of spells that the sorcerers cast\n",
    "\n",
    "gandalf = [10, 11, 13, 30, 22, 11, 10, 33, 22, 22]\n",
    "saruman = [23, 66, 12, 43, 12, 10, 44, 23, 12, 17]\n",
    "\n",
    "#Create a variable called spells to store the number of spells that the sorcerers cast\n",
    "spells=len(spell_lenght)\n",
    "\n",
    "#Create two variables called gandalf_wins and saruman_wins. Set both of them to 0.\n",
    "\n",
    "gandalf_wins=0\n",
    "saruman_wins=0\n",
    "\n",
    "#Using the lists of spells of both sorcerers, update variables gandalf_wins and saruman_wins to count the number of times each sorcerer wins a clash.\n",
    "\n",
    "for i in range(spells):\n",
    "    if gandalf[i] > saruman[i]:\n",
    "        gandalf_wins = +1\n",
    "    elif gandalf[i] < saruman[i]:\n",
    "        saruman_wins = +1\n",
    "\n",
    "\n",
    "#Who won the battle?\n",
    "\n",
    "if gandalf_wins > saruman_wins:\n",
    "    print(\"gandalf the unbeatable!\")\n",
    "elif gandalf_wins < saruman_wins \n",
    "    print(\"saruman the unbeatable!\")\n",
    "else: \n",
    "    print(\"the power of the the two sorcerers are in balance!\")"
   ]
  },
  {
   "cell_type": "code",
   "execution_count": 21,
   "metadata": {},
   "outputs": [
    {
     "ename": "SyntaxError",
     "evalue": "invalid syntax (<ipython-input-21-c260113e4d05>, line 27)",
     "output_type": "error",
     "traceback": [
      "\u001b[0;36m  File \u001b[0;32m\"<ipython-input-21-c260113e4d05>\"\u001b[0;36m, line \u001b[0;32m27\u001b[0m\n\u001b[0;31m    elif gandalf_wins < saruman_wins\u001b[0m\n\u001b[0m                                     ^\u001b[0m\n\u001b[0;31mSyntaxError\u001b[0m\u001b[0;31m:\u001b[0m invalid syntax\n"
     ]
    }
   ],
   "source": [
    "#Create two variables called gandalf and saruman and assign them the spell power lists. Create a variable called spells to store the number of spells that the sorcerers cast\n",
    "\n",
    "gandalf = [10, 11, 13, 30, 22, 11, 10, 33, 22, 22]\n",
    "saruman = [23, 66, 12, 43, 12, 10, 44, 23, 12, 17]\n",
    "\n",
    "#Create a variable called spells to store the number of spells that the sorcerers cast\n",
    "spells=len(spell_lenght)\n",
    "\n",
    "#Create two variables called gandalf_wins and saruman_wins. Set both of them to 0.\n",
    "\n",
    "gandalf_wins=0\n",
    "saruman_wins=0\n",
    "\n",
    "#Using the lists of spells of both sorcerers, update variables gandalf_wins and saruman_wins to count the number of times each sorcerer wins a clash.\n",
    "\n",
    "for i in range(spells):\n",
    "    if gandalf[i] > saruman[i]:\n",
    "        gandalf_wins = +1\n",
    "    elif gandalf[i] < saruman[i]:\n",
    "        saruman_wins = +1\n",
    "\n",
    "\n",
    "#Who won the battle?\n",
    "\n",
    "if gandalf_wins > saruman_wins:\n",
    "    print(\"gandalf the unbeatable!\")\n",
    "elif gandalf_wins < saruman_wins:\n",
    "    print(\"saruman the unbeatable!\")\n",
    "else: \n",
    "    print(\"the power of the the two sorcerers are in balance!\")"
   ]
  },
  {
   "cell_type": "code",
   "execution_count": 22,
   "metadata": {},
   "outputs": [
    {
     "ename": "NameError",
     "evalue": "name 'spell_lenght' is not defined",
     "output_type": "error",
     "traceback": [
      "\u001b[0;31m---------------------------------------------------------------------------\u001b[0m",
      "\u001b[0;31mNameError\u001b[0m                                 Traceback (most recent call last)",
      "\u001b[0;32m<ipython-input-22-cf5934403b37>\u001b[0m in \u001b[0;36m<module>\u001b[0;34m\u001b[0m\n\u001b[1;32m      5\u001b[0m \u001b[0;34m\u001b[0m\u001b[0m\n\u001b[1;32m      6\u001b[0m \u001b[0;31m#Create a variable called spells to store the number of spells that the sorcerers cast\u001b[0m\u001b[0;34m\u001b[0m\u001b[0;34m\u001b[0m\u001b[0;34m\u001b[0m\u001b[0m\n\u001b[0;32m----> 7\u001b[0;31m \u001b[0mspells\u001b[0m\u001b[0;34m=\u001b[0m\u001b[0mlen\u001b[0m\u001b[0;34m(\u001b[0m\u001b[0mspell_lenght\u001b[0m\u001b[0;34m)\u001b[0m\u001b[0;34m\u001b[0m\u001b[0;34m\u001b[0m\u001b[0m\n\u001b[0m\u001b[1;32m      8\u001b[0m \u001b[0;34m\u001b[0m\u001b[0m\n\u001b[1;32m      9\u001b[0m \u001b[0;31m#Create two variables called gandalf_wins and saruman_wins. Set both of them to 0.\u001b[0m\u001b[0;34m\u001b[0m\u001b[0;34m\u001b[0m\u001b[0;34m\u001b[0m\u001b[0m\n",
      "\u001b[0;31mNameError\u001b[0m: name 'spell_lenght' is not defined"
     ]
    }
   ],
   "source": [
    "#Create two variables called gandalf and saruman and assign them the spell power lists. Create a variable called spells to store the number of spells that the sorcerers cast\n",
    "\n",
    "gandalf = [10, 11, 13, 30, 22, 11, 10, 33, 22, 22]\n",
    "saruman = [23, 66, 12, 43, 12, 10, 44, 23, 12, 17]\n",
    "\n",
    "#Create a variable called spells to store the number of spells that the sorcerers cast\n",
    "spells=len(spell_lenght)\n",
    "\n",
    "#Create two variables called gandalf_wins and saruman_wins. Set both of them to 0.\n",
    "\n",
    "gandalf_wins=0\n",
    "saruman_wins=0\n",
    "\n",
    "#Using the lists of spells of both sorcerers, update variables gandalf_wins and saruman_wins to count the number of times each sorcerer wins a clash.\n",
    "\n",
    "for i in range(spells):\n",
    "    if gandalf[i] > saruman[i]:\n",
    "        gandalf_wins = +1\n",
    "    elif gandalf[i] < saruman[i]:\n",
    "        saruman_wins = +1\n",
    "\n",
    "\n",
    "#Who won the battle?\n",
    "\n",
    "if gandalf_wins > saruman_wins:\n",
    "    print(\"gandalf the unbeatable!\")\n",
    "elif gandalf_wins < saruman_wins:\n",
    "    print(\"saruman the unbeatable!\")\n",
    "else: \n",
    "    print(\"the power of the the two sorcerers are in balance!\")"
   ]
  },
  {
   "cell_type": "code",
   "execution_count": 23,
   "metadata": {},
   "outputs": [
    {
     "name": "stdout",
     "output_type": "stream",
     "text": [
      "the power of the the two sorcerers are in balance!\n"
     ]
    }
   ],
   "source": [
    "#Create two variables called gandalf and saruman and assign them the spell power lists. Create a variable called spells to store the number of spells that the sorcerers cast\n",
    "\n",
    "gandalf = [10, 11, 13, 30, 22, 11, 10, 33, 22, 22]\n",
    "saruman = [23, 66, 12, 43, 12, 10, 44, 23, 12, 17]\n",
    "\n",
    "#Create a variable called spells to store the number of spells that the sorcerers cast\n",
    "spells=len(saruman)\n",
    "\n",
    "#Create two variables called gandalf_wins and saruman_wins. Set both of them to 0.\n",
    "\n",
    "gandalf_wins=0\n",
    "saruman_wins=0\n",
    "\n",
    "#Using the lists of spells of both sorcerers, update variables gandalf_wins and saruman_wins to count the number of times each sorcerer wins a clash.\n",
    "\n",
    "for i in range(spells):\n",
    "    if gandalf[i] > saruman[i]:\n",
    "        gandalf_wins = +1\n",
    "    elif gandalf[i] < saruman[i]:\n",
    "        saruman_wins = +1\n",
    "\n",
    "\n",
    "#Who won the battle?\n",
    "\n",
    "if gandalf_wins > saruman_wins:\n",
    "    print(\"gandalf the unbeatable!\")\n",
    "elif gandalf_wins < saruman_wins:\n",
    "    print(\"saruman the unbeatable!\")\n",
    "else: \n",
    "    print(\"the power of the the two sorcerers are in balance!\")"
   ]
  },
  {
   "cell_type": "code",
   "execution_count": null,
   "metadata": {},
   "outputs": [],
   "source": []
  }
 ],
 "metadata": {
  "kernelspec": {
   "display_name": "Python 3",
   "language": "python",
   "name": "python3"
  },
  "language_info": {
   "codemirror_mode": {
    "name": "ipython",
    "version": 3
   },
   "file_extension": ".py",
   "mimetype": "text/x-python",
   "name": "python",
   "nbconvert_exporter": "python",
   "pygments_lexer": "ipython3",
   "version": "3.8.5"
  }
 },
 "nbformat": 4,
 "nbformat_minor": 4
}
