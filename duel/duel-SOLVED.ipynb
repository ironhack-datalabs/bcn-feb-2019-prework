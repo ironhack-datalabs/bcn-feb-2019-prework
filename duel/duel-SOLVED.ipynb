{
  "nbformat": 4,
  "nbformat_minor": 0,
  "metadata": {
    "colab": {
      "name": "duel.ipynb",
      "version": "0.3.2",
      "provenance": []
    },
    "language_info": {
      "codemirror_mode": {
        "name": "ipython",
        "version": 3
      },
      "file_extension": ".py",
      "mimetype": "text/x-python",
      "name": "python",
      "nbconvert_exporter": "python",
      "pygments_lexer": "ipython3",
      "version": "3.6.7"
    },
    "kernelspec": {
      "display_name": "Python 3",
      "language": "python",
      "name": "python3"
    }
  },
  "cells": [
    {
      "cell_type": "markdown",
      "metadata": {
        "id": "3xQ5asfbIqch",
        "colab_type": "text"
      },
      "source": [
        "# Duel of sorcerers\n",
        "You are witnessing an epic battle between two powerful sorcerers: Gandalf and Saruman. Each sorcerer has 10 spells of variable power in their mind and they are going to throw them one after the other. The winner of the duel will be the one who wins more of those clashes between spells. Spells are represented as a list of 10 integers whose value equals the power of the spell.\n",
        "```\n",
        "gandalf = [10, 11, 13, 30, 22, 11, 10, 33, 22, 22]\n",
        "saruman = [23, 66, 12, 43, 12, 10, 44, 23, 12, 17]\n",
        "```\n",
        "For example:\n",
        "1. The first clash is won by Saruman: 10 against 23, wins 23\n",
        "2. The second clash wins Saruman: 11 against 66, wins 66\n",
        "3. etc.\n",
        "\n",
        "\n",
        "You will create two variables, one for each sorcerer, where the sum of clashes won will be stored. Depending on which variable is greater at the end of the duel, you will show one of the following three results on the screen:\n",
        "* Gandalf wins\n",
        "* Saruman wins\n",
        "* Tie\n",
        "\n",
        "<img src=\"https://github.com/MartinPeTo/bcn-feb-2019-prework/blob/master/duel/images/content_lightning_bolt_big.jpg?raw=1\" width=\"400\">"
      ]
    },
    {
      "cell_type": "markdown",
      "metadata": {
        "id": "YsDPvaHDIqcj",
        "colab_type": "text"
      },
      "source": [
        "## Solution"
      ]
    },
    {
      "cell_type": "code",
      "metadata": {
        "id": "XdFjQUbOIqck",
        "colab_type": "code",
        "colab": {}
      },
      "source": [
        "# Assign spell power lists to variables\n",
        "\n",
        "gandalf = [10, 11, 13, 30, 22, 11, 10, 33, 22, 22]\n",
        "saruman = [23, 66, 12, 43, 12, 10, 44, 23, 12, 17]"
      ],
      "execution_count": 0,
      "outputs": []
    },
    {
      "cell_type": "code",
      "metadata": {
        "id": "JzIrNonsIqco",
        "colab_type": "code",
        "colab": {}
      },
      "source": [
        "# Assign 0 to each variable that stores the victories\n",
        "gandalf_vic = 0\n",
        "saruman_vic = 0\n"
      ],
      "execution_count": 0,
      "outputs": []
    },
    {
      "cell_type": "code",
      "metadata": {
        "id": "Me-x2ZPtIqcq",
        "colab_type": "code",
        "colab": {}
      },
      "source": [
        "# Execution of spell clashes\n",
        "for spell in range (0, len(gandalf)):\n",
        "  if gandalf[spell] > saruman[spell]:\n",
        "    gandalf_vic +=1\n",
        "  elif gandalf[spell] < saruman[spell]:\n",
        "    saruman_vic +=1\n",
        " \n",
        "  "
      ],
      "execution_count": 0,
      "outputs": []
    },
    {
      "cell_type": "code",
      "metadata": {
        "id": "RmSsGywBIqct",
        "colab_type": "code",
        "colab": {
          "base_uri": "https://localhost:8080/",
          "height": 34
        },
        "outputId": "4c50dc0c-d502-449a-9e7f-90e31b82265b"
      },
      "source": [
        "# We check who has won, do not forget the possibility of a draw.\n",
        "# Print the result based on the winner.\n",
        "if gandalf_vic > saruman_vic:\n",
        "  print ('Galdalf wins', gandalf_vic, \"at\", saruman_vic)\n",
        "elif gandalf_vic < saruman_vic:\n",
        "  print ('Saruman wins', saruman_vic, \"at\", gandalf_vic)\n",
        "else:\n",
        "  print ('Draw at', gandalf_vic, ', friendship wins')\n"
      ],
      "execution_count": 30,
      "outputs": [
        {
          "output_type": "stream",
          "text": [
            "Galdalf wins 6 at 4\n"
          ],
          "name": "stdout"
        }
      ]
    },
    {
      "cell_type": "markdown",
      "metadata": {
        "id": "IPz6FIeUIqcx",
        "colab_type": "text"
      },
      "source": [
        "## Goals\n",
        "\n",
        "1. Treatment of lists\n",
        "2. Use of **for loop**\n",
        "3. Use of conditional **if-elif-else**\n",
        "4. Use of the functions **range(), len()**\n",
        "5. Print"
      ]
    },
    {
      "cell_type": "markdown",
      "metadata": {
        "id": "7SYqDlMnIqcy",
        "colab_type": "text"
      },
      "source": [
        "## Bonus\n",
        "\n",
        "1. Spells now have a name and there is a dictionary that relates that name to a power.\n",
        "2. A sorcerer wins if he succeeds in winning 3 spell clashes in a row.\n",
        "3. Average of each of the spell lists.\n",
        "4. Standard deviation of each of the spell lists.\n",
        "\n",
        "```\n",
        "POWER = {\n",
        "    'Fireball': 50, \n",
        "    'Lightning bolt': 40, \n",
        "    'Magic arrow': 10, \n",
        "    'Black Tentacles': 25, \n",
        "    'Contagion': 45\n",
        "}\n",
        "\n",
        "gandalf = ['Fireball', 'Lightning bolt', 'Lightning bolt', 'Magic arrow', 'Fireball', \n",
        "           'Magic arrow', 'Lightning bolt', 'Fireball', 'Fireball', 'Fireball']\n",
        "saruman = ['Contagion', 'Contagion', 'Black Tentacles', 'Fireball', 'Black Tentacles', \n",
        "           'Lightning bolt', 'Magic arrow', 'Contagion', 'Magic arrow', 'Magic arrow']\n",
        "```\n",
        "\n",
        "Good luck!"
      ]
    },
    {
      "cell_type": "code",
      "metadata": {
        "id": "bw-f81g2Iqcz",
        "colab_type": "code",
        "colab": {}
      },
      "source": [
        "# 1. Spells now have a name and there is a dictionary that relates that name to a power.\n",
        "# variables\n",
        "\n",
        "POWER = {\n",
        "    'Fireball': 50, \n",
        "    'Lightning bolt': 40, \n",
        "    'Magic arrow': 10, \n",
        "    'Black Tentacles': 25, \n",
        "    'Contagion': 45\n",
        "}\n",
        "\n",
        "gandalf = ['Fireball', 'Lightning bolt', 'Lightning bolt', 'Magic arrow', 'Fireball', \n",
        "           'Magic arrow', 'Lightning bolt', 'Fireball', 'Magic arrow', 'Fireball']\n",
        "saruman = ['Contagion', 'Contagion', 'Black Tentacles', 'Fireball', 'Black Tentacles', \n",
        "           'Lightning bolt', 'Magic arrow', 'Contagion', 'Magic arrow', 'Magic arrow']"
      ],
      "execution_count": 0,
      "outputs": []
    },
    {
      "cell_type": "code",
      "metadata": {
        "id": "hQ32idVAIqc1",
        "colab_type": "code",
        "colab": {
          "base_uri": "https://localhost:8080/",
          "height": 51
        },
        "outputId": "4407b270-0736-405f-b6e7-4fdcb312a682"
      },
      "source": [
        "# Assign spell power lists to variables\n",
        "gandalf_power = []\n",
        "saruman_power = []\n",
        "for spell in range (0, len(gandalf)):\n",
        "  gandalf_power.append(POWER[gandalf[spell]])\n",
        "  saruman_power.append(POWER[saruman[spell]])\n",
        "  \n",
        "print (gandalf_power)\n",
        "print (saruman_power)"
      ],
      "execution_count": 41,
      "outputs": [
        {
          "output_type": "stream",
          "text": [
            "[50, 40, 40, 10, 50, 10, 40, 50, 10, 50]\n",
            "[45, 45, 25, 50, 25, 40, 10, 45, 10, 10]\n"
          ],
          "name": "stdout"
        }
      ]
    },
    {
      "cell_type": "code",
      "metadata": {
        "id": "-2BOPSy6Iqc3",
        "colab_type": "code",
        "colab": {
          "base_uri": "https://localhost:8080/",
          "height": 34
        },
        "outputId": "3722c43c-7a2f-4801-d703-2684e90df521"
      },
      "source": [
        "# 2. A sorcerer wins if he succeeds in winning 3 spell clashes in a row.\n",
        "\n",
        "# Execution of spell clashes\n",
        "for spell in range (0, len(gandalf)):\n",
        "  if gandalf[spell] > saruman[spell]:\n",
        "    gandalf_vic +=1\n",
        "    saruman_vic = 0\n",
        "    if gandalf_vic == 3:\n",
        "      break\n",
        "  elif gandalf[spell] < saruman[spell]:\n",
        "    saruman_vic +=1\n",
        "    gandalf_vic = 0\n",
        "    if saruman_vic == 3:\n",
        "      break\n",
        "  else:\n",
        "    saruman_vic = 0\n",
        "    gandalf_vic = 0\n",
        "\n",
        "# check for 3 wins in a row\n",
        "  \n",
        "\n",
        "# check the winner\n",
        "if gandalf_vic == 3:\n",
        "  print ('Galdalf wins')\n",
        "elif saruman_vic == 3:\n",
        "  print ('Saruman wins')\n",
        "elif gandalf_vic > saruman_vic:\n",
        "  print ('Galdalf wins', gandalf_vic, \"at\", saruman_vic)\n",
        "elif gandalf_vic < saruman_vic:\n",
        "  print ('Saruman wins', saruman_vic, \"at\", gandalf_vic)\n",
        "else:\n",
        "  print ('Draw, friendship wins')"
      ],
      "execution_count": 42,
      "outputs": [
        {
          "output_type": "stream",
          "text": [
            "Saruman wins 1 at 0\n"
          ],
          "name": "stdout"
        }
      ]
    },
    {
      "cell_type": "code",
      "metadata": {
        "id": "8U5KwV4SIqc5",
        "colab_type": "code",
        "colab": {
          "base_uri": "https://localhost:8080/",
          "height": 51
        },
        "outputId": "6409f0e8-7709-43c7-b205-7741b8d8c30c"
      },
      "source": [
        "# 3. Average of each of the spell lists.\n",
        "average_gandalf = sum(gandalf_power)/len(gandalf_power)\n",
        "average_saruman = sum(saruman_power)/len(saruman_power)\n",
        "\n",
        "print('Gandalf average is', average_gandalf)\n",
        "print('Saruman average is', average_saruman)"
      ],
      "execution_count": 43,
      "outputs": [
        {
          "output_type": "stream",
          "text": [
            "Gandalf average is 35.0\n",
            "Saruman average is 30.5\n"
          ],
          "name": "stdout"
        }
      ]
    },
    {
      "cell_type": "code",
      "metadata": {
        "id": "-pG9iF17Iqc9",
        "colab_type": "code",
        "colab": {
          "base_uri": "https://localhost:8080/",
          "height": 51
        },
        "outputId": "107fef5b-ab78-45da-eb2c-2b255dc5026f"
      },
      "source": [
        "# 4. Standard deviation of each of the spell lists.\n",
        "\n",
        "x = 0\n",
        "for spell in gandalf_power:\n",
        "  x += (spell - average_gandalf)**2\n",
        "gandalf_stdev = (x/len(gandalf_power)-1)**0.5\n",
        "\n",
        "x = 0\n",
        "for spell in saruman_power:\n",
        "  x += (spell - average_saruman)**2\n",
        "saruman_stdev = (x/len(saruman_power)-1)**0.5\n",
        "\n",
        "print ('Gandalf spell list Standard Deviation =', gandalf_stdev)\n",
        "print ('Saruman spell list Standard Deviation =', saruman_stdev)\n"
      ],
      "execution_count": 44,
      "outputs": [
        {
          "output_type": "stream",
          "text": [
            "Gandalf spell list Standard Deviation = 16.852299546352718\n",
            "Saruman spell list Standard Deviation = 15.532224567009067\n"
          ],
          "name": "stdout"
        }
      ]
    },
    {
      "cell_type": "code",
      "metadata": {
        "id": "mRdJ2nXjIqc_",
        "colab_type": "code",
        "colab": {}
      },
      "source": [
        ""
      ],
      "execution_count": 0,
      "outputs": []
    }
  ]
}