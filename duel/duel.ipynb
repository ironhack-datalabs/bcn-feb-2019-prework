{
 "cells": [
  {
   "cell_type": "code",
   "execution_count": 7,
   "metadata": {},
   "outputs": [
    {
     "name": "stdout",
     "output_type": "stream",
     "text": [
      "Gandalf wins the clash\n",
      "The number of spells of each sorcer was\n",
      "Gandalf cast:  10 spells\n",
      "Saruman cast:  10 spells\n",
      "Gandalf wins:  6 clashes\n",
      "Saruman wins:  4 clashes\n"
     ]
    }
   ],
   "source": [
    "gandalf = [10, 11, 13, 30, 22, 11, 10, 33, 22, 22]\n",
    "saruman = [23, 66, 12, 43, 12, 10, 44, 23, 12, 17]\n",
    "gandalf_wins=0\n",
    "saruman_wins=0\n",
    "th=[]\n",
    "gandalf_spells=0\n",
    "saruman_spells=0\n",
    "tie=0\n",
    "gandalf_spellcast= len(gandalf)\n",
    "saruman_spellcast= len (saruman)\n",
    "sw=[]\n",
    "gw=[]\n",
    "for i in range(len(gandalf)):\n",
    "    if gandalf[i] > saruman[i]:\n",
    "        gandalf_wins += 1\n",
    "        gw.append(g_gandalf)\n",
    "    elif gandalf[i] < saruman[i]:\n",
    "        saruman_wins += 1\n",
    "        sw.append(g_saruman)\n",
    "    else:\n",
    "        tie += tie+1\n",
    "        th.append[i]\n",
    "if (gandalf_wins>saruman_wins):\n",
    "    print (\"Gandalf wins the clash\")\n",
    "elif (saruman_wins>gandalf_wins):\n",
    "    print (\"Saruman wins the clash\")\n",
    "else:\n",
    "    print (\"The clash was a tie\")\n",
    "print (\"The number of spells of each sorcer was\")\n",
    "print (\"Gandalf cast: \", gandalf_spellcast, \"spells\")\n",
    "print (\"Saruman cast: \", saruman_spellcast, \"spells\")\n",
    "print (\"Gandalf wins: \",gandalf_wins, \"clashes\")\n",
    "print (\"Saruman wins: \",saruman_wins, \"clashes\")"
   ]
  },
  {
   "cell_type": "code",
   "execution_count": null,
   "metadata": {},
   "outputs": [],
   "source": []
  }
 ],
 "metadata": {
  "kernelspec": {
   "display_name": "Python 3",
   "language": "python",
   "name": "python3"
  },
  "language_info": {
   "codemirror_mode": {
    "name": "ipython",
    "version": 3
   },
   "file_extension": ".py",
   "mimetype": "text/x-python",
   "name": "python",
   "nbconvert_exporter": "python",
   "pygments_lexer": "ipython3",
   "version": "3.7.4"
  }
 },
 "nbformat": 4,
 "nbformat_minor": 2
}
