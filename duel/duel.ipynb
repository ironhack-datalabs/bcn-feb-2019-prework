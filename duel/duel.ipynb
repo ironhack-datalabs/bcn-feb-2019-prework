{
 "cells": [
  {
   "cell_type": "markdown",
   "metadata": {},
   "source": [
    "# Duel of sorcerers\n",
    "You are witnessing an epic battle between two powerful sorcerers: Gandalf and Saruman. Each sorcerer has 10 spells of variable power in their mind and they are going to throw them one after the other. The winner of the duel will be the one who wins more of those clashes between spells. Spells are represented as a list of 10 integers whose value equals the power of the spell.\n",
    "```\n",
    "gandalf = [10, 11, 13, 30, 22, 11, 10, 33, 22, 22]\n",
    "saruman = [23, 66, 12, 43, 12, 10, 44, 23, 12, 17]\n",
    "```\n",
    "For example:\n",
    "1. The first clash is won by Saruman: 10 against 23, wins 23\n",
    "2. The second clash wins Saruman: 11 against 66, wins 66\n",
    "3. etc.\n",
    "\n",
    "\n",
    "You will create two variables, one for each sorcerer, where the sum of clashes won will be stored. Depending on which variable is greater at the end of the duel, you will show one of the following three results on the screen:\n",
    "* Gandalf wins\n",
    "* Saruman wins\n",
    "* Tie\n",
    "\n",
    "<img src=\"images/content_lightning_bolt_big.jpg\" width=\"400\">"
   ]
  },
  {
   "cell_type": "markdown",
   "metadata": {},
   "source": [
    "## Solution"
   ]
  },
  {
   "cell_type": "code",
   "execution_count": 7,
   "metadata": {},
   "outputs": [
    {
     "name": "stdout",
     "output_type": "stream",
     "text": [
      "Gandalf wins with 6 strikes!\n"
     ]
    }
   ],
   "source": [
    "# Assign spell power lists to variables\n",
    "\n",
    "gandalf = [10, 11, 13, 30, 22, 11, 10, 33, 22, 22]\n",
    "saruman = [23, 66, 12, 43, 12, 10, 44, 23, 12, 17]\n",
    "\n",
    "# Assign 0 to each variable that stores the victories\n",
    "gandalf_wins = 0\n",
    "saruman_wins = 0\n",
    "\n",
    "# Execution of spell clashes\n",
    "number_of_strikes = len(gandalf)\n",
    "for strike in range(number_of_strikes):\n",
    "    if gandalf[strike] > saruman[strike]:\n",
    "        gandalf_wins += 1\n",
    "    elif gandalf[strike] < saruman[strike]:\n",
    "        saruman_wins += 1\n",
    "    else:\n",
    "        continue\n",
    "\n",
    "# We check who has won, do not forget the possibility of a draw.\n",
    "# Print the result based on the winner.\n",
    "if gandalf_wins > saruman_wins:\n",
    "    print(\"Gandalf wins with\", gandalf_wins, \"strikes!\")\n",
    "elif gandalf_wins < saruman_wins:\n",
    "    print(\"Saruman wins with\", saruman_wins, \"strikes!\")\n",
    "else:\n",
    "    print(\"It's a tie!\")\n"
   ]
  },
  {
   "cell_type": "code",
   "execution_count": null,
   "metadata": {},
   "outputs": [],
   "source": [
    "\n"
   ]
  },
  {
   "cell_type": "code",
   "execution_count": null,
   "metadata": {},
   "outputs": [],
   "source": [
    "\n"
   ]
  },
  {
   "cell_type": "code",
   "execution_count": 4,
   "metadata": {},
   "outputs": [],
   "source": [
    "\n",
    "\n"
   ]
  },
  {
   "cell_type": "markdown",
   "metadata": {},
   "source": [
    "## Goals\n",
    "\n",
    "1. Treatment of lists\n",
    "2. Use of **for loop**\n",
    "3. Use of conditional **if-elif-else**\n",
    "4. Use of the functions **range(), len()**\n",
    "5. Print"
   ]
  },
  {
   "cell_type": "markdown",
   "metadata": {},
   "source": [
    "## Bonus\n",
    "\n",
    "1. Spells now have a name and there is a dictionary that relates that name to a power.\n",
    "2. A sorcerer wins if he succeeds in winning 3 spell clashes in a row.\n",
    "3. Average of each of the spell lists.\n",
    "4. Standard deviation of each of the spell lists.\n",
    "\n",
    "```\n",
    "POWER = {\n",
    "    'Fireball': 50, \n",
    "    'Lightning bolt': 40, \n",
    "    'Magic arrow': 10, \n",
    "    'Black Tentacles': 25, \n",
    "    'Contagion': 45\n",
    "}\n",
    "\n",
    "gandalf = ['Fireball', 'Lightning bolt', 'Lightning bolt', 'Magic arrow', 'Fireball', \n",
    "           'Magic arrow', 'Lightning bolt', 'Fireball', 'Fireball', 'Fireball']\n",
    "saruman = ['Contagion', 'Contagion', 'Black Tentacles', 'Fireball', 'Black Tentacles', \n",
    "           'Lightning bolt', 'Magic arrow', 'Contagion', 'Magic arrow', 'Magic arrow']\n",
    "```\n",
    "\n",
    "Good luck!"
   ]
  },
  {
   "cell_type": "code",
   "execution_count": 32,
   "metadata": {},
   "outputs": [
    {
     "name": "stdout",
     "output_type": "stream",
     "text": [
      "Gandalf wins after 9 rounds!\n",
      "The spell power average for Gandalf is:  35.0\n",
      "The spell power average for Saruman is:  30.5\n"
     ]
    }
   ],
   "source": [
    "# 1. Spells now have a name and there is a dictionary that relates that name to a power.\n",
    "# variables\n",
    "\n",
    "POWER = {\n",
    "    'Fireball': 50, \n",
    "    'Lightning bolt': 40, \n",
    "    'Magic arrow': 10, \n",
    "    'Black Tentacles': 25, \n",
    "    'Contagion': 45\n",
    "}\n",
    "\n",
    "# Assign spell power lists to variables\n",
    "gandalf = ['Fireball', 'Lightning bolt', 'Lightning bolt', 'Magic arrow', 'Fireball', \n",
    "           'Magic arrow', 'Lightning bolt', 'Fireball', 'Magic arrow', 'Fireball']\n",
    "saruman = ['Contagion', 'Contagion', 'Black Tentacles', 'Fireball', 'Black Tentacles', \n",
    "           'Lightning bolt', 'Magic arrow', 'Contagion', 'Magic arrow', 'Magic arrow']\n",
    "\n",
    "# 2. A sorcerer wins if he succeeds in winning 3 spell clashes in a row.\n",
    "gandalf_wins = []\n",
    "saruman_wins = []\n",
    "\n",
    "# check for 3 wins in a row\n",
    "def check_for_winner(player_wins):\n",
    "    streak = 0\n",
    "    for i in player_wins:\n",
    "        if i == 1:\n",
    "            streak += 1\n",
    "            if streak == 3:\n",
    "                return True\n",
    "        else:\n",
    "            streak = 0\n",
    "    return False\n",
    "\n",
    "# Execution of spell clashes\n",
    "number_of_strikes = len(gandalf)\n",
    "for i in range(number_of_strikes):\n",
    "    strike_gandalf = gandalf[i]\n",
    "    strike_saruman = saruman[i]\n",
    "    if POWER[strike_gandalf] > POWER[strike_saruman]:\n",
    "        gandalf_wins.append(1)\n",
    "        saruman_wins.append(0)\n",
    "    elif POWER[strike_gandalf] < POWER[strike_saruman]:\n",
    "        saruman_wins.append(1)\n",
    "        gandalf_wins.append(0)\n",
    "    else:\n",
    "        continue\n",
    "        \n",
    "    if check_for_winner(gandalf_wins):\n",
    "        print(\"Gandalf wins after\", i, \"rounds!\")\n",
    "    if check_for_winner(saruman_wins):\n",
    "        print(\"Saruman wins after\", i, \"rounds!\")\n",
    "\n",
    "\n",
    "# 3. Average of each of the spell lists.\n",
    "# 4. Standard deviation of each of the spell lists.\n",
    "from numpy import std, average\n",
    "\n",
    "spell_powers_gandalf = []\n",
    "spell_powers_saruman = []\n",
    "\n",
    "for i in range(number_of_strikes):\n",
    "    sum_gandalf += POWER[gandalf[i]]\n",
    "    sum_saruman += POWER[saruman[i]]\n",
    "    spell_powers_gandalf.append(POWER[gandalf[i]])\n",
    "    spell_powers_saruman.append(POWER[saruman[i]])\n",
    "    \n",
    "std_gandalf = std(spell_powers_gandalf)\n",
    "std_saruman = std(spell_powers_saruman)\n",
    "avg_gandalf = average(spell_powers_gandalf)\n",
    "avg_saruman = average(spell_powers_saruman)\n",
    "\n",
    "print(\"The spell power average for Gandalf is: \", avg_gandalf)\n",
    "print(\"The spell power average for Saruman is: \", avg_saruman)\n",
    "print(\"The standard deviation of spell power for Gandalf is: \", std_gandalf)\n",
    "print(\"The standard deviation of spell power for Saruman is: \", std_saruman)\n",
    "\n",
    "\n"
   ]
  },
  {
   "cell_type": "code",
   "execution_count": 6,
   "metadata": {},
   "outputs": [],
   "source": []
  },
  {
   "cell_type": "code",
   "execution_count": 7,
   "metadata": {},
   "outputs": [],
   "source": []
  },
  {
   "cell_type": "code",
   "execution_count": 8,
   "metadata": {},
   "outputs": [],
   "source": []
  },
  {
   "cell_type": "code",
   "execution_count": 9,
   "metadata": {},
   "outputs": [],
   "source": []
  },
  {
   "cell_type": "code",
   "execution_count": null,
   "metadata": {},
   "outputs": [],
   "source": []
  }
 ],
 "metadata": {
  "kernelspec": {
   "display_name": "Python 3",
   "language": "python",
   "name": "python3"
  },
  "language_info": {
   "codemirror_mode": {
    "name": "ipython",
    "version": 3
   },
   "file_extension": ".py",
   "mimetype": "text/x-python",
   "name": "python",
   "nbconvert_exporter": "python",
   "pygments_lexer": "ipython3",
   "version": "3.7.3"
  }
 },
 "nbformat": 4,
 "nbformat_minor": 2
}
