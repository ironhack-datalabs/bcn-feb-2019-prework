{
 "cells": [
  {
   "cell_type": "markdown",
   "metadata": {},
   "source": [
    "# Duel of sorcerers\n",
    "You are witnessing an epic battle between two powerful sorcerers: Gandalf and Saruman. Each sorcerer has 10 spells of variable power in their mind and they are going to throw them one after the other. The winner of the duel will be the one who wins more of those clashes between spells. Spells are represented as a list of 10 integers whose value equals the power of the spell.\n",
    "```\n",
    "gandalf = [10, 11, 13, 30, 22, 11, 10, 33, 22, 22]\n",
    "saruman = [23, 66, 12, 43, 12, 10, 44, 23, 12, 17]\n",
    "```\n",
    "For example:\n",
    "1. The first clash is won by Saruman: 10 against 23, wins 23\n",
    "2. The second clash wins Saruman: 11 against 66, wins 66\n",
    "3. etc.\n",
    "\n",
    "\n",
    "You will create two variables, one for each sorcerer, where the sum of clashes won will be stored. Depending on which variable is greater at the end of the duel, you will show one of the following three results on the screen:\n",
    "* Gandalf wins\n",
    "* Saruman wins\n",
    "* Tie\n",
    "\n",
    "<img src=\"images/content_lightning_bolt_big.jpg\" width=\"400\">"
   ]
  },
  {
   "cell_type": "markdown",
   "metadata": {},
   "source": [
    "## Solution"
   ]
  },
  {
   "cell_type": "code",
   "execution_count": 1,
   "metadata": {},
   "outputs": [],
   "source": [
    "# Assign spell power lists to variables\n",
    "\n",
    "gandalf = [10, 11, 13, 30, 22, 11, 10, 33, 22, 22]\n",
    "saruman = [23, 66, 12, 43, 12, 10, 44, 23, 12, 17]"
   ]
  },
  {
   "cell_type": "code",
   "execution_count": 2,
   "metadata": {},
   "outputs": [],
   "source": [
    "# Assign 0 to each variable that stores the victories\n",
    "gris = 0\n",
    "blanco = 0"
   ]
  },
  {
   "cell_type": "code",
   "execution_count": 3,
   "metadata": {},
   "outputs": [],
   "source": [
    "# Execution of spell clashes\n",
    "for lugar in range(len(saruman)):\n",
    "    if(gandalf[lugar] < saruman[lugar]):\n",
    "        blanco +=1\n",
    "    elif(gandalf[lugar] > saruman[lugar]):\n",
    "        gris +=1\n",
    "    else:\n",
    "        blanco +=0\n",
    "        gris +=0\n",
    "        "
   ]
  },
  {
   "cell_type": "code",
   "execution_count": 4,
   "metadata": {},
   "outputs": [
    {
     "name": "stdout",
     "output_type": "stream",
     "text": [
      "Gandalf wins\n"
     ]
    }
   ],
   "source": [
    "# We check who has won, do not forget the possibility of a draw.\n",
    "# Print the result based on the winner.\n",
    "if(gris < blanco):\n",
    "    print(\"Saruman wins\")\n",
    "elif(gris > blanco):\n",
    "    print(\"Gandalf wins\")\n",
    "else:\n",
    "    print(\"Tie\")"
   ]
  },
  {
   "cell_type": "markdown",
   "metadata": {},
   "source": [
    "## Goals\n",
    "\n",
    "1. Treatment of lists\n",
    "2. Use of **for loop**\n",
    "3. Use of conditional **if-elif-else**\n",
    "4. Use of the functions **range(), len()**\n",
    "5. Print"
   ]
  },
  {
   "cell_type": "markdown",
   "metadata": {},
   "source": [
    "## Bonus\n",
    "\n",
    "1. Spells now have a name and there is a dictionary that relates that name to a power.\n",
    "2. A sorcerer wins if he succeeds in winning 3 spell clashes in a row.\n",
    "3. Average of each of the spell lists.\n",
    "4. Standard deviation of each of the spell lists.\n",
    "\n",
    "```\n",
    "POWER = {\n",
    "    'Fireball': 50, \n",
    "    'Lightning bolt': 40, \n",
    "    'Magic arrow': 10, \n",
    "    'Black Tentacles': 25, \n",
    "    'Contagion': 45\n",
    "}\n",
    "\n",
    "gandalf = ['Fireball', 'Lightning bolt', 'Lightning bolt', 'Magic arrow', 'Fireball', \n",
    "           'Magic arrow', 'Lightning bolt', 'Fireball', 'Fireball', 'Fireball']\n",
    "saruman = ['Contagion', 'Contagion', 'Black Tentacles', 'Fireball', 'Black Tentacles', \n",
    "           'Lightning bolt', 'Magic arrow', 'Contagion', 'Magic arrow', 'Magic arrow']\n",
    "```\n",
    "\n",
    "Good luck!"
   ]
  },
  {
   "cell_type": "code",
   "execution_count": 5,
   "metadata": {},
   "outputs": [],
   "source": [
    "# 1. Spells now have a name and there is a dictionary that relates that name to a power.\n",
    "# variables\n",
    "\n",
    "POWER = {\n",
    "    'Fireball': 50, \n",
    "    'Lightning bolt': 40, \n",
    "    'Magic arrow': 10, \n",
    "    'Black Tentacles': 25, \n",
    "    'Contagion': 45\n",
    "}\n",
    "\n",
    "gandalf = ['Fireball', 'Lightning bolt', 'Lightning bolt', 'Magic arrow', 'Fireball', \n",
    "           'Magic arrow', 'Lightning bolt', 'Fireball', 'Magic arrow', 'Fireball']\n",
    "saruman = ['Contagion', 'Contagion', 'Black Tentacles', 'Fireball', 'Black Tentacles', \n",
    "           'Lightning bolt', 'Magic arrow', 'Contagion', 'Magic arrow', 'Magic arrow']"
   ]
  },
  {
   "cell_type": "code",
   "execution_count": 6,
   "metadata": {},
   "outputs": [],
   "source": [
    "# Assign spell power lists to variables\n",
    "Pgandalf=list()\n",
    "Psaruman=list()\n",
    "for poder in gandalf:\n",
    "    Pgandalf.append(POWER[poder])\n",
    "for poder in saruman:\n",
    "    Psaruman.append(POWER[poder])"
   ]
  },
  {
   "cell_type": "code",
   "execution_count": 7,
   "metadata": {},
   "outputs": [
    {
     "name": "stdout",
     "output_type": "stream",
     "text": [
      "Tie\n"
     ]
    }
   ],
   "source": [
    "# 2. A sorcerer wins if he succeeds in winning 3 spell clashes in a row.\n",
    "blanco=list()\n",
    "gris=list()\n",
    "gb=0\n",
    "gg=0\n",
    "\n",
    "# Execution of spell clashes\n",
    "for lugar in range(len(Psaruman)):\n",
    "    if(Pgandalf[lugar] < Psaruman[lugar]):\n",
    "        blanco.append(1)\n",
    "        gris.append(0)\n",
    "    elif(Pgandalf[lugar] > Psaruman[lugar]):\n",
    "        blanco.append(0)\n",
    "        gris.append(1)\n",
    "    else:\n",
    "        blanco.append(0)\n",
    "        gris.append(0)\n",
    "\n",
    "# check for 3 wins in a row\n",
    "for lugar in range(len(gris)):\n",
    "    if (sum(blanco[lugar: lugar+3])==3):\n",
    "        gb=1\n",
    "        gg=0\n",
    "        break\n",
    "    elif(sum(gris[lugar: lugar+3])==3):\n",
    "        gb=0\n",
    "        gg=1\n",
    "        break\n",
    "    else:\n",
    "        gb=0\n",
    "        gg=0\n",
    "# check the winner\n",
    "if(gb>gg):\n",
    "    print(\"Saruman Wins\")\n",
    "elif(gb<gg):\n",
    "    print(\"Gandalf Wins\")\n",
    "else:\n",
    "    print(\"Tie\")"
   ]
  },
  {
   "cell_type": "code",
   "execution_count": 8,
   "metadata": {},
   "outputs": [
    {
     "name": "stdout",
     "output_type": "stream",
     "text": [
      "the averge of gandalf is:  35.0\n",
      "the averge of saruman is:  30.5\n"
     ]
    }
   ],
   "source": [
    "# 3. Average of each of the spell lists.\n",
    "print(\"the averge of gandalf is: \",sum(Pgandalf)/len(Pgandalf))\n",
    "print(\"the averge of saruman is: \",sum(Psaruman)/len(Psaruman))"
   ]
  },
  {
   "cell_type": "code",
   "execution_count": 9,
   "metadata": {},
   "outputs": [
    {
     "name": "stdout",
     "output_type": "stream",
     "text": [
      "the Standard deviation of Gandalf is:  16.881943016134134\n",
      "The Standard deviation of Saruman is:  15.56438241627338\n"
     ]
    }
   ],
   "source": [
    "# 4. Standard deviation of each of the spell lists.\n",
    "import math\n",
    "sumatoriaG = 0\n",
    "sumatoriaS = 0\n",
    "for poder in Pgandalf:\n",
    "    cuadrado = (poder-sum(Pgandalf)/len(Pgandalf))**2\n",
    "    sumatoriaG += cuadrado\n",
    "Sdgandalf = math.sqrt(sumatoriaG/len(Pgandalf))\n",
    "print(\"the Standard deviation of Gandalf is: \",Sdgandalf)\n",
    "\n",
    "for poder in Psaruman:\n",
    "    cuadrado = (poder-sum(Psaruman)/len(Psaruman))**2\n",
    "    sumatoriaS += cuadrado\n",
    "Sdsaruman = math.sqrt(sumatoriaS/len(Psaruman))\n",
    "print(\"The Standard deviation of Saruman is: \", Sdsaruman)"
   ]
  },
  {
   "cell_type": "code",
   "execution_count": null,
   "metadata": {},
   "outputs": [],
   "source": []
  }
 ],
 "metadata": {
  "kernelspec": {
   "display_name": "Python 3",
   "language": "python",
   "name": "python3"
  },
  "language_info": {
   "codemirror_mode": {
    "name": "ipython",
    "version": 3
   },
   "file_extension": ".py",
   "mimetype": "text/x-python",
   "name": "python",
   "nbconvert_exporter": "python",
   "pygments_lexer": "ipython3",
   "version": "3.7.0"
  }
 },
 "nbformat": 4,
 "nbformat_minor": 2
}
