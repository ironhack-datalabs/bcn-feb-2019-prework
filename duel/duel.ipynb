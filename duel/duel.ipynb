{
 "cells": [
  {
   "cell_type": "markdown",
   "metadata": {},
   "source": [
    "# Duel of sorcerers\n",
    "You are witnessing an epic battle between two powerful sorcerers: Gandalf and Saruman. Each sorcerer has 10 spells of variable power in their mind and they are going to throw them one after the other. The winner of the duel will be the one who wins more of those clashes between spells. Spells are represented as a list of 10 integers whose value equals the power of the spell.\n",
    "```\n",
    "gandalf = [10, 11, 13, 30, 22, 11, 10, 33, 22, 22]\n",
    "saruman = [23, 66, 12, 43, 12, 10, 44, 23, 12, 17]\n",
    "```\n",
    "For example:\n",
    "1. The first clash is won by Saruman: 10 against 23, wins 23\n",
    "2. The second clash wins Saruman: 11 against 66, wins 66\n",
    "3. etc.\n",
    "\n",
    "\n",
    "You will create two variables, one for each sorcerer, where the sum of clashes won will be stored. Depending on which variable is greater at the end of the duel, you will show one of the following three results on the screen:\n",
    "* Gandalf wins\n",
    "* Saruman wins\n",
    "* Tie\n",
    "\n",
    "<img src=\"images/content_lightning_bolt_big.jpg\" width=\"400\">"
   ]
  },
  {
   "cell_type": "code",
   "execution_count": null,
   "metadata": {},
   "outputs": [],
   "source": []
  },
  {
   "cell_type": "markdown",
   "metadata": {},
   "source": [
    "## Solution"
   ]
  },
  {
   "cell_type": "code",
   "execution_count": 92,
   "metadata": {},
   "outputs": [],
   "source": [
    "# Assign spell power lists to variables\n",
    "\n",
    "gandalf = [10, 11, 13, 30, 22, 11, 10, 33, 22, 22]\n",
    "saruman = [23, 66, 12, 43, 12, 10, 44, 23, 12, 17]\n",
    "\n",
    "wiz_combo = zip(gandalf, saruman)"
   ]
  },
  {
   "cell_type": "code",
   "execution_count": 93,
   "metadata": {},
   "outputs": [
    {
     "name": "stdout",
     "output_type": "stream",
     "text": [
      "[(10, 23), (11, 66), (13, 12), (30, 43), (22, 12), (11, 10), (10, 44), (33, 23), (22, 12), (22, 17)]\n"
     ]
    }
   ],
   "source": [
    "print(list(wiz_combo))"
   ]
  },
  {
   "cell_type": "code",
   "execution_count": 98,
   "metadata": {},
   "outputs": [],
   "source": [
    "# Assign 0 to each variable that stores the victories\n",
    "gan_wins=0\n",
    "sar_wins=0"
   ]
  },
  {
   "cell_type": "code",
   "execution_count": 100,
   "metadata": {},
   "outputs": [
    {
     "name": "stdout",
     "output_type": "stream",
     "text": [
      "6\n",
      "4\n"
     ]
    }
   ],
   "source": [
    "# Execution of spell clashes\n",
    "for gan_spell, sar_spell in zip(gandalf, saruman):\n",
    "    if gan_spell > sar_spell:\n",
    "        gan_wins += 1\n",
    "    elif gan_spell < sar_spell:\n",
    "        sar_wins += 1\n",
    "    else:\n",
    "        pass\n",
    "\n",
    "print(gan_wins)\n",
    "print(sar_wins)\n",
    "        "
   ]
  },
  {
   "cell_type": "code",
   "execution_count": 101,
   "metadata": {},
   "outputs": [
    {
     "name": "stdout",
     "output_type": "stream",
     "text": [
      "Gandalf wins\n"
     ]
    }
   ],
   "source": [
    "# We check who has won, do not forget the possibility of a draw.\n",
    "# Print the result based on the winner.\n",
    "\n",
    "if gan_wins > sar_wins:\n",
    "    print('Gandalf wins')\n",
    "elif sar_wins > gan_wins:\n",
    "    print('Saruman wins')\n",
    "else:\n",
    "    print('TIE!!')"
   ]
  },
  {
   "cell_type": "markdown",
   "metadata": {},
   "source": [
    "## Goals\n",
    "\n",
    "1. Treatment of lists\n",
    "2. Use of **for loop**\n",
    "3. Use of conditional **if-elif-else**\n",
    "4. Use of the functions **range(), len()**\n",
    "5. Print"
   ]
  },
  {
   "cell_type": "markdown",
   "metadata": {},
   "source": [
    "## Bonus\n",
    "\n",
    "1. Spells now have a name and there is a dictionary that relates that name to a power.\n",
    "2. A sorcerer wins if he succeeds in winning 3 spell clashes in a row.\n",
    "3. Average of each of the spell lists.\n",
    "4. Standard deviation of each of the spell lists.\n",
    "\n",
    "```\n",
    "POWER = {\n",
    "    'Fireball': 50, \n",
    "    'Lightning bolt': 40, \n",
    "    'Magic arrow': 10, \n",
    "    'Black Tentacles': 25, \n",
    "    'Contagion': 45\n",
    "}\n",
    "\n",
    "gandalf = ['Fireball', 'Lightning bolt', 'Lightning bolt', 'Magic arrow', 'Fireball', \n",
    "           'Magic arrow', 'Lightning bolt', 'Fireball', 'Fireball', 'Fireball']\n",
    "saruman = ['Contagion', 'Contagion', 'Black Tentacles', 'Fireball', 'Black Tentacles', \n",
    "           'Lightning bolt', 'Magic arrow', 'Contagion', 'Magic arrow', 'Magic arrow']\n",
    "```\n",
    "\n",
    "Good luck!"
   ]
  },
  {
   "cell_type": "code",
   "execution_count": 102,
   "metadata": {},
   "outputs": [],
   "source": [
    "# 1. Spells now have a name and there is a dictionary that relates that name to a power.\n",
    "# variables\n",
    "\n",
    "POWER = {\n",
    "    'Fireball': 50, \n",
    "    'Lightning bolt': 40, \n",
    "    'Magic arrow': 10, \n",
    "    'Black Tentacles': 25, \n",
    "    'Contagion': 45\n",
    "}\n",
    "\n",
    "gandalf = ['Fireball', 'Lightning bolt', 'Lightning bolt', 'Magic arrow', 'Fireball', \n",
    "           'Magic arrow', 'Lightning bolt', 'Fireball', 'Magic arrow', 'Fireball']\n",
    "saruman = ['Contagion', 'Contagion', 'Black Tentacles', 'Fireball', 'Black Tentacles', \n",
    "           'Lightning bolt', 'Magic arrow', 'Contagion', 'Magic arrow', 'Magic arrow']"
   ]
  },
  {
   "cell_type": "code",
   "execution_count": 68,
   "metadata": {},
   "outputs": [
    {
     "name": "stdout",
     "output_type": "stream",
     "text": [
      "[50, 40, 40, 10, 50, 10, 40, 50, 10, 50]\n",
      "[45, 45, 25, 50, 25, 40, 10, 45, 10, 10]\n"
     ]
    }
   ],
   "source": [
    "# Assign spell power lists to variables\n",
    "\n",
    "p_gan = []\n",
    "p_sar = []\n",
    "\n",
    "for spell in gandalf:\n",
    "    p_gan.append(POWER[spell])\n",
    "    \n",
    "for spell in saruman:\n",
    "    p_sar.append(POWER[spell])\n",
    "\n",
    "print(p_gan)\n",
    "print(p_sar)"
   ]
  },
  {
   "cell_type": "code",
   "execution_count": 116,
   "metadata": {},
   "outputs": [
    {
     "name": "stdout",
     "output_type": "stream",
     "text": [
      "gandalf total score:  6\n",
      "saruman total score:  3\n",
      "Gandalf's matches:  [1, 0, 1, 0, 1, 0, 1, 1, 1]\n",
      "Saruman's matches:  [0, 1, 0, 1, 0, 1, 0, 0, 0]\n",
      "Gandalf Wins\n"
     ]
    }
   ],
   "source": [
    "# 2. A sorcerer wins if he succeeds in winning 3 spell clashes in a row.\n",
    "w_gan_lst = []\n",
    "w_sar_lst = []\n",
    "\n",
    "# Execution of spell clashes\n",
    "\n",
    "for gan_spell, sar_spell in zip(p_gan, p_sar):\n",
    "    if gan_spell > sar_spell:\n",
    "        w_gan_lst.append(1)\n",
    "        w_sar_lst.append(0)\n",
    "    elif gan_spell < sar_spell:\n",
    "        w_sar_lst.append(1)\n",
    "        w_gan_lst.append(0)\n",
    "    else:\n",
    "        pass\n",
    "\n",
    "score_gan = sum(w_gan_lst)\n",
    "score_sar = sum(w_sar_lst)\n",
    "\n",
    "print('gandalf total score: ',score_gan)\n",
    "print('saruman total score: ',score_sar)\n",
    "\n",
    "print(\"Gandalf's matches: \",w_gan_lst)\n",
    "print(\"Saruman's matches: \",w_sar_lst)\n",
    "\n",
    "# check for 3 wins in a row\n",
    "# check the winner\n",
    "\n",
    "win_status = 'There is no winner'\n",
    "\n",
    "if len(w_gan_lst) != len(w_sar_lst):\n",
    "    print('tamaño de listas no coincide')\n",
    "else:\n",
    "    for i in range(len(w_gan_lst)-2):\n",
    "        if w_gan[i:i+3] == [1,1,1]:\n",
    "            if w_sar[i:i+3] == [1,1,1]:\n",
    "                win_status='there is a TIE!'\n",
    "            else:\n",
    "                win_status='Gandalf Wins'\n",
    "        elif w_sar[i:i+3] == [1,1,1]:\n",
    "            win_status='Saruman Wins'\n",
    "            \n",
    "print(win_status)\n"
   ]
  },
  {
   "cell_type": "code",
   "execution_count": 117,
   "metadata": {},
   "outputs": [
    {
     "name": "stdout",
     "output_type": "stream",
     "text": [
      "35.0\n",
      "30.5\n"
     ]
    }
   ],
   "source": [
    "# 3. Average of each of the spell lists.\n",
    "avg_gan = sum(p_gan)/len(p_gan)\n",
    "avg_sar = sum(p_sar)/len(p_sar)\n",
    "print(avg_gan)\n",
    "print(avg_sar)"
   ]
  },
  {
   "cell_type": "code",
   "execution_count": 118,
   "metadata": {},
   "outputs": [
    {
     "name": "stdout",
     "output_type": "stream",
     "text": [
      "Gandalf - Standard Deviation: 16.881943016134134\n",
      "Saruman - Standard Deviation: 15.56438241627338\n"
     ]
    }
   ],
   "source": [
    "# 4. Standard deviation of each of the spell lists.\n",
    "import numpy as np\n",
    "print('Gandalf - Standard Deviation:', np.std(p_gan))\n",
    "print('Saruman - Standard Deviation:', np.std(p_sar))"
   ]
  }
 ],
 "metadata": {
  "kernelspec": {
   "display_name": "Python 3",
   "language": "python",
   "name": "python3"
  },
  "language_info": {
   "codemirror_mode": {
    "name": "ipython",
    "version": 3
   },
   "file_extension": ".py",
   "mimetype": "text/x-python",
   "name": "python",
   "nbconvert_exporter": "python",
   "pygments_lexer": "ipython3",
   "version": "3.7.3"
  }
 },
 "nbformat": 4,
 "nbformat_minor": 2
}
