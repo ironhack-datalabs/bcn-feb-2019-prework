{
 "cells": [
  {
   "cell_type": "markdown",
   "metadata": {},
   "source": [
    "<img src=\"https://bit.ly/2VnXWr2\" width=\"100\" align=\"left\">"
   ]
  },
  {
   "cell_type": "markdown",
   "metadata": {},
   "source": [
    "# Duel of Sorcerers\n",
    "You are witnessing an epic battle between two powerful sorcerers: Gandalf and Saruman. Each sorcerer has 10 spells of variable power in their mind and they are going to throw them one after the other. The winner of the duel will be the one who wins more of those clashes between spells. Spells are represented as a list of 10 integers whose value equals the power of the spell.\n",
    "```\n",
    "gandalf = [10, 11, 13, 30, 22, 11, 10, 33, 22, 22]\n",
    "saruman = [23, 66, 12, 43, 12, 10, 44, 23, 12, 17]\n",
    "```\n",
    "For example:\n",
    "- The first clash is won by Saruman: 10 against 23.\n",
    "- The second clash is won by Saruman: 11 against 66.\n",
    "- ...\n",
    "\n",
    "You will create two variables, one for each sorcerer, where the sum of clashes won will be stored. Depending on which variable is greater at the end of the duel, you will show one of the following three results on the screen:\n",
    "* Gandalf wins\n",
    "* Saruman wins\n",
    "* Tie\n",
    "\n",
    "<img src=\"images/content_lightning_bolt_big.jpg\" width=\"400\">"
   ]
  },
  {
   "cell_type": "markdown",
   "metadata": {},
   "source": [
    "## Tools\n",
    "You don't necessarily need to use all the tools. Maybe you opt to use some of them or completely different ones, they are given to help you shape the exercise. Programming exercises can be solved in many different ways.\n",
    "\n",
    "1. Data structures: **lists, dictionaries**\n",
    "2. Loop: **for loop**\n",
    "3. Conditional statements: **if-elif-else**\n",
    "4. Functions: **range(), len(), print()**\n",
    "\n",
    "## Tasks\n",
    "\n",
    "#### 1. Create two variables called `gandalf` and `saruman` and assign them the spell power lists. Create a variable called `spells` to store the number of spells that the sorcerers cast. "
   ]
  },
  {
   "cell_type": "code",
   "execution_count": 31,
   "metadata": {},
   "outputs": [],
   "source": [
    "gandalf = [10, 11, 13, 30, 22, 11, 10, 33, 22, 22]\n",
    "saruman = [23, 66, 12, 43, 12, 10, 44, 23, 12, 17]\n",
    "spells = 0"
   ]
  },
  {
   "cell_type": "markdown",
   "metadata": {},
   "source": [
    "#### 2. Create two variables called `gandalf_wins` and `saruman_wins`. Set both of them to 0. \n",
    "You will use these variables to count the number of clashes each sorcerer wins. "
   ]
  },
  {
   "cell_type": "code",
   "execution_count": 32,
   "metadata": {},
   "outputs": [],
   "source": [
    "gandalf_wins = 0\n",
    "saruman_wins = 0\n",
    "tie = 0"
   ]
  },
  {
   "cell_type": "code",
   "execution_count": 33,
   "metadata": {},
   "outputs": [],
   "source": [
    "for i in range(len(gandalf), len(saruman)):\n",
    "    print(i)"
   ]
  },
  {
   "cell_type": "markdown",
   "metadata": {},
   "source": [
    "#### 3. Using the lists of spells of both sorcerers, update variables `gandalf_wins` and `saruman_wins` to count the number of times each sorcerer wins a clash. "
   ]
  },
  {
   "cell_type": "code",
   "execution_count": 44,
   "metadata": {},
   "outputs": [
    {
     "name": "stdout",
     "output_type": "stream",
     "text": [
      "Gandalf Wins!\n"
     ]
    }
   ],
   "source": [
    "for spell in zip(gandalf, saruman): #the zip function compares each element to its correspondent in the second list creating an object (matrix? -not sure) \"spell\" containing the first list's (gandalf) element at index 0 and the second list's (saruman) element at index 1\n",
    "    if spell[0]>spell[1]: #if the first spell (gandalfs) is higher than the second (sarumans)\n",
    "        gandalf_wins += 1\n",
    "    elif spell[1]>spell[0]: #if the second spell (sarumans) is higher than the first (gandalfs)\n",
    "        saruman_wins += 1\n",
    "    else:\n",
    "        tie += 1\n",
    "        \n",
    "#print(gandalf_wins) #checking the results gandalf wins 6 to 4 ( 0 ties)\n",
    "#print(saruman_wins)\n",
    "#print(tie)\n",
    "        \n",
    "if gandalf_wins > saruman_wins: \n",
    "    print(\"Gandalf Wins!\")\n",
    "elif saruman_wins > gandalf_wins:\n",
    "    print(\"Saruman Wins!\")\n",
    "else:\n",
    "    print(\"Tie!\")"
   ]
  },
  {
   "cell_type": "markdown",
   "metadata": {},
   "source": [
    "#### 4. Who won the battle?\n",
    "Print `Gandalf wins`, `Saruman wins` or `Tie` depending on the result. "
   ]
  },
  {
   "cell_type": "code",
   "execution_count": 45,
   "metadata": {},
   "outputs": [
    {
     "name": "stdout",
     "output_type": "stream",
     "text": [
      "gandalf Wins!\n"
     ]
    }
   ],
   "source": [
    "if gandalf_wins > saruman_wins: \n",
    "    print(\"gandalf Wins!\")\n",
    "elif saruman_wins > gandalf_wins:\n",
    "    print(\"saruman Wins!\")\n",
    "else:\n",
    "    print(\"Tie!\")"
   ]
  },
  {
   "cell_type": "markdown",
   "metadata": {},
   "source": [
    "## Bonus\n",
    "\n",
    "In this bonus challenge, you'll need to check the winner of the battle but this time, a sorcerer wins if he succeeds in winning 3 spell clashes in a row.\n",
    "\n",
    "Also, the spells now have a name and there is a dictionary that associates that name to a power.\n",
    "\n",
    "```\n",
    "POWER = {\n",
    "    'Fireball': 50, \n",
    "    'Lightning bolt': 40, \n",
    "    'Magic arrow': 10, \n",
    "    'Black Tentacles': 25, \n",
    "    'Contagion': 45\n",
    "}\n",
    "\n",
    "gandalf = ['Fireball', 'Lightning bolt', 'Lightning bolt', 'Magic arrow', 'Fireball', \n",
    "           'Magic arrow', 'Lightning bolt', 'Fireball', 'Fireball', 'Fireball']\n",
    "saruman = ['Contagion', 'Contagion', 'Black Tentacles', 'Fireball', 'Black Tentacles', \n",
    "           'Lightning bolt', 'Magic arrow', 'Contagion', 'Magic arrow', 'Magic arrow']\n",
    "```\n",
    "\n",
    "#### 1. Create variables `POWER`, `gandalf` and `saruman` as seen above. Create a variable called `spells` to store the number of spells that the sorcerers cast. "
   ]
  },
  {
   "cell_type": "code",
   "execution_count": 46,
   "metadata": {},
   "outputs": [],
   "source": [
    "POWER = {'Fireball': 50,  'Lightning bolt': 40,  'Magic arrow': 10,  'Black Tentacles': 25,  'Contagion': 45 }\n",
    "gandalf = ['Fireball', 'Lightning bolt', 'Lightning bolt', 'Magic arrow', 'Fireball', 'Magic arrow', 'Lightning bolt', 'Fireball', 'Fireball', 'Fireball']\n",
    "saruman = ['Contagion', 'Contagion', 'Black Tentacles', 'Fireball', 'Black Tentacles', 'Lightning bolt', 'Magic arrow', 'Contagion', 'Magic arrow', 'Magic arrow']"
   ]
  },
  {
   "cell_type": "markdown",
   "metadata": {},
   "source": [
    "#### 2. Create two variables called `gandalf_wins` and `saruman_wins`. Set both of them to 0. "
   ]
  },
  {
   "cell_type": "code",
   "execution_count": null,
   "metadata": {},
   "outputs": [],
   "source": [
    "gandalf_wins = 0\n",
    "saruman_wins = 0"
   ]
  },
  {
   "cell_type": "markdown",
   "metadata": {},
   "source": [
    "#### 3. Create two variables called `gandalf_power` and `saruman_power` to store the list of spell powers of each sorcerer."
   ]
  },
  {
   "cell_type": "code",
   "execution_count": null,
   "metadata": {},
   "outputs": [],
   "source": [
    "gandalf_power = 0\n",
    "saruman_power = 0"
   ]
  },
  {
   "cell_type": "markdown",
   "metadata": {},
   "source": [
    "#### 4. The battle starts! Using the variables you've created above, code the execution of spell clashes. Remember that a sorcerer wins if he succeeds in winning 3 spell clashes in a row. \n",
    "If a clash ends up in a tie, the counter of wins in a row is not restarted to 0. Remember to print who is the winner of the battle. "
   ]
  },
  {
   "cell_type": "code",
   "execution_count": 43,
   "metadata": {},
   "outputs": [
    {
     "name": "stdout",
     "output_type": "stream",
     "text": [
      "('Fireball', 'Contagion')\n",
      "('Lightning bolt', 'Contagion')\n",
      "('Lightning bolt', 'Black Tentacles')\n",
      "('Magic arrow', 'Fireball')\n",
      "('Fireball', 'Black Tentacles')\n",
      "('Magic arrow', 'Lightning bolt')\n",
      "('Lightning bolt', 'Magic arrow')\n",
      "('Fireball', 'Contagion')\n",
      "('Fireball', 'Magic arrow')\n",
      "('Fireball', 'Magic arrow')\n"
     ]
    }
   ],
   "source": [
    "for spell in zip(gandalf, saruman): \n",
    "    print(spell)\n"
   ]
  },
  {
   "cell_type": "code",
   "execution_count": 64,
   "metadata": {},
   "outputs": [
    {
     "name": "stdout",
     "output_type": "stream",
     "text": [
      "Gandalf Wins again!\n"
     ]
    }
   ],
   "source": [
    "gandalf_power=[POWER[x] for x in gandalf] #converting keys in values for the respective spells, creating a list of values\n",
    "saruman_power=[POWER[y] for y in saruman] #converting keys in values for the respective spells, creating a list of values\n",
    "\n",
    "for spell in zip(gandalf_power, saruman_power): \n",
    "    if spell[0]>spell[1]: #if the first spell (gandalfs) is higher than the second (sarumans)\n",
    "        gandalf_wins += 1\n",
    "    elif spell[1]>spell[0]: #if the second spell (sarumans) is higher than the first (gandalfs)\n",
    "        saruman_wins += 1\n",
    "    else:\n",
    "        tie += 1\n",
    "        \n",
    "if gandalf_wins > saruman_wins: \n",
    "    print(\"Gandalf Wins again!\")\n",
    "elif saruman_wins > gandalf_wins:\n",
    "    print(\"Saruman Wins this time!\")\n",
    "else:\n",
    "    print(\"Tie!\")"
   ]
  },
  {
   "cell_type": "markdown",
   "metadata": {},
   "source": [
    "#### 5. Find the average spell power of Gandalf and Saruman. "
   ]
  },
  {
   "cell_type": "code",
   "execution_count": 65,
   "metadata": {},
   "outputs": [
    {
     "name": "stdout",
     "output_type": "stream",
     "text": [
      "Gandalf power is  39.0\n",
      "Saruman power is  30.5\n"
     ]
    }
   ],
   "source": [
    "AvgGandalfPower= sum(gandalf_power)/len(gandalf_power)\n",
    "AvgSarumanfPower= sum(saruman_power)/len(saruman_power)\n",
    "print(\"Gandalf power is \", AvgGandalfPower)\n",
    "print(\"Saruman power is \", AvgSarumanfPower)"
   ]
  },
  {
   "cell_type": "markdown",
   "metadata": {},
   "source": [
    "#### 6. Find the standard deviation of the spell power of Gandalf and Saruman. "
   ]
  },
  {
   "cell_type": "code",
   "execution_count": 66,
   "metadata": {},
   "outputs": [
    {
     "name": "stdout",
     "output_type": "stream",
     "text": [
      "15.951314818673865\n",
      "16.40629960309962\n"
     ]
    }
   ],
   "source": [
    "import statistics\n",
    "\n",
    "stdevGandalf=statistics.stdev(gandalf_power)\n",
    "print(stdevGandalf)\n",
    "stdevSaruman=statistics.stdev(saruman_power)\n",
    "print(stdevSaruman)"
   ]
  },
  {
   "cell_type": "code",
   "execution_count": null,
   "metadata": {},
   "outputs": [],
   "source": []
  }
 ],
 "metadata": {
  "kernelspec": {
   "display_name": "Python 3",
   "language": "python",
   "name": "python3"
  },
  "language_info": {
   "codemirror_mode": {
    "name": "ipython",
    "version": 3
   },
   "file_extension": ".py",
   "mimetype": "text/x-python",
   "name": "python",
   "nbconvert_exporter": "python",
   "pygments_lexer": "ipython3",
   "version": "3.9.0"
  }
 },
 "nbformat": 4,
 "nbformat_minor": 2
}
