{
 "cells": [
  {
   "cell_type": "markdown",
   "metadata": {},
   "source": [
    "# Duel of sorcerers\n",
    "You are witnessing an epic battle between two powerful sorcerers: Gandalf and Saruman. Each sorcerer has 10 spells of variable power in their mind and they are going to throw them one after the other. The winner of the duel will be the one who wins more of those clashes between spells. Spells are represented as a list of 10 integers whose value equals the power of the spell.\n",
    "```\n",
    "gandalf = [10, 11, 13, 30, 22, 11, 10, 33, 22, 22]\n",
    "saruman = [23, 66, 12, 43, 12, 10, 44, 23, 12, 17]\n",
    "```\n",
    "For example:\n",
    "1. The first clash is won by Saruman: 10 against 23, wins 23\n",
    "2. The second clash wins Saruman: 11 against 66, wins 66\n",
    "3. etc.\n",
    "\n",
    "\n",
    "You will create two variables, one for each sorcerer, where the sum of clashes won will be stored. Depending on which variable is greater at the end of the duel, you will show one of the following three results on the screen:\n",
    "* Gandalf wins\n",
    "* Saruman wins\n",
    "* Tie\n",
    "\n",
    "<img src=\"images/content_lightning_bolt_big.jpg\" width=\"400\">"
   ]
  },
  {
   "cell_type": "markdown",
   "metadata": {},
   "source": [
    "## Solution"
   ]
  },
  {
   "cell_type": "code",
   "execution_count": 11,
   "metadata": {},
   "outputs": [],
   "source": [
    "# Assign spell power lists to variables\n",
    "\n",
    "gandalf_duel = [10, 11, 13, 30, 22, 11, 10, 33, 22, 22]\n",
    "\n",
    "saruman_duel = [23, 66, 12, 43, 12, 10, 44, 23, 12, 17]\n",
    "\n"
   ]
  },
  {
   "cell_type": "code",
   "execution_count": 12,
   "metadata": {},
   "outputs": [],
   "source": [
    "# Assign 0 to each variable that stores the victories\n",
    "saruman = 0\n",
    "gandalf = 0\n",
    "ties = 0\n",
    "i = 0\n",
    "max_i = len(gandalf_duel)\n"
   ]
  },
  {
   "cell_type": "code",
   "execution_count": 14,
   "metadata": {},
   "outputs": [
    {
     "name": "stdout",
     "output_type": "stream",
     "text": [
      "Gandalf wins:  6\n",
      "Saruman wind:  4\n",
      "Tournaments that ended up in a tie: 0\n"
     ]
    }
   ],
   "source": [
    "# Execution of spell clashes\n",
    "while i< max_i:\n",
    "    if gandalf_duel[i] < saruman_duel[i]:\n",
    "        saruman +=1\n",
    "        i +=1\n",
    "    elif gandalf_duel[i] > saruman_duel[i]:\n",
    "        gandalf += 1\n",
    "        i +=1\n",
    "    else:\n",
    "        t+=1\n",
    "        i +=1\n",
    "            \n",
    "print (\"Gandalf wins: \", gandalf)\n",
    "print (\"Saruman wind: \", saruman)\n",
    "print (\"Tournaments that ended up in a tie:\", ties)\n",
    "       \n",
    "\n"
   ]
  },
  {
   "cell_type": "code",
   "execution_count": 16,
   "metadata": {},
   "outputs": [
    {
     "name": "stdout",
     "output_type": "stream",
     "text": [
      "Gandalf wins.\n"
     ]
    }
   ],
   "source": [
    "# We check who has won, do not forget the possibility of a draw.\n",
    "# Print the result based on the winner.\n",
    "if gandalf >  saruman:\n",
    "    print (\"Gandalf wins.\")\n",
    "elif gandalf < saruman:\n",
    "    print (\"Saruman wins.\")\n",
    "else:\n",
    "    print (\"Tie.\")\n",
    "    \n",
    "    \n",
    "\n"
   ]
  },
  {
   "cell_type": "markdown",
   "metadata": {},
   "source": [
    "## Goals\n",
    "\n",
    "1. Treatment of lists\n",
    "2. Use of **for loop**\n",
    "3. Use of conditional **if-elif-else**\n",
    "4. Use of the functions **range(), len()**\n",
    "5. Print"
   ]
  },
  {
   "cell_type": "markdown",
   "metadata": {},
   "source": [
    "## Bonus\n",
    "\n",
    "1. Spells now have a name and there is a dictionary that relates that name to a power.\n",
    "2. A sorcerer wins if he succeeds in winning 3 spell clashes in a row.\n",
    "3. Average of each of the spell lists.\n",
    "4. Standard deviation of each of the spell lists.\n",
    "\n",
    "```\n",
    "POWER = {\n",
    "    'Fireball': 50, \n",
    "    'Lightning bolt': 40, \n",
    "    'Magic arrow': 10, \n",
    "    'Black Tentacles': 25, \n",
    "    'Contagion': 45\n",
    "}\n",
    "\n",
    "gandalf = ['Fireball', 'Lightning bolt', 'Lightning bolt', 'Magic arrow', 'Fireball', \n",
    "           'Magic arrow', 'Lightning bolt', 'Fireball', 'Fireball', 'Fireball']\n",
    "saruman = ['Contagion', 'Contagion', 'Black Tentacles', 'Fireball', 'Black Tentacles', \n",
    "           'Lightning bolt', 'Magic arrow', 'Contagion', 'Magic arrow', 'Magic arrow']\n",
    "```\n",
    "\n",
    "Good luck!"
   ]
  },
  {
   "cell_type": "code",
   "execution_count": 1,
   "metadata": {},
   "outputs": [],
   "source": [
    "# 1. Spells now have a name and there is a dictionary that relates that name to a power.\n",
    "# variables\n",
    "\n",
    "POWER = {\n",
    "    'Fireball': 50, \n",
    "    'Lightning bolt': 40, \n",
    "    'Magic arrow': 10, \n",
    "    'Black Tentacles': 25, \n",
    "    'Contagion': 45\n",
    "}\n",
    "\n",
    "gandalf = ['Fireball', 'Lightning bolt', 'Lightning bolt', 'Magic arrow', 'Fireball', \n",
    "           'Magic arrow', 'Lightning bolt', 'Fireball', 'Magic arrow', 'Fireball']\n",
    "saruman = ['Contagion', 'Contagion', 'Black Tentacles', 'Fireball', 'Black Tentacles', \n",
    "           'Lightning bolt', 'Magic arrow', 'Contagion', 'Magic arrow', 'Magic arrow']"
   ]
  },
  {
   "cell_type": "code",
   "execution_count": 2,
   "metadata": {},
   "outputs": [
    {
     "name": "stdout",
     "output_type": "stream",
     "text": [
      "Gandalf's points per match are: [50, 40, 40, 10, 50, 10, 40, 50, 10, 50]\n",
      "Saruman's points per match are: [45, 45, 25, 50, 25, 40, 10, 45, 10, 10]\n"
     ]
    }
   ],
   "source": [
    "# Assign spell power lists to variables\n",
    "gandalf_points = []\n",
    "for i in gandalf:\n",
    "    gandalf_points.append(int(POWER[i]))\n",
    "saruman_points = []\n",
    "for i in saruman:\n",
    "    saruman_points.append(int(POWER[i]))\n",
    "\n",
    "\n",
    "print (\"Gandalf's points per match are:\", gandalf_points)\n",
    "\n",
    "print (\"Saruman's points per match are:\", saruman_points)\n",
    "\n"
   ]
  },
  {
   "cell_type": "code",
   "execution_count": 3,
   "metadata": {},
   "outputs": [
    {
     "name": "stdout",
     "output_type": "stream",
     "text": [
      "Saruman wins 3 rounds. Galndalf wins 6 rounds. 1 rounds tied.\n",
      "No one wins the game, its a tie.\n"
     ]
    }
   ],
   "source": [
    "# 2. A sorcerer wins if he succeeds in winning 3 spell clashes in a row.\n",
    "# Execution of spell clashes\n",
    "\n",
    "saruman_wins = 0\n",
    "gandalf_wins = 0\n",
    "tied = 0\n",
    "i = 0\n",
    "max_i = len(gandalf_points)\n",
    "while i< max_i:\n",
    "    if gandalf_points[i] < saruman_points[i]:\n",
    "        saruman_wins +=1\n",
    "        i +=1\n",
    "    elif gandalf_points[i] > saruman_points[i]:\n",
    "        gandalf_wins += 1\n",
    "        i +=1\n",
    "    else:\n",
    "        tied +=1\n",
    "        i +=1\n",
    "            \n",
    "print (\"Saruman wins %s rounds.\" %(saruman_wins), \"Galndalf wins %s rounds.\" % (gandalf_wins),\"%s rounds tied.\" % (tied))\n",
    "\n",
    "# check the winner!!\n",
    "saruman_concecutive = 0\n",
    "gandalf_concecutive = 0\n",
    "ties = 0\n",
    "i = 0\n",
    "max_i = len(gandalf_points)\n",
    "while i< max_i:\n",
    "    if gandalf_points[i] < saruman_points[i]:\n",
    "        saruman_concecutive +=1\n",
    "        gandalf_concecutive = 0\n",
    "        i +=1\n",
    "    elif gandalf_points[i] > saruman_points[i]:\n",
    "        gandalf_concecutive += 1\n",
    "        saruman_concecutive = 0\n",
    "        i +=1\n",
    "    else:\n",
    "        ties+=1\n",
    "        i +=1\n",
    "        saruman_concecutive = 0\n",
    "        gandalf_concecutive = 0\n",
    "   \n",
    "if saruman_concecutive >= 3:\n",
    "        print (\"Saruman wins the game.\")\n",
    "elif gandalf_concecutive >= 3:\n",
    "        print(\"Gandalf wins the game.\")\n",
    "else:\n",
    "        print (\"No one wins the game, its a tie.\")\n",
    "\n",
    " \n",
    "\n",
    "        \n",
    "            \n",
    "\n"
   ]
  },
  {
   "cell_type": "code",
   "execution_count": 6,
   "metadata": {},
   "outputs": [
    {
     "name": "stdout",
     "output_type": "stream",
     "text": [
      "The average of Gandalf's spell list is:  35.0\n",
      "The average of Saruman's spell list is:  30.5\n"
     ]
    }
   ],
   "source": [
    "# 3. Average of each of the spell lists.\n",
    "\n",
    "Sumg= sum(gandalf_points)\n",
    "leng= len(gandalf_points)\n",
    "Sums= sum(saruman_points)\n",
    "lens= len(saruman_points)\n",
    "\n",
    "AVGg = Sumg/leng\n",
    "AVGs = Sums/lens\n",
    "print(\"The average of Gandalf's spell list is: \",AVGg)\n",
    "\n",
    "print(\"The average of Saruman's spell list is: \",AVGs)\n"
   ]
  },
  {
   "cell_type": "code",
   "execution_count": 5,
   "metadata": {},
   "outputs": [
    {
     "name": "stdout",
     "output_type": "stream",
     "text": [
      "Standard Deviation of Gandalf's list is 17.\n",
      "Standard Deviation of Saruman's is 16.\n"
     ]
    }
   ],
   "source": [
    "# 4. Standard deviation of each of the spell lists.\n",
    "import statistics\n",
    "print(\"Standard Deviation of Gandalf's list is % s.\" \n",
    "                % (int(statistics.stdev(gandalf_points))))\n",
    "\n",
    "print(\"Standard Deviation of Saruman's is % s.\" \n",
    "                % (int(statistics.stdev(saruman_points))))\n"
   ]
  },
  {
   "cell_type": "code",
   "execution_count": null,
   "metadata": {},
   "outputs": [],
   "source": []
  },
  {
   "cell_type": "code",
   "execution_count": null,
   "metadata": {},
   "outputs": [],
   "source": []
  }
 ],
 "metadata": {
  "kernelspec": {
   "display_name": "Python 3",
   "language": "python",
   "name": "python3"
  },
  "language_info": {
   "codemirror_mode": {
    "name": "ipython",
    "version": 3
   },
   "file_extension": ".py",
   "mimetype": "text/x-python",
   "name": "python",
   "nbconvert_exporter": "python",
   "pygments_lexer": "ipython3",
   "version": "3.7.3"
  }
 },
 "nbformat": 4,
 "nbformat_minor": 2
}
