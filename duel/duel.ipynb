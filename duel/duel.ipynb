{
 "cells": [
  {
   "cell_type": "markdown",
   "metadata": {},
   "source": [
    "# Duel of sorcerers\n",
    "You are witnessing an epic battle between two powerful sorcerers: Gandalf and Saruman. Each sorcerer has 10 spells of variable power in their mind and they are going to throw them one after the other. The winner of the duel will be the one who wins more of those clashes between spells. Spells are represented as a list of 10 integers whose value equals the power of the spell.\n",
    "```\n",
    "gandalf = [10, 11, 13, 30, 22, 11, 10, 33, 22, 22]\n",
    "saruman = [23, 66, 12, 43, 12, 10, 44, 23, 12, 17]\n",
    "```\n",
    "For example:\n",
    "1. The first clash is won by Saruman: 10 against 23, wins 23\n",
    "2. The second clash wins Saruman: 11 against 66, wins 66\n",
    "3. etc.\n",
    "\n",
    "\n",
    "You will create two variables, one for each sorcerer, where the sum of clashes won will be stored. Depending on which variable is greater at the end of the duel, you will show one of the following three results on the screen:\n",
    "* Gandalf wins\n",
    "* Saruman wins\n",
    "* Tie\n",
    "\n",
    "<img src=\"images/content_lightning_bolt_big.jpg\" width=\"400\">"
   ]
  },
  {
   "cell_type": "markdown",
   "metadata": {},
   "source": [
    "## Solution"
   ]
  },
  {
   "cell_type": "code",
   "execution_count": 1,
   "metadata": {},
   "outputs": [],
   "source": [
    "# Assign spell power lists to variables\n",
    "\n",
    "gandalf = [10, 11, 13, 30, 22, 11, 10, 33, 22, 22]\n",
    "saruman = [23, 66, 12, 43, 12, 10, 44, 23, 12, 17]"
   ]
  },
  {
   "cell_type": "code",
   "execution_count": 6,
   "metadata": {},
   "outputs": [],
   "source": [
    "# Assign 0 to each variable that stores the victories\n",
    "\n",
    "gandalf_win = 0\n",
    "saruman_win = 0\n",
    "tie = 0\n",
    "gandalf_spell = 0\n",
    "saruman_spell = 0"
   ]
  },
  {
   "cell_type": "code",
   "execution_count": 1,
   "metadata": {},
   "outputs": [],
   "source": [
    "# Execution of spell clashes\n",
    "gandalf = [10, 11, 13, 30, 22, 11, 10, 33, 22, 22]\n",
    "saruman = [23, 66, 12, 43, 12, 10, 44, 23, 12, 17]\n",
    "\n",
    "gandalf_win = 0\n",
    "saruman_win = 0\n",
    "tie = 0\n",
    "gandalf_spell = 0\n",
    "saruman_spell = 0\n",
    "\n",
    "for gandalf_spell,saruman_spell in zip(gandalf,saruman):\n",
    "        if gandalf_spell > saruman_spell:\n",
    "            gandalf_win +=1\n",
    "        elif gandalf_spell == saruman_spell:\n",
    "            tie+=1\n",
    "        else:\n",
    "            saruman_win +=1\n",
    "    "
   ]
  },
  {
   "cell_type": "code",
   "execution_count": 2,
   "metadata": {},
   "outputs": [
    {
     "name": "stdout",
     "output_type": "stream",
     "text": [
      "Gandalf wins!\n"
     ]
    }
   ],
   "source": [
    "# We check who has won, do not forget the possibility of a draw.\n",
    "# Print the result based on the winner.\n",
    "\n",
    "if gandalf_win > saruman_win:\n",
    "    print (\"Gandalf wins!\")\n",
    "\n",
    "elif gandalf_win < saruman_win:\n",
    "    print (\"Saruman wins!\")\n",
    "\n",
    "else:\n",
    "    print (\"It's a tie!\")\n",
    "    "
   ]
  },
  {
   "cell_type": "markdown",
   "metadata": {},
   "source": [
    "## Goals\n",
    "\n",
    "1. Treatment of lists\n",
    "2. Use of **for loop**\n",
    "3. Use of conditional **if-elif-else**\n",
    "4. Use of the functions **range(), len()**\n",
    "5. Print"
   ]
  },
  {
   "cell_type": "markdown",
   "metadata": {},
   "source": [
    "## Bonus\n",
    "\n",
    "1. Spells now have a name and there is a dictionary that relates that name to a power.\n",
    "2. A sorcerer wins if he succeeds in winning 3 spell clashes in a row.\n",
    "3. Average of each of the spell lists.\n",
    "4. Standard deviation of each of the spell lists.\n",
    "\n",
    "```\n",
    "POWER = {\n",
    "    'Fireball': 50, \n",
    "    'Lightning bolt': 40, \n",
    "    'Magic arrow': 10, \n",
    "    'Black Tentacles': 25, \n",
    "    'Contagion': 45\n",
    "}\n",
    "\n",
    "gandalf = ['Fireball', 'Lightning bolt', 'Lightning bolt', 'Magic arrow', 'Fireball', \n",
    "           'Magic arrow', 'Lightning bolt', 'Fireball', 'Fireball', 'Fireball']\n",
    "saruman = ['Contagion', 'Contagion', 'Black Tentacles', 'Fireball', 'Black Tentacles', \n",
    "           'Lightning bolt', 'Magic arrow', 'Contagion', 'Magic arrow', 'Magic arrow']\n",
    "```\n",
    "\n",
    "Good luck!"
   ]
  },
  {
   "cell_type": "code",
   "execution_count": null,
   "metadata": {},
   "outputs": [],
   "source": [
    "# 1. Spells now have a name and there is a dictionary that relates that name to a power.\n",
    "# variables\n",
    "\n",
    "POWER = {\n",
    "    'Fireball': 50, \n",
    "    'Lightning bolt': 40, \n",
    "    'Magic arrow': 10, \n",
    "    'Black Tentacles': 25, \n",
    "    'Contagion': 45\n",
    "}\n",
    "\n",
    "gandalf = ['Fireball', 'Lightning bolt', 'Lightning bolt', 'Magic arrow', 'Fireball', \n",
    "           'Magic arrow', 'Lightning bolt', 'Fireball', 'Magic arrow', 'Fireball']\n",
    "saruman = ['Contagion', 'Contagion', 'Black Tentacles', 'Fireball', 'Black Tentacles', \n",
    "           'Lightning bolt', 'Magic arrow', 'Contagion', 'Magic arrow', 'Magic arrow']\n",
    "\n",
    "        \n",
    "        \n",
    "        \n",
    "        \n",
    "        "
   ]
  },
  {
   "cell_type": "code",
   "execution_count": 2,
   "metadata": {},
   "outputs": [
    {
     "name": "stdout",
     "output_type": "stream",
     "text": [
      "[50, 40, 40, 10, 50, 10, 40, 50, 10, 50]\n",
      "[45, 45, 25, 50, 25, 40, 10, 45, 10, 10]\n"
     ]
    }
   ],
   "source": [
    "# Assign spell power lists to variables\n",
    "\n",
    "gandalf = ['Fireball', 'Lightning bolt', 'Lightning bolt', 'Magic arrow', 'Fireball', \n",
    "           'Magic arrow', 'Lightning bolt', 'Fireball', 'Magic arrow', 'Fireball']\n",
    "saruman = ['Contagion', 'Contagion', 'Black Tentacles', 'Fireball', 'Black Tentacles', \n",
    "           'Lightning bolt', 'Magic arrow', 'Contagion', 'Magic arrow', 'Magic arrow']\n",
    "\n",
    "gandalf_spell = 0\n",
    "saruman_spell = 0\n",
    "gandalf_power= []\n",
    "saruman_power = []\n",
    "\n",
    "for gandalf_spell in gandalf:\n",
    "    \n",
    "    if gandalf_spell == 'Fireball':\n",
    "        gandalf_spell = 50\n",
    "        gandalf_power.append(gandalf_spell)\n",
    "        \n",
    "    elif gandalf_spell == 'Lightning bolt':\n",
    "        gandalf_spell = 40\n",
    "        gandalf_power.append(gandalf_spell)\n",
    "    elif gandalf_spell == 'Magic arrow':\n",
    "        gandalf_spell = 10\n",
    "        gandalf_power.append(gandalf_spell)\n",
    "    elif gandalf_spell == 'Black Tentacles':\n",
    "        gandalf_spell = 25\n",
    "        gandalf_power.append(gandalf_spell)\n",
    "    else:\n",
    "        gandalf_spell = 45\n",
    "        gandalf_power.append(gandalf_spell)\n",
    "        \n",
    "print(gandalf_power)\n",
    "        \n",
    "for saruman_spell in saruman:\n",
    "    \n",
    "    if saruman_spell == 'Fireball':\n",
    "        saruman_spell = 50\n",
    "        saruman_power.append(saruman_spell)\n",
    "        \n",
    "    elif saruman_spell == 'Lightning bolt':\n",
    "        saruman_spell = 40\n",
    "        saruman_power.append(saruman_spell)\n",
    "    elif saruman_spell == 'Magic arrow':\n",
    "        saruman_spell = 10\n",
    "        saruman_power.append(saruman_spell)\n",
    "    elif saruman_spell == 'Black Tentacles':\n",
    "        saruman_spell = 25\n",
    "        saruman_power.append(saruman_spell)\n",
    "    else:\n",
    "        saruman_spell = 45\n",
    "        saruman_power.append(saruman_spell)\n",
    "        \n",
    "print(saruman_power) \n",
    "        "
   ]
  },
  {
   "cell_type": "code",
   "execution_count": 3,
   "metadata": {},
   "outputs": [
    {
     "name": "stdout",
     "output_type": "stream",
     "text": [
      "Gandalf wins!\n"
     ]
    }
   ],
   "source": [
    "# 2. A sorcerer wins if he succeeds in winning 3 spell clashes in a row.\n",
    "       \n",
    "\n",
    "# Execution of spell clashes\n",
    "\n",
    "gandalf_strike = 0\n",
    "saruman_strike = 0\n",
    "gandalf_wins = 0\n",
    "saruman_wins = 0\n",
    "\n",
    "\n",
    "# check for 3 wins in a row\n",
    "\n",
    "while gandalf_wins < 3 and saruman_wins <3:\n",
    "\n",
    "    for gandalf_strike,saruman_strike in zip (gandalf_power,saruman_power):\n",
    "        if gandalf_strike > saruman_strike:\n",
    "            gandalf_wins += 1\n",
    "            saruman_wins = 0\n",
    "        elif gandalf_strike == saruman_strike:\n",
    "            gandalf_wins = gandalf_wins\n",
    "            saruman_wins = saruman_wins\n",
    "        else:\n",
    "            gandalf_wins = 0\n",
    "            saruman_wins += 1\n",
    "            \n",
    "        \n",
    "# check the winner\n",
    "\n",
    "if gandalf_wins == 3:\n",
    "    print (\"Gandalf wins!\")\n",
    "elif saruman_wins ==3:\n",
    "    print (\"Saruman wins!\")\n",
    "else:\n",
    "    print (\"It's a tie!\")"
   ]
  },
  {
   "cell_type": "code",
   "execution_count": 4,
   "metadata": {},
   "outputs": [
    {
     "name": "stdout",
     "output_type": "stream",
     "text": [
      "Gandalf average power is 35.0\n",
      "Saruman average power is 30.5\n"
     ]
    }
   ],
   "source": [
    "# 3. Average of each of the spell lists.\n",
    "\n",
    "avg_gandalf = sum(gandalf_power)/len(gandalf_power)\n",
    "\n",
    "avg_saruman = sum(saruman_power)/len(saruman_power)\n",
    "\n",
    "print (\"Gandalf average power is\", str(avg_gandalf))\n",
    "\n",
    "print (\"Saruman average power is\", str(avg_saruman))"
   ]
  },
  {
   "cell_type": "code",
   "execution_count": 6,
   "metadata": {},
   "outputs": [
    {
     "name": "stdout",
     "output_type": "stream",
     "text": [
      "Gandalf has a standard desviation in his power of 4.64\n",
      "Saruman has a standard desviation in his power of 4.47\n"
     ]
    }
   ],
   "source": [
    "# 4. Standard deviation of each of the spell lists.\n",
    "import math\n",
    "\n",
    "n = 0\n",
    "desv_gandalf = 0\n",
    "std_desv_gandalf = 0\n",
    "desv_saruman = 0\n",
    "std_desv_saruman = 0\n",
    "\n",
    "for desv_gandalf in gandalf_power:\n",
    "    n+=1\n",
    "    std_desv_gandalf= math.sqrt((desv_gandalf-avg_gandalf)**2/n-1)\n",
    "\n",
    "print (\"Gandalf has a standard desviation in his power of\", str(round(std_desv_gandalf,2)))\n",
    "\n",
    "for desv_saruman in saruman_power:\n",
    "    n+=1\n",
    "    std_desv_saruman = math.sqrt((desv_saruman -avg_saruman)**2/n-1)\n",
    "\n",
    "print (\"Saruman has a standard desviation in his power of\", str(round(std_desv_saruman,2)))\n",
    "\n"
   ]
  },
  {
   "cell_type": "code",
   "execution_count": null,
   "metadata": {},
   "outputs": [],
   "source": []
  }
 ],
 "metadata": {
  "kernelspec": {
   "display_name": "Python 3",
   "language": "python",
   "name": "python3"
  },
  "language_info": {
   "codemirror_mode": {
    "name": "ipython",
    "version": 3
   },
   "file_extension": ".py",
   "mimetype": "text/x-python",
   "name": "python",
   "nbconvert_exporter": "python",
   "pygments_lexer": "ipython3",
   "version": "3.7.3"
  }
 },
 "nbformat": 4,
 "nbformat_minor": 2
}
