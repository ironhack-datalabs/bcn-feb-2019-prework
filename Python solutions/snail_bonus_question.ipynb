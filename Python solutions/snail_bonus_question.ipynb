{
 "cells": [
  {
   "cell_type": "code",
   "execution_count": 1,
   "metadata": {},
   "outputs": [
    {
     "name": "stdout",
     "output_type": "stream",
     "text": [
      "it took the snail 5 days to escape\n"
     ]
    }
   ],
   "source": [
    "height = 125\n",
    "advance_cm = [30, 21, 33, 77, 44, 45, 23, 45, 12, 34, 55]\n",
    "distance_night=-20\n",
    "snail_pos=0\n",
    "days=0\n",
    "while height > snail_pos:\n",
    "\tsnail_pos = snail_pos+advance_cm[days]\n",
    "\tdays = days+1\n",
    "\tif height > snail_pos:\n",
    "\t\tsnail_pos = snail_pos + distance_night\n",
    "\telse:\n",
    "\t\tprint(\"it took the snail \" + str(days) + \" days to escape\")"
   ]
  },
  {
   "cell_type": "code",
   "execution_count": null,
   "metadata": {},
   "outputs": [],
   "source": []
  }
 ],
 "metadata": {
  "kernelspec": {
   "display_name": "Python 3",
   "language": "python",
   "name": "python3"
  },
  "language_info": {
   "codemirror_mode": {
    "name": "ipython",
    "version": 3
   },
   "file_extension": ".py",
   "mimetype": "text/x-python",
   "name": "python",
   "nbconvert_exporter": "python",
   "pygments_lexer": "ipython3",
   "version": "3.8.5"
  }
 },
 "nbformat": 4,
 "nbformat_minor": 4
}
