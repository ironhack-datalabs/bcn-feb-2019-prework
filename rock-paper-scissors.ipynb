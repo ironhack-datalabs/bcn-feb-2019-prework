{
 "cells": [
  {
   "cell_type": "markdown",
   "metadata": {},
   "source": [
    "<img src=\"https://bit.ly/2VnXWr2\" width=\"100\" align=\"left\">"
   ]
  },
  {
   "cell_type": "markdown",
   "metadata": {},
   "source": [
    "# Rock, Paper & Scissors\n",
    "\n",
    "Let's play the famous game against our computer. You can check the rules [here](https://en.wikipedia.org/wiki/Rock%E2%80%93paper%E2%80%93scissors). \n",
    "\n",
    "## Task\n",
    "Create a program that imitates the playability of the well known game of rock, paper, scissors. Follow the guidelines provided.\n",
    "\n",
    "## Tools\n",
    "1. Loop: **for/while**\n",
    "2. Functions: **input(), print()...**\n",
    "3. Conditional statements: **if, elif, else**\n",
    "4. Definition of functions. Modular programming\n",
    "5. Import modules\n",
    "\n",
    "**To solve this challenge, the use of functions is recommended.**\n",
    "\n",
    "#### 1. Import the choice function of the random module."
   ]
  },
  {
   "cell_type": "code",
   "execution_count": 13,
   "metadata": {},
   "outputs": [],
   "source": [
    "import random\n",
    "\n",
    "from random import choice"
   ]
  },
  {
   "cell_type": "markdown",
   "metadata": {},
   "source": [
    "#### 2. Create a list that includes the 3 possible gesture options of the game: 'rock', 'paper' or 'scissors'. Store the list in a variable called `gestures`."
   ]
  },
  {
   "cell_type": "code",
   "execution_count": 1,
   "metadata": {},
   "outputs": [],
   "source": [
    "gestures = [\"rock\", \"paper\", \"scissors\"]"
   ]
  },
  {
   "cell_type": "markdown",
   "metadata": {},
   "source": [
    "#### 3. Create a variable called `n_rounds` to store the maximum number of rounds to play in a game. \n",
    "Remember that the number of rounds must be odd: 1, 3, 5, ..."
   ]
  },
  {
   "cell_type": "code",
   "execution_count": 29,
   "metadata": {},
   "outputs": [],
   "source": [
    "n_rounds = 3"
   ]
  },
  {
   "cell_type": "markdown",
   "metadata": {},
   "source": [
    "#### 4. Create a variable called `rounds_to_win` to store the number of rounds that a player must win to win the game.\n",
    "**Hint**: the value stored in `rounds_to_win` depends on the value of `n_rounds`. "
   ]
  },
  {
   "cell_type": "code",
   "execution_count": 30,
   "metadata": {},
   "outputs": [],
   "source": [
    "rounds_to_win = 2"
   ]
  },
  {
   "cell_type": "markdown",
   "metadata": {},
   "source": [
    "#### 5. Create two variables to store the number of rounds that the computer and the player have won. Call these variables `cpu_score` and `player_score`."
   ]
  },
  {
   "cell_type": "code",
   "execution_count": 31,
   "metadata": {},
   "outputs": [],
   "source": [
    "cpu_score = 0\n",
    "player_score = 0"
   ]
  },
  {
   "cell_type": "markdown",
   "metadata": {},
   "source": [
    "#### 6. Define a function that randomly returns one of the 3 gesture options.\n",
    "You will use this function to simulate the gesture choice of the computer. "
   ]
  },
  {
   "cell_type": "code",
   "execution_count": 14,
   "metadata": {},
   "outputs": [],
   "source": [
    "cpu = choice(gestures)"
   ]
  },
  {
   "cell_type": "markdown",
   "metadata": {},
   "source": [
    "#### 7. Define a function that asks the player which is the gesture he or she wants to show: 'rock', 'paper' or 'scissors'.\n",
    "The player should only be allowed to choose one of the 3 gesture options. If the player's choice is not rock, paper or scissors, keep asking until it is."
   ]
  },
  {
   "cell_type": "code",
   "execution_count": 11,
   "metadata": {},
   "outputs": [
    {
     "name": "stdout",
     "output_type": "stream",
     "text": [
      "Choose between rock, paper or scissors: rock\n",
      "Good!\n",
      "You have chose: rock\n"
     ]
    }
   ],
   "source": [
    "player = input(\"Choose between rock, paper or scissors: \")\n",
    "\n",
    "if player in gestures:\n",
    "    print(\"Good!\")\n",
    "    \n",
    "else:\n",
    "    print(\"You dont have chose a option correct\")\n",
    "    \n",
    "print(\"You have chose:\", player)"
   ]
  },
  {
   "cell_type": "markdown",
   "metadata": {},
   "source": [
    "#### 8. Define a function that checks who won a round. \n",
    "The function should return 0 if there is a tie, 1 if the computer wins and 2 if the player wins."
   ]
  },
  {
   "cell_type": "code",
   "execution_count": 17,
   "metadata": {},
   "outputs": [],
   "source": [
    "def winner_of_game():\n",
    "    won = 0\n",
    "    while won <= rounds_to_win:\n",
    "        print(won)\n",
    "        won += 1\n",
    "        if won == player_score:\n",
    "            print(\"Winner of this round: 2\")\n",
    "        elif won == cpu_score:\n",
    "            print(\"Winner of this round: 1\")\n",
    "        else:\n",
    "            print(\"Winner of this round: 0\")\n",
    "            \n",
    "    print(\"Game over\")"
   ]
  },
  {
   "cell_type": "markdown",
   "metadata": {},
   "source": [
    "#### 9. Define a function that prints the choice of the computer, the choice of the player and a message that announces who won the current round. \n",
    "You should also use this function to update the variables that count the number of rounds that the computer and the player have won. The score of the winner increases by one point. If there is a tie, the score does not increase."
   ]
  },
  {
   "cell_type": "code",
   "execution_count": 10,
   "metadata": {},
   "outputs": [],
   "source": [
    "def main():\n",
    "    player_score = 0\n",
    "    cpu_score = 0\n",
    "    n = False\n",
    "    while n==False:\n",
    "        scores = mi_partida()\n",
    "        if scores == 1:\n",
    "            player_score += 1\n",
    "        elif scores == 2:\n",
    "            cpu_score += 1\n",
    "        print (\"Puntuaciones: cpu ->\", cpu_score, \"player\", player_score)\n",
    "        \n",
    "    main()"
   ]
  },
  {
   "cell_type": "markdown",
   "metadata": {},
   "source": [
    "#### 10. Now it's time to code the execution of the game using the functions and variables you defined above. \n",
    "\n",
    "First, create a loop structure that repeats while no player reaches the minimum score necessary to win and the number of rounds is less than the maximum number of rounds to play in a game.  \n",
    "\n",
    "Inside the loop, use the functions and variables above to create the execution of a round: ask for the player's choice, generate the random choice of the computer, show the round results, update the scores, etc. "
   ]
  },
  {
   "cell_type": "code",
   "execution_count": null,
   "metadata": {},
   "outputs": [
    {
     "name": "stdout",
     "output_type": "stream",
     "text": [
      "Let's play Rock, Paper & Scissors!\n",
      "Choose between rock, paper or scissors: rock\n",
      "Good!\n",
      "You have chose: rock\n",
      "Cpu have chose: rock\n",
      "Tie\n",
      "Choose between rock, paper or scissors: rock\n",
      "Good!\n",
      "You have chose: rock\n",
      "Cpu have chose: paper\n",
      "You lost!\n",
      "Winner of this round: 1\n",
      "Puntuaciones: cpu: 1 player: 0\n",
      "Choose between rock, paper or scissors: paper\n",
      "Good!\n",
      "You have chose: paper\n",
      "Cpu have chose: paper\n",
      "Tie\n",
      "Winner of this round: 0\n",
      "Puntuaciones: cpu: 1 player: 0\n",
      "Choose between rock, paper or scissors: rock\n",
      "Good!\n",
      "You have chose: rock\n",
      "Cpu have chose: scissors\n",
      "You win!\n",
      "Winner of this round: 2\n",
      "Puntuaciones: cpu: 1 player: 1\n",
      "Choose between rock, paper or scissors: paper\n",
      "Good!\n",
      "You have chose: paper\n",
      "Cpu have chose: scissors\n",
      "You lost!\n",
      "Winner of this round: 1\n",
      "Puntuaciones: cpu: 2 player: 1\n",
      "Game Over\n"
     ]
    }
   ],
   "source": [
    "import random\n",
    "\n",
    "from random import choice\n",
    "\n",
    "print(\"Let's play Rock, Paper & Scissors!\")\n",
    "\n",
    "mi_partida()\n",
    "main()\n",
    "\n",
    "def mi_partida():\n",
    "    \n",
    "    gestures = [\"rock\", \"paper\", \"scissors\"]\n",
    "\n",
    "    scores = 0\n",
    "\n",
    "    player = input(\"Choose between rock, paper or scissors: \")\n",
    "\n",
    "    if player in gestures:\n",
    "        print(\"Good!\")\n",
    "    \n",
    "    else:\n",
    "        print(\"You dont have chose a option correct\")\n",
    "    \n",
    "    print(\"You have chose:\", player)\n",
    "\n",
    "    cpu = choice(gestures)\n",
    "    print(\"Cpu have chose:\", cpu)\n",
    "    \n",
    "    scores = 0\n",
    "    \n",
    "    if player == cpu:\n",
    "        scores = 0\n",
    "        print(\"Tie\")\n",
    "\n",
    "    if (player == \"rock\"):\n",
    "        if (cpu == \"paper\"):\n",
    "            scores = 2\n",
    "            print(\"You lost!\")\n",
    "        elif (cpu == \"scissors\"):\n",
    "            scores = 1\n",
    "            print(\"You win!\")\n",
    "\n",
    "    if (player == \"paper\"):\n",
    "        if (cpu == \"scissors\"):\n",
    "            scores = 2\n",
    "            print(\"You lost!\")\n",
    "        elif (cpu == \"rock\"):\n",
    "            scores = 1\n",
    "            print(\"You win\")\n",
    "\n",
    "    if (player == \"scissors\"):\n",
    "        if (cpu == \"rock\"):\n",
    "            scores = 2\n",
    "            print(\"You lost\")\n",
    "        elif (cpu == \"paper\"):\n",
    "            scores = 1\n",
    "            print(\"You win\")\n",
    "\n",
    "    return scores\n",
    "    \n",
    "    mi_partida()\n",
    "\n",
    "def main():\n",
    "    player_score = 0\n",
    "    cpu_score = 0\n",
    "    n_rounds = 3\n",
    "    rounds_to_win = 2\n",
    "    n = False\n",
    "    while n==False:\n",
    "        scores = mi_partida()\n",
    "        if scores == 1:\n",
    "            player_score += 1\n",
    "            print(\"Winner of this round: 2\")\n",
    "        elif scores == 2:\n",
    "            cpu_score += 1\n",
    "            print(\"Winner of this round: 1\")\n",
    "        else:\n",
    "            print(\"Winner of this round: 0\")\n",
    "        print (\"Puntuaciones: cpu:\", cpu_score, \"player:\", player_score)\n",
    "        if (player_score == rounds_to_win) | (cpu_score == rounds_to_win):\n",
    "            print(\"Game Over\")\n",
    "            n = True\n",
    "    main()"
   ]
  },
  {
   "cell_type": "markdown",
   "metadata": {},
   "source": [
    "#### 11. Print the winner of the game based on who won more rounds.\n",
    "Remember that the game might be tied. "
   ]
  },
  {
   "cell_type": "code",
   "execution_count": null,
   "metadata": {},
   "outputs": [],
   "source": [
    "print(\"Winner of this game is: cpu\")"
   ]
  },
  {
   "cell_type": "markdown",
   "metadata": {},
   "source": [
    "# Bonus: Rock, Paper, Scissors, Lizard & Spock\n",
    "![](images/rpsls.jpg)\n",
    "\n",
    "In this challenge, you need to improve the previous game by adding two new options. To know more about the rules of the improved version of rock, paper, scissors, check this [link](http://www.samkass.com/theories/RPSSL.html). \n",
    "\n",
    "In addition, you will also need to improve how the game interacts with the player: the number of rounds to play, which must be an odd number, will be requested to the user until a valid number is entered. Define a new function to make that request.\n",
    "\n",
    "**Hint**: Try to reuse the code that you already coded in the previous challenge. If your code is efficient, this bonus will only consist of simple modifications to the original game."
   ]
  },
  {
   "cell_type": "code",
   "execution_count": null,
   "metadata": {},
   "outputs": [],
   "source": []
  }
 ],
 "metadata": {
  "kernelspec": {
   "display_name": "Python 3",
   "language": "python",
   "name": "python3"
  },
  "language_info": {
   "codemirror_mode": {
    "name": "ipython",
    "version": 3
   },
   "file_extension": ".py",
   "mimetype": "text/x-python",
   "name": "python",
   "nbconvert_exporter": "python",
   "pygments_lexer": "ipython3",
   "version": "3.7.6"
  }
 },
 "nbformat": 4,
 "nbformat_minor": 2
}
