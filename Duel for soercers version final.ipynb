{
 "cells": [
  {
   "cell_type": "code",
   "execution_count": 24,
   "metadata": {},
   "outputs": [
    {
     "name": "stdout",
     "output_type": "stream",
     "text": [
      "Saruman win\n",
      "Saruman win\n",
      "Gandalf win\n",
      "Saruman win\n",
      "Gandalf win\n",
      "Gandalf win\n",
      "Saruman win\n",
      "Gandalf win\n",
      "Gandalf win\n",
      "Gandalf win\n"
     ]
    }
   ],
   "source": [
    "# Duel for soerceres\n",
    "\n",
    "gandalf = [10, 11, 13, 30, 22, 11, 10, 33, 22, 22]\n",
    "saruman = [23, 66, 12, 43, 12, 10, 44, 23, 12, 17]\n",
    "\n",
    "#Assign 0 to each variable that stores the victories\n",
    "\n",
    "\n",
    "victories_gandalf = 0\n",
    "victories_saruman = 0\n",
    "\n",
    "# Execution of spell clashes\n",
    "# We check who has won, do not forget the possibility of a draw.\n",
    "# Print the result based on the winner.\n",
    "\n",
    "\n",
    "if len(gandalf) == len(saruman):\n",
    "    for i in range(len(gandalf)):\n",
    "        if gandalf[i] > saruman[i]:\n",
    "            victories_gandalf =+1\n",
    "            print ('Gandalf win')\n",
    "        elif gandalf[i] < saruman[i]:\n",
    "            victories_saruman =+1\n",
    "            print ('Saruman win')\n",
    "        else:\n",
    "            print('it is a draw') \n",
    "        #hasta aqui tengo el codigo de manera correcta no estropear    \n",
    "\n",
    "if victories_gandalf > victories_saruman:\n",
    "    print(\"Gandalf is the winner\")\n",
    "elif victories_gandalf < victories_saruman:\n",
    "    print(\"Saruman is the winner\")\n",
    "            \n",
    "            "
   ]
  },
  {
   "cell_type": "code",
   "execution_count": null,
   "metadata": {},
   "outputs": [],
   "source": []
  }
 ],
 "metadata": {
  "kernelspec": {
   "display_name": "Python 3",
   "language": "python",
   "name": "python3"
  },
  "language_info": {
   "codemirror_mode": {
    "name": "ipython",
    "version": 3
   },
   "file_extension": ".py",
   "mimetype": "text/x-python",
   "name": "python",
   "nbconvert_exporter": "python",
   "pygments_lexer": "ipython3",
   "version": "3.7.3"
  }
 },
 "nbformat": 4,
 "nbformat_minor": 2
}
