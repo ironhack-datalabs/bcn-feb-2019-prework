{
  "nbformat": 4,
  "nbformat_minor": 0,
  "metadata": {
    "colab": {
      "name": "bus.ipynb",
      "version": "0.3.2",
      "provenance": []
    },
    "language_info": {
      "codemirror_mode": {
        "name": "ipython",
        "version": 3
      },
      "file_extension": ".py",
      "mimetype": "text/x-python",
      "name": "python",
      "nbconvert_exporter": "python",
      "pygments_lexer": "ipython3",
      "version": "3.7.2"
    },
    "kernelspec": {
      "display_name": "Python 3",
      "language": "python",
      "name": "python3"
    }
  },
  "cells": [
    {
      "cell_type": "markdown",
      "metadata": {
        "id": "f0k3U7HAu3Fu",
        "colab_type": "text"
      },
      "source": [
        "# Bus\n",
        "\n",
        "This bus has a passenger entry and exit control system to monitor the number of occupants it carries and thus detect when there is too high a capacity.\n",
        "\n",
        "At each stop the entry and exit of passengers is represented by a tuple consisting of two integer numbers.\n",
        "```\n",
        "bus_stop = (in, out)\n",
        "```\n",
        "The succession of stops is represented by a list of these tuples.\n",
        "```\n",
        "stops = [(in1, out1), (in2, out2), (in3, out3), (in4, out4)]\n",
        "```\n",
        "\n",
        "## Goals:\n",
        "* lists, tuples\n",
        "* while/for loops\n",
        "* minimum, maximum, length\n",
        "* average, standard deviation\n",
        "\n",
        "## Tasks\n",
        "1. Calculate the number of stops.\n",
        "2. Assign to a variable a list whose elements are the number of passengers at each stop (in-out),\n",
        "3. Find the maximum occupation of the bus.\n",
        "4. Calculate the average occupation. And the standard deviation.\n"
      ]
    },
    {
      "cell_type": "code",
      "metadata": {
        "id": "WykPZd6cu3Fw",
        "colab_type": "code",
        "colab": {}
      },
      "source": [
        "# variables\n",
        "stops = [(10, 0), (4, 1), (3, 5), (3, 4), (5, 1), (1, 5), (5, 8), (4, 6), (2, 3)]\n",
        "number_stops = 0\n",
        "current_passengers = [0]\n",
        "passengers_stop = 0\n",
        "maximum_ocupation = 0\n",
        "mean_ocupation = 0\n",
        "ocupation_stdev = 0"
      ],
      "execution_count": 0,
      "outputs": []
    },
    {
      "cell_type": "code",
      "metadata": {
        "id": "GIx_QbE6u3F0",
        "colab_type": "code",
        "colab": {
          "base_uri": "https://localhost:8080/",
          "height": 34
        },
        "outputId": "49924b48-9702-4636-c753-c196b772c577"
      },
      "source": [
        "# 1. Calculate the number of stops.\n",
        "number_stops = len(stops)\n",
        "print ('The number of stops in the bus lines is:', number_stops)\n"
      ],
      "execution_count": 22,
      "outputs": [
        {
          "output_type": "stream",
          "text": [
            "The number of stops in the bus lines is: 9\n"
          ],
          "name": "stdout"
        }
      ]
    },
    {
      "cell_type": "code",
      "metadata": {
        "id": "cAT5RcXLu3F3",
        "colab_type": "code",
        "colab": {
          "base_uri": "https://localhost:8080/",
          "height": 34
        },
        "outputId": "1184d5ff-5aac-49c1-c11a-d60982f99b7b"
      },
      "source": [
        "# 2. Assign a variable a list whose elements are the number of passengers in each stop: \n",
        "# Each item depends on the previous item in the list + in - out.\n",
        "current_passengers[0] = stops[0][0]-stops[0][1]\n",
        "for x in range (1, number_stops):\n",
        "  passengers_stop = current_passengers[x-1] + stops[x][0]-stops[x][1]\n",
        "  current_passengers.append(passengers_stop)\n",
        "  \n",
        "print('The list of passengers in the bus along the stops in the line is:', current_passengers)\n"
      ],
      "execution_count": 23,
      "outputs": [
        {
          "output_type": "stream",
          "text": [
            "The list of passengers in the bus along the stops in the line is: [10, 13, 11, 10, 14, 10, 7, 5, 4]\n"
          ],
          "name": "stdout"
        }
      ]
    },
    {
      "cell_type": "code",
      "metadata": {
        "id": "S2VwLqlNu3F6",
        "colab_type": "code",
        "colab": {
          "base_uri": "https://localhost:8080/",
          "height": 34
        },
        "outputId": "21b71e31-0576-48ff-a7ee-8fe96a5b5a48"
      },
      "source": [
        "# 3. Find the maximum occupation of the bus.\n",
        "maximum_ocupation = max(current_passengers)\n",
        "print('The maximum occupation of the bus along it line is:', maximum_ocupation, 'passengers.')"
      ],
      "execution_count": 24,
      "outputs": [
        {
          "output_type": "stream",
          "text": [
            "The maximum occupation of the bus along it line is: 14 passengers.\n"
          ],
          "name": "stdout"
        }
      ]
    },
    {
      "cell_type": "code",
      "metadata": {
        "id": "xPAxo9fJu3F8",
        "colab_type": "code",
        "colab": {
          "base_uri": "https://localhost:8080/",
          "height": 51
        },
        "outputId": "3c6f0cee-3c89-4d26-dc7e-257020f6b162"
      },
      "source": [
        "# 4. Calculate the average occupation. And the standard deviation.\n",
        "mean_ocupation = sum(current_passengers) / len(current_passengers)\n",
        "\n",
        "x = 0\n",
        "for pax in current_passengers:\n",
        "  x += (pax - mean_ocupation)**2\n",
        "ocupation_stdev = (x/len(current_passengers)-1)**0.5\n",
        "\n",
        "print('The average of the bus ocupation is:', mean_ocupation)\n",
        "print('The standard deviation of the bus ocupation is:', ocupation_stdev)"
      ],
      "execution_count": 25,
      "outputs": [
        {
          "output_type": "stream",
          "text": [
            "The average of the bus ocupation is: 9.333333333333334\n",
            "The standard deviation of the bus ocupation is: 3.0368111930480994\n"
          ],
          "name": "stdout"
        }
      ]
    },
    {
      "cell_type": "code",
      "metadata": {
        "id": "kf1ElhtCu3F_",
        "colab_type": "code",
        "colab": {}
      },
      "source": [
        ""
      ],
      "execution_count": 0,
      "outputs": []
    }
  ]
}