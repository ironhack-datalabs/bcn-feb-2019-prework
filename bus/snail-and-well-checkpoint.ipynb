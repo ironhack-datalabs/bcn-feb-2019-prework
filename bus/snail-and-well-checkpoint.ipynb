{
 "cells": [
  {
   "cell_type": "markdown",
   "metadata": {},
   "source": [
    "<img src=\"https://bit.ly/2VnXWr2\" width=\"100\" align=\"left\">"
   ]
  },
  {
   "cell_type": "markdown",
   "metadata": {},
   "source": [
    "# The Snail and the Well\n",
    "\n",
    "A snail falls at the bottom of a 125 cm well. Each day the snail rises 30 cm. But at night, while sleeping, slides 20 cm because the walls are wet. How many days does it take for the snail to escape the well?\n",
    "\n",
    "**Hint**: The snail gets out of the well when it surpasses the 125cm of height.\n",
    "\n",
    "## Tools\n",
    "\n",
    "1. Loop: **while**\n",
    "2. Conditional statements: **if-else**\n",
    "3. Function: **print()**\n",
    "\n",
    "## Tasks\n",
    "\n",
    "#### 1. Assign the challenge data to variables with representative names: `well_height`, `daily_distance`, `nightly_distance` and `snail_position`."
   ]
  },
  {
   "cell_type": "code",
   "execution_count": 5,
   "metadata": {},
   "outputs": [
    {
     "name": "stdout",
     "output_type": "stream",
     "text": [
      "Snail is in the well\n",
      "Snail still doesn't come out\n",
      "Snail still doesn't come out\n",
      "Snail still doesn't come out\n",
      "Snail still doesn't come out\n",
      "Snail still doesn't come out\n",
      "Snail still doesn't come out\n",
      "Snail still doesn't come out\n",
      "Snail still doesn't come out\n",
      "Snail still doesn't come out\n",
      "Snail still doesn't come out\n",
      "Snail still doesn't come out\n",
      "Snail still doesn't come out\n",
      "Snail is outside the well.\n"
     ]
    }
   ],
   "source": [
    "well_height = 125\n",
    "daily_distance = 30\n",
    "nightly_distance = 20\n",
    "snail_position = 0\n",
    "\n",
    "print(\"Snail is in the well\")\n",
    "snail_position += daily_distance - nightly_distance\n",
    "    \n",
    "while snail_position < well_height:\n",
    "    print(\"Snail still doesn't come out\")\n",
    "    snail_position += daily_distance - nightly_distance\n",
    "    \n",
    "print(\"Snail is outside the well.\")"
   ]
  },
  {
   "cell_type": "markdown",
   "metadata": {},
   "source": [
    "#### 2. Create a variable `days` to keep count of the days that pass until the snail escapes the well. "
   ]
  },
  {
   "cell_type": "code",
   "execution_count": 124,
   "metadata": {},
   "outputs": [
    {
     "name": "stdout",
     "output_type": "stream",
     "text": [
      "12.5\n"
     ]
    }
   ],
   "source": [
    "well_height = 125\n",
    "daily_distance = 30\n",
    "nightly_distance = -20\n",
    "\n",
    "days = well_height / (daily_distance + nightly_distance)\n",
    "\n",
    "print(days)"
   ]
  },
  {
   "cell_type": "markdown",
   "metadata": {},
   "source": [
    "#### 3. Find the solution to the challenge using the variables defined above. "
   ]
  },
  {
   "cell_type": "code",
   "execution_count": 18,
   "metadata": {},
   "outputs": [
    {
     "name": "stdout",
     "output_type": "stream",
     "text": [
      "Snail is in the well\n",
      "Snail still doesn't come out\n",
      "Snail still doesn't come out\n",
      "Snail still doesn't come out\n",
      "Snail still doesn't come out\n",
      "Snail still doesn't come out\n",
      "Snail still doesn't come out\n",
      "Snail still doesn't come out\n",
      "Snail still doesn't come out\n",
      "Snail still doesn't come out\n",
      "Snail still doesn't come out\n",
      "Snail still doesn't come out\n",
      "Snail still doesn't come out\n",
      "Snail is outside the well.\n",
      "Snail is outside the well\n"
     ]
    }
   ],
   "source": [
    "well_height = 125\n",
    "daily_distance = 30\n",
    "nightly_distance = 20\n",
    "snail_position = 0\n",
    "days= 12.5\n",
    "\n",
    "print(\"Snail is in the well\")\n",
    "snail_position += daily_distance - nightly_distance\n",
    "    \n",
    "while snail_position < well_height:\n",
    "    print(\"Snail still doesn't come out\")\n",
    "    snail_position += daily_distance - nightly_distance\n",
    "    \n",
    "print(\"Snail is outside the well.\")\n",
    " \n",
    "if days < 12.5:\n",
    "    print(\"Snail still doesn't come out\")\n",
    "elif days >= 12.5:\n",
    "    print(\"Snail is outside the well\")\n",
    "else:\n",
    "    print(\"Snail probably didn't fall into the well\")"
   ]
  },
  {
   "cell_type": "markdown",
   "metadata": {},
   "source": [
    "#### 4. Print the solution."
   ]
  },
  {
   "cell_type": "code",
   "execution_count": 9,
   "metadata": {},
   "outputs": [
    {
     "name": "stdout",
     "output_type": "stream",
     "text": [
      "Snail is outside the well in  12.5 days\n"
     ]
    }
   ],
   "source": [
    "print(\"Snail is outside the well in \", days, \"days\")"
   ]
  },
  {
   "cell_type": "markdown",
   "metadata": {},
   "source": [
    "## Bonus\n",
    "The distance traveled by the snail each day is now defined by a list.\n",
    "```\n",
    "advance_cm = [30, 21, 33, 77, 44, 45, 23, 45, 12, 34, 55]\n",
    "```\n",
    "On the first day, the snail rises 30cm but during the night it slides 20cm. On the second day, the snail rises 21cm but during the night it slides 20cm, and so on. \n",
    "\n",
    "#### 1. How many days does it take for the snail to escape the well?\n",
    "Follow the same guidelines as in the previous challenge.\n",
    "\n",
    "**Hint**: Remember that the snail gets out of the well when it surpasses the 125cm of height."
   ]
  },
  {
   "cell_type": "code",
   "execution_count": 116,
   "metadata": {},
   "outputs": [
    {
     "name": "stdout",
     "output_type": "stream",
     "text": [
      "30\n",
      "10\n",
      "31\n",
      "11\n",
      "44\n",
      "24\n",
      "101\n",
      "81\n",
      "125\n",
      "105\n",
      "150\n",
      "130\n",
      "153\n",
      "133\n",
      "178\n",
      "158\n",
      "170\n",
      "150\n",
      "184\n",
      "164\n",
      "219\n",
      "199\n",
      "[30, 10, 31, 11, 44, 24, 101, 81, 125, 105, 150, 130]\n"
     ]
    }
   ],
   "source": [
    "well_height = 125\n",
    "advance_cm = [30, -20, 21, -20, 33, -20, 77, -20, 44, -20, 45, -20, 23, -20, 45, -20, 12, -20, 34, -20, 55, -20]\n",
    "night_slide = 20\n",
    "total = 0\n",
    " \n",
    "for i in advance_cm:\n",
    "    total += i \n",
    "    print(total)\n",
    "    \n",
    "if i >= well_height:\n",
    "    print(\"The snail escaped from the well\")\n",
    "    \n",
    "from itertools import accumulate \n",
    "\n",
    "total_advanced = (list(accumulate(advance_cm)))\n",
    "\n",
    "total_advanced = total_advanced[0:12]\n",
    "print(total_advanced)"
   ]
  },
  {
   "cell_type": "markdown",
   "metadata": {},
   "source": [
    "#### 2. What is its maximum displacement in one day? And its minimum? Calculate the displacement using only the travel distance of the days used to get out of the well. \n",
    "**Hint**: Remember that displacement means the total distance risen taking into account that the snail slides at night.  "
   ]
  },
  {
   "cell_type": "code",
   "execution_count": 18,
   "metadata": {},
   "outputs": [
    {
     "name": "stdout",
     "output_type": "stream",
     "text": [
      "Maximum displacement 77 Minimumm displacement 21\n"
     ]
    }
   ],
   "source": [
    "advance_cm = [30, 21, 33, 77, 44]\n",
    "\n",
    "print(\"Maximum displacement\", max(advance_cm), \"Minimumm displacement\", min(advance_cm))"
   ]
  },
  {
   "cell_type": "markdown",
   "metadata": {},
   "source": [
    "# 3. What is its average progress? Take into account the snail slides at night."
   ]
  },
  {
   "cell_type": "code",
   "execution_count": 117,
   "metadata": {},
   "outputs": [
    {
     "name": "stdout",
     "output_type": "stream",
     "text": [
      "[10, 31, 11, 44, 24, 101, 81, 125, 105, 150, 130]\n",
      "[10, 11, 44, 24, 101, 81, 125, 105, 150, 130]\n",
      "[10, 11, 24, 101, 81, 125, 105, 150, 130]\n",
      "[10, 11, 24, 81, 125, 105, 150, 130]\n",
      "[10, 11, 24, 81, 105, 150, 130]\n",
      "[10, 11, 24, 81, 105, 130]\n",
      "60.166666666666664\n"
     ]
    }
   ],
   "source": [
    "i = 0\n",
    "while (i < len(total_advanced)):\n",
    "    del total_advanced[i]\n",
    "    i += 1\n",
    "    total_advanced = total_advanced\n",
    "    print(total_advanced)\n",
    "\n",
    "average_progress = sum(total_advanced)/len(total_advanced)\n",
    "\n",
    "print(average_progress)"
   ]
  },
  {
   "cell_type": "markdown",
   "metadata": {},
   "source": [
    "#### 4. What is the standard deviation of its displacement? Take into account the snail slides at night."
   ]
  },
  {
   "cell_type": "code",
   "execution_count": 118,
   "metadata": {},
   "outputs": [
    {
     "name": "stdout",
     "output_type": "stream",
     "text": [
      "52.082306656547644\n"
     ]
    }
   ],
   "source": [
    "from math import sqrt\n",
    "\n",
    "suma = 0\n",
    "\n",
    "for i in total_advanced[0:6]:\n",
    "    suma += (i - average_progress) ** 2\n",
    "             \n",
    "radicando = suma / (len(total_advanced) - 1)\n",
    "             \n",
    "standard_deviation = sqrt(radicando)\n",
    "             \n",
    "print(standard_deviation)"
   ]
  }
 ],
 "metadata": {
  "kernelspec": {
   "display_name": "Python 3",
   "language": "python",
   "name": "python3"
  },
  "language_info": {
   "codemirror_mode": {
    "name": "ipython",
    "version": 3
   },
   "file_extension": ".py",
   "mimetype": "text/x-python",
   "name": "python",
   "nbconvert_exporter": "python",
   "pygments_lexer": "ipython3",
   "version": "3.7.6"
  }
 },
 "nbformat": 4,
 "nbformat_minor": 2
}
