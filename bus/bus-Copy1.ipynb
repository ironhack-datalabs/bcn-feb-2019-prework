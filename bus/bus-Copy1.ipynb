{
 "cells": [
  {
   "cell_type": "markdown",
   "metadata": {},
   "source": [
    "# Bus\n",
    "\n",
    "This bus has a passenger entry and exit control system to monitor the number of occupants it carries and thus detect when there is too high a capacity.\n",
    "\n",
    "At each stop the entry and exit of passengers is represented by a tuple consisting of two integer numbers.\n",
    "```\n",
    "bus_stop = (in, out)\n",
    "```\n",
    "The succession of stops is represented by a list of these tuples.\n",
    "```\n",
    "stops = [(in1, out1), (in2, out2), (in3, out3), (in4, out4)]\n",
    "```\n",
    "\n",
    "## Goals:\n",
    "* lists, tuples\n",
    "* while/for loops\n",
    "* minimum, maximum, length\n",
    "* average, standard deviation\n",
    "\n",
    "## Tasks\n",
    "1. Calculate the number of stops.\n",
    "2. Assign to a variable a list whose elements are the number of passengers at each stop (in-out),\n",
    "3. Find the maximum occupation of the bus.\n",
    "4. Calculate the average occupation. And the standard deviation.\n"
   ]
  },
  {
   "cell_type": "code",
   "execution_count": 1,
   "metadata": {},
   "outputs": [],
   "source": [
    "# variables\n",
    "x=32\n",
    "y=12\n",
    "bus_stop = (x, y)\n",
    "stops = [(x + 1, y + 1), (x + 2, y + 2), (x + 3, y + 3), (x + 4, y + 4)]\n",
    "\n",
    "a=25\n",
    "b=18\n",
    "c=6\n",
    "d=13\n",
    "e=9\n",
    "f=3\n",
    "g=16\n",
    "h=8\n",
    "\n",
    "\n",
    "\n"
   ]
  },
  {
   "cell_type": "code",
   "execution_count": 2,
   "metadata": {},
   "outputs": [
    {
     "name": "stdout",
     "output_type": "stream",
     "text": [
      "4\n"
     ]
    }
   ],
   "source": [
    "# 1. Calculate the number of stops.\n",
    "\n",
    "print(len(stops))\n",
    "\n"
   ]
  },
  {
   "cell_type": "code",
   "execution_count": 3,
   "metadata": {},
   "outputs": [
    {
     "name": "stdout",
     "output_type": "stream",
     "text": [
      "14\n"
     ]
    }
   ],
   "source": [
    "# 2. Assign a variable a list whose elements are the number of passengers in each stop: \n",
    "# Each item depends on the previous item in the list + in - out.\n",
    "\n",
    "number_passenger = (a-b)+(c-d)+(e-f)+(g-h)\n",
    "print(number_passenger)\n",
    "\n"
   ]
  },
  {
   "cell_type": "code",
   "execution_count": 7,
   "metadata": {},
   "outputs": [
    {
     "name": "stdout",
     "output_type": "stream",
     "text": [
      "8\n"
     ]
    }
   ],
   "source": [
    "# 3. Find the maximum occupation of the bus.\n",
    "number_passenger_list = [(a - b), (c - d), (e - f), (g - h)]\n",
    "print(max(number_passenger_list))\n"
   ]
  },
  {
   "cell_type": "code",
   "execution_count": 10,
   "metadata": {},
   "outputs": [
    {
     "name": "stdout",
     "output_type": "stream",
     "text": [
      "Average of the list = 3.5\n",
      "Standard Deviation of sample is 7.047458170621991 \n"
     ]
    }
   ],
   "source": [
    "# 4. Calculate the average occupation. And the standard deviation.\n",
    "# Python program to get average of a list\n",
    "# Using mean()\n",
    "\n",
    "# importing mean()\n",
    "from statistics import mean\n",
    "\n",
    "\n",
    "def Average(lst):\n",
    "    return mean(lst)\n",
    "\n",
    "\n",
    "# Driver Code\n",
    "lst = [(a - b), (c - d), (e - f), (g - h)]\n",
    "average = Average(lst)\n",
    "\n",
    "# Printing average of the list\n",
    "print(\"Average of the list =\", round(average, 2))\n",
    "\n",
    "\n",
    "\n",
    "# Python code to demonstrate stdev() function \n",
    "  \n",
    "# importing Statistics module \n",
    "import statistics \n",
    "  \n",
    "# creating a simple data - set \n",
    "sample = [(a - b), (c - d), (e - f), (g - h)]\n",
    "  \n",
    "# Prints standard deviation \n",
    "# xbar is set to default value of 1 \n",
    "print(\"Standard Deviation of sample is % s \" \n",
    "                % (statistics.stdev(sample))) \n"
   ]
  },
  {
   "cell_type": "code",
   "execution_count": null,
   "metadata": {},
   "outputs": [],
   "source": []
  },
  {
   "cell_type": "code",
   "execution_count": null,
   "metadata": {},
   "outputs": [],
   "source": []
  }
 ],
 "metadata": {
  "kernelspec": {
   "display_name": "Python 3",
   "language": "python",
   "name": "python3"
  },
  "language_info": {
   "codemirror_mode": {
    "name": "ipython",
    "version": 3
   },
   "file_extension": ".py",
   "mimetype": "text/x-python",
   "name": "python",
   "nbconvert_exporter": "python",
   "pygments_lexer": "ipython3",
   "version": "3.7.3"
  }
 },
 "nbformat": 4,
 "nbformat_minor": 2
}
