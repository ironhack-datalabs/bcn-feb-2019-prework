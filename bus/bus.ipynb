{
 "cells": [
  {
   "cell_type": "markdown",
   "metadata": {},
   "source": [
    "# Bus\n",
    "\n",
    "This bus has a passenger entry and exit control system to monitor the number of occupants it carries and thus detect when there is too high a capacity.\n",
    "\n",
    "At each stop the entry and exit of passengers is represented by a tuple consisting of two integer numbers.\n",
    "```\n",
    "bus_stop = (in, out)\n",
    "```\n",
    "The succession of stops is represented by a list of these tuples.\n",
    "```\n",
    "stops = [(in1, out1), (in2, out2), (in3, out3), (in4, out4)]\n",
    "```\n",
    "\n",
    "## Goals:\n",
    "* lists, tuples\n",
    "* while/for loops\n",
    "* minimum, maximum, length\n",
    "* average, standard deviation\n",
    "\n",
    "## Tasks\n",
    "1. Calculate the number of stops.\n",
    "2. Assign to a variable a list whose elements are the number of passengers at each stop (in-out),\n",
    "3. Find the maximum occupation of the bus.\n",
    "4. Calculate the average occupation. And the standard deviation.\n"
   ]
  },
  {
   "cell_type": "code",
   "execution_count": 4,
   "metadata": {},
   "outputs": [],
   "source": [
    "# variables\n",
    "# assumtions: \n",
    "    # max. expected number of passanges coming in in one stop = 25\n",
    "    # 0 passangers leave the bus at the 1st stop\n",
    "    # 0 passanges enter the bus at the last stop\n",
    "    # all passangers leave the bus at the last stop\n",
    "    \n",
    "from random import randint\n",
    "\n",
    "in1 = randint (0,26)\n",
    "out1 = 0\n",
    "in2 = randint (0,26)\n",
    "out2 = randint (0,(in1+1))\n",
    "in3 = randint (0,26)\n",
    "out3 = randint (0,(in1+in2+1))\n",
    "in4 = 0\n",
    "out4 = in1 + in2 - out2 + in3 - out3\n",
    "\n",
    "stops =  [(in1, out1), (in2, out2), (in3, out3), (in4, out4)]\n",
    "\n",
    "\n",
    "#  list provided by TA\n",
    "stops_TA = [(10, 0), (4, 1), (3, 5), (3, 4), (5, 1), (1, 5), (5, 8 ), (4, 6), (2, 3)] \n"
   ]
  },
  {
   "cell_type": "code",
   "execution_count": 6,
   "metadata": {},
   "outputs": [
    {
     "name": "stdout",
     "output_type": "stream",
     "text": [
      "Number of stops = 4.\n",
      "Number of stops = 9.\n"
     ]
    }
   ],
   "source": [
    "# 1. Calculate the number of stops.\n",
    "print(\"Number of stops = %s.\" % (len(stops)))\n",
    "\n",
    "\n",
    "\n",
    "# from list provided by TA\n",
    "print(\"Number of stops = %s.\" % (len(stops_TA)))\n"
   ]
  },
  {
   "cell_type": "code",
   "execution_count": 7,
   "metadata": {},
   "outputs": [
    {
     "name": "stdout",
     "output_type": "stream",
     "text": [
      "The number of people on the bus after each stop are: [3, 3, 11, 0]\n",
      "The number of people on the bus after each stop are: [10, 13, 11, 10, 14, 10, 7, 5, 4]\n"
     ]
    }
   ],
   "source": [
    "# 2. Assign a variable a list whose elements are the number of passengers in each stop: \n",
    "# Each item depends on the previous item in the list + in - out.\n",
    "start = 0 \n",
    "occupation = []\n",
    "\n",
    "for row in stops:\n",
    "    start = start + row [0] - row[1]\n",
    "    occupation.append (start)\n",
    "   \n",
    "      \n",
    "print (\"The number of people on the bus after each stop are:\", occupation)\n",
    "\n",
    "\n",
    "\n",
    "# from list provided by TA\n",
    "start_TA= 0\n",
    "occupation_TA = []\n",
    "for x, y in stops_TA:\n",
    "    start_TA = start_TA + x - y\n",
    "    occupation_TA.append (start_TA)\n",
    "\n",
    "          \n",
    "print (\"The number of people on the bus after each stop are:\", occupation_TA)\n",
    "    \n"
   ]
  },
  {
   "cell_type": "code",
   "execution_count": 8,
   "metadata": {},
   "outputs": [
    {
     "name": "stdout",
     "output_type": "stream",
     "text": [
      "The maximum occupation of the bus is: 11.\n",
      "The maximum occupation of the bus is: 14.\n"
     ]
    }
   ],
   "source": [
    "# 3. Find the maximum occupation of the bus.\n",
    "print (\"The maximum occupation of the bus is: % s.\" % (max(occupation)))\n",
    "\n",
    "# from list provided by TA\n",
    "print (\"The maximum occupation of the bus is: % s.\" % (max(occupation_TA)))"
   ]
  },
  {
   "cell_type": "code",
   "execution_count": 9,
   "metadata": {},
   "outputs": [
    {
     "name": "stdout",
     "output_type": "stream",
     "text": [
      "Standard Deviation is 4.\n",
      "Standard Deviation is 3.\n"
     ]
    }
   ],
   "source": [
    "# 4. Calculate the average occupation. And the standard deviation.\n",
    "\n",
    "import statistics\n",
    "print(\"Standard Deviation is % s.\" \n",
    "                % (int(statistics.stdev(occupation))))\n",
    "\n",
    "# from list provided by TA\n",
    "import statistics\n",
    "print(\"Standard Deviation is % s.\" \n",
    "                % (int(statistics.stdev(occupation_TA))))"
   ]
  },
  {
   "cell_type": "code",
   "execution_count": null,
   "metadata": {},
   "outputs": [],
   "source": []
  },
  {
   "cell_type": "code",
   "execution_count": null,
   "metadata": {},
   "outputs": [],
   "source": []
  }
 ],
 "metadata": {
  "kernelspec": {
   "display_name": "Python 3",
   "language": "python",
   "name": "python3"
  },
  "language_info": {
   "codemirror_mode": {
    "name": "ipython",
    "version": 3
   },
   "file_extension": ".py",
   "mimetype": "text/x-python",
   "name": "python",
   "nbconvert_exporter": "python",
   "pygments_lexer": "ipython3",
   "version": "3.7.3"
  }
 },
 "nbformat": 4,
 "nbformat_minor": 2
}
