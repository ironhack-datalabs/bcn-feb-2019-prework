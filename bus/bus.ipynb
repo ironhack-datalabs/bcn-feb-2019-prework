{
 "cells": [
  {
   "cell_type": "code",
   "execution_count": 18,
   "metadata": {},
   "outputs": [
    {
     "name": "stdout",
     "output_type": "stream",
     "text": [
      "Número de paradas:  9\n",
      "Número de pasajeros por parada:  [10, 13, 11, 10, 14, 10, 7, 5, 4]\n",
      "---------\n",
      "La máxima ocupación fue:  14\n",
      "La ocupación promedio fue de:  9.333333333333334 pasajeros\n",
      "Desviación estándar:  3.197221015541813\n"
     ]
    }
   ],
   "source": [
    "inpass=[]\n",
    "outpass=[]\n",
    "numpass=[]\n",
    "temptotal=0\n",
    "numin=0\n",
    "numout=0\n",
    "stops = [(10, 0), (4, 1), (3, 5), (3, 4), (5, 1), (1, 5), (5, 8), (4, 6), (2, 3)]\n",
    "num_stops=len (stops)\n",
    "print (\"Número de paradas: \", num_stops)\n",
    "inpass=[]\n",
    "outpass=[]\n",
    "numpass=[]\n",
    "temptotal=0\n",
    "numin=0\n",
    "numout=0\n",
    "countin=[]\n",
    "countout=[]\n",
    "for i in stops:\n",
    "    inpass.append(i[0])\n",
    "    outpass.append(i[1])\n",
    "for i in range(len(inpass)):\n",
    "    #print (\"---------\")\n",
    "    numin=numin + inpass[i]\n",
    "    #print (\"numin: \",numin)\n",
    "    numout=numout + outpass[i]\n",
    "    #print(\"numout: \",numout)\n",
    "    temptotal=numin-numout\n",
    "    #print (\"temptotal: \",temptotal)\n",
    "    numpass.append(temptotal)\n",
    "\n",
    "print (\"Número de pasajeros por parada: \",numpass)\n",
    "print (\"---------\")    \n",
    "max_occ=max(numpass)\n",
    "print(\"La máxima ocupación fue: \", max_occ)\n",
    "ave_occ=sum(numpass)/len(numpass)\n",
    "print(\"La ocupación promedio fue de: \",ave_occ,\"pasajeros\")\n",
    "\n",
    "import math\n",
    "desv=[]\n",
    "desv2=[]\n",
    "desvres=[]\n",
    "desvele=[]\n",
    "\n",
    "for i in numpass:\n",
    "    desvres = ave_occ - i\n",
    "    desv.append(desvres)     \n",
    "for j in desv:\n",
    "    desvele = pow(j,2)\n",
    "    desv2.append(desvele)\n",
    "    \n",
    "desvmedele = sum(desv2)/len(desv2)\n",
    "desvsta=math.sqrt(desvmedele)\n",
    "print(\"Desviación estándar: \",desvsta)"
   ]
  },
  {
   "cell_type": "code",
   "execution_count": null,
   "metadata": {},
   "outputs": [],
   "source": []
  }
 ],
 "metadata": {
  "kernelspec": {
   "display_name": "Python 3",
   "language": "python",
   "name": "python3"
  },
  "language_info": {
   "codemirror_mode": {
    "name": "ipython",
    "version": 3
   },
   "file_extension": ".py",
   "mimetype": "text/x-python",
   "name": "python",
   "nbconvert_exporter": "python",
   "pygments_lexer": "ipython3",
   "version": "3.7.4"
  }
 },
 "nbformat": 4,
 "nbformat_minor": 2
}
