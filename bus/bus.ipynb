{
 "cells": [
  {
   "cell_type": "markdown",
   "metadata": {},
   "source": [
    "##### Bus\n",
    "\n",
    "This bus has a passenger entry and exit control system to monitor the number of occupants it carries and thus detect when there is too high a capacity.\n",
    "\n",
    "At each stop the entry and exit of passengers is represented by a tuple consisting of two integer numbers.\n",
    "```\n",
    "bus_stop = (in, out)\n",
    "```\n",
    "The succession of stops is represented by a list of these tuples.\n",
    "```\n",
    "stops = [(in1, out1), (in2, out2), (in3, out3), (in4, out4)]\n",
    "```\n",
    "\n",
    "## Goals:\n",
    "* lists, tuples\n",
    "* while/for loops\n",
    "* minimum, maximum, length\n",
    "* average, standard deviation\n",
    "\n",
    "## Tasks\n",
    "1. Calculate the number of stops.\n",
    "2. Assign to a variable a list whose elements are the number of passengers at each stop (in-out),\n",
    "3. Find the maximum occupation of the bus.\n",
    "4. Calculate the average occupation. And the standard deviation.\n"
   ]
  },
  {
   "cell_type": "code",
   "execution_count": 1,
   "metadata": {},
   "outputs": [],
   "source": [
    "# variables\n",
    "\n"
   ]
  },
  {
   "cell_type": "code",
   "execution_count": 2,
   "metadata": {},
   "outputs": [],
   "source": [
    "# 1. Calculate the number of stops.\n",
    "\n"
   ]
  },
  {
   "cell_type": "code",
   "execution_count": 3,
   "metadata": {},
   "outputs": [],
   "source": [
    "# 2. Assign a variable a list whose elements are the number of passengers in each stop: \n",
    "# Each item depends on the previous item in the list + in - out.\n",
    "\n"
   ]
  },
  {
   "cell_type": "code",
   "execution_count": 4,
   "metadata": {},
   "outputs": [],
   "source": [
    "# 3. Find the maximum occupation of the bus.\n",
    "\n"
   ]
  },
  {
   "cell_type": "code",
   "execution_count": 5,
   "metadata": {},
   "outputs": [],
   "source": [
    "# 4. Calculate the average occupation. And the standard deviation.\n",
    "\n"
   ]
  },
  {
   "cell_type": "code",
   "execution_count": null,
   "metadata": {},
   "outputs": [],
   "source": [
    "NOTE FOR THE TEACHERS/COURSE MANAGERS = 0 \n",
    "# I've struggled a lot with this exercise, \n",
    "# I really do not know how to proceed and resolve it, \n",
    "# I've made some notes that a guy from the course sent me but \n",
    "# I would like to have it revised with you. Thank you"
   ]
  },
  {
   "cell_type": "code",
   "execution_count": null,
   "metadata": {
    "scrolled": true
   },
   "outputs": [],
   "source": [
    "number_of_stops = 0\n",
    "list_of_stops = []\n",
    "number_of_travels = number_of_stops - 1\n",
    "number_of_passengers = []\n",
    "average_of_passenger = 0\n",
    "SD_passengers = 0\n",
    "Out = \"\"\n",
    "In = \"\"\n",
    "\n",
    "\n",
    "print(\"\\n**** I\\\"m considering that the first stop and the last stop are\")\n",
    "print(\"the begin and the end of the route respectively. So there are no\")\n",
    "print(\"passengers exiting the first stop neither entering the last. ****\\n\")\n",
    "\n",
    "\n",
    "number_of_stops = 4\n",
    "\n",
    "is_a_number = 0\n",
    "\n",
    "while is_a_number == 0:\n",
    "    try:\n",
    "        number_of_stops = 4(number_of_stops)\n",
    "        is_a_number = 1\n",
    "    except:\n",
    "        print(\"Please enter a number,\")\n",
    "        number_of_stops = 4\n",
    "\n",
    "for i in range(number_of_stops):\n",
    "\n",
    "    if i == 0:\n",
    "        In = 1\n",
    "        is_a_number = 0\n",
    "        while is_a_number == 0:\n",
    "            try:\n",
    "                In = int(In)\n",
    "                is_a_number = 1\n",
    "            except:\n",
    "                print(\"Please enter a number,\")\n",
    "                In = input(\"How many passengers ENTER the bus at the initial stop? \")\n",
    "\n",
    "        list_of_stops.append((In,0))\n",
    "\n",
    "    elif i < number_of_stops -1:\n",
    "        In = \"\"\n",
    "        Out = \"\"\n",
    "        In = input(\"How many passengers ENTER the bus at the stop number %d ?\" % i)\n",
    "        is_a_number = 0\n",
    "        while is_a_number == 0:\n",
    "            try:\n",
    "                In = int(In)\n",
    "                is_a_number = 1\n",
    "            except:\n",
    "                print(\"Please enter a number,\")\n",
    "                In = input(\"How many passengers ENTER the bus at the stop number %d ?\" % i)\n",
    "\n",
    "        Out = input(\"And how many passengers LEAVE the bus at the stop number %d ?\" % i)\n",
    "        is_a_number = 0\n",
    "        while is_a_number == 0:\n",
    "            try:\n",
    "                Out = int(Out)\n",
    "                is_a_number = 1\n",
    "            except:\n",
    "                print(\"Please enter a number,\")\n",
    "                Out = input(\"How many passengers LEAVE the bus at the stop number %d ?\" % i)\n",
    "\n",
    "        list_of_stops.append((In, Out))\n",
    "    else:\n",
    "        a = sum(i[0] for i in list_of_stops)\n",
    "        b = sum(i[1] for i in list_of_stops)\n",
    "        exits_last_stop = a - b\n",
    "        list_of_stops.append((0, exits_last_stop))\n",
    "\n",
    "list_maximum_occupation = []\n",
    "\n",
    "for value in range(len(list_of_stops)-1):\n",
    "    a = sum(i[0] for i in list_of_stops[:(value + 1)])\n",
    "    b = sum(i[1] for i in list_of_stops[:(value + 1)])\n",
    "    list_maximum_occupation.append(a-b)\n",
    "\n",
    "\n",
    "print(\"\\nThe current bus route have %d stops\" % number_of_stops)\n",
    "print(\"\\nThe tuple relative to the bus route is %s\" % list_of_stops)\n",
    "print(\"\\nThe occupation of the bus in-between stops is %s\\n\" % list_maximum_occupation)\n",
    "\n",
    "maximum_occupation = max(list_maximum_occupation)\n",
    "average_ocucupation = sum(list_maximum_occupation) / (len(list_of_stops) - 1)\n",
    "\n",
    "import math\n",
    "\n",
    "advance_cm_onexit = []\n",
    "tin = 0\n",
    "while tin < len(list_maximum_occupation):\n",
    "    advance_cm_onexit.append(math.pow((list_maximum_occupation[tin] - average_ocucupation), 2))\n",
    "    tin += 1\n",
    "\n",
    "standard_variation = math.sqrt(sum(advance_cm_onexit)/len(list_maximum_occupation))\n",
    "\n",
    "print(\"The maximum occupation is %d\" % maximum_occupation)\n",
    "print(\"The average occupation is %.2f\" % average_ocucupation)\n",
    "print(\"The standard variation is %.2f\" % standard_variation)"
   ]
  },
  {
   "cell_type": "code",
   "execution_count": null,
   "metadata": {},
   "outputs": [],
   "source": []
  }
 ],
 "metadata": {
  "kernelspec": {
   "display_name": "Python 3",
   "language": "python",
   "name": "python3"
  },
  "language_info": {
   "codemirror_mode": {
    "name": "ipython",
    "version": 3
   },
   "file_extension": ".py",
   "mimetype": "text/x-python",
   "name": "python",
   "nbconvert_exporter": "python",
   "pygments_lexer": "ipython3",
   "version": "3.9.2"
  }
 },
 "nbformat": 4,
 "nbformat_minor": 2
}
