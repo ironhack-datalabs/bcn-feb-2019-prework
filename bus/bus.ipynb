{
 "cells": [
  {
   "cell_type": "markdown",
   "metadata": {},
   "source": [
    "<img src=\"https://bit.ly/2VnXWr2\" width=\"100\" align=\"left\">"
   ]
  },
  {
   "cell_type": "markdown",
   "metadata": {},
   "source": [
    "# Bus\n",
    "\n",
    "This bus has a passenger entry and exit control system to monitor the number of occupants it carries and thus detect when there are too many.\n",
    "\n",
    "At each stop, the entry and exit of passengers is represented by a tuple consisting of two integer numbers.\n",
    "```\n",
    "bus_stop = (in, out)\n",
    "```\n",
    "The succession of stops is represented by a list of these tuples.\n",
    "```\n",
    "stops = [(in1, out1), (in2, out2), (in3, out3), (in4, out4)]\n",
    "```\n",
    "\n",
    "## Tools\n",
    "You don't necessarily need to use all the tools. Maybe you opt to use some of them or completely different ones, they are given to help you shape the exercise. Programming exercises can be solved in many different ways.\n",
    "* Data structures: **lists, tuples**\n",
    "* Loop: **while/for loops**\n",
    "* Functions: **min, max, len**\n",
    "\n",
    "## Tasks"
   ]
  },
  {
   "cell_type": "code",
   "execution_count": 65,
   "metadata": {},
   "outputs": [],
   "source": [
    "# Variables\n",
    "stops = [(10, 0), (4, 1), (3, 5), (3, 4), (5, 1), (1, 5), (5, 8), (4, 6), (2, 3)]"
   ]
  },
  {
   "cell_type": "markdown",
   "metadata": {},
   "source": [
    "#### 1. Calculate the number of stops."
   ]
  },
  {
   "cell_type": "code",
   "execution_count": 66,
   "metadata": {},
   "outputs": [
    {
     "name": "stdout",
     "output_type": "stream",
     "text": [
      "9\n"
     ]
    }
   ],
   "source": [
    "print(len(stops))"
   ]
  },
  {
   "cell_type": "markdown",
   "metadata": {},
   "source": [
    "#### 2. Assign to a variable a list whose elements are the number of passengers at each stop (in-out).\n",
    "Each item depends on the previous item in the list + in - out."
   ]
  },
  {
   "cell_type": "code",
   "execution_count": 122,
   "metadata": {},
   "outputs": [
    {
     "name": "stdout",
     "output_type": "stream",
     "text": [
      "[10, 4, 3, 3, 5, 1, 5, 4, 2] [0, 1, 5, 4, 1, 5, 8, 6, 3]\n"
     ]
    }
   ],
   "source": [
    "inside= [i[0] for i in stops] #list comprehension to access the index of a list of tuples\n",
    "outside= [i[1] for i in stops]\n",
    "print(inside, outside) #visualizing two list, first one containing people boarding, second one containing people leaving.\n",
    "occupation= [] #each element is the number of passenger getting onboard (positive integers) or getting out (negative integers) of the bus at any given stops\n",
    "x=0            #variable to pass in the elements of a sum and append them to a list (couldn't find any other way - probably slow)\n",
    "maxcap=[]      #list that contains the total number of passengers at any given stop. The max of this will give the highest capacity reached within the day"
   ]
  },
  {
   "cell_type": "markdown",
   "metadata": {},
   "source": [
    "#### 3. Find the maximum occupation of the bus."
   ]
  },
  {
   "cell_type": "code",
   "execution_count": 123,
   "metadata": {},
   "outputs": [
    {
     "name": "stdout",
     "output_type": "stream",
     "text": [
      "the highest capacity of the bus through this run was of  14\n"
     ]
    }
   ],
   "source": [
    "for busstop in zip(inside, outside):\n",
    "    passengers_movement=busstop[0]-busstop[1]\n",
    "    occupation.append(passengers_movement)\n",
    "    x=sum(occupation) #this step only served the purpose of passing elements of a sum to a list; the code \"maxcap.append(sum(occupation))\" wasn't working although both maxcap and occupation are iterables (?)\n",
    "    maxcap.append(x)\n",
    "    \n",
    "print(\"the highest capacity of the bus through this run was of \", max(maxcap))"
   ]
  },
  {
   "cell_type": "markdown",
   "metadata": {},
   "source": [
    "#### 4. Calculate the average occupation. And the standard deviation."
   ]
  },
  {
   "cell_type": "code",
   "execution_count": 127,
   "metadata": {},
   "outputs": [
    {
     "name": "stdout",
     "output_type": "stream",
     "text": [
      "Average Occupation of the bus is : 9.333333333333334\n",
      "Standard Deviation is : 3.391164991562634\n"
     ]
    }
   ],
   "source": [
    "import statistics \n",
    "\n",
    "AvgOccupation= sum(maxcap)/len(maxcap)\n",
    "Stdev=statistics.stdev(maxcap)\n",
    "\n",
    "print(\"Average Occupation of the bus is :\", AvgOccupation)\n",
    "print(\"Standard Deviation is :\", Stdev)"
   ]
  }
 ],
 "metadata": {
  "kernelspec": {
   "display_name": "Python 3",
   "language": "python",
   "name": "python3"
  },
  "language_info": {
   "codemirror_mode": {
    "name": "ipython",
    "version": 3
   },
   "file_extension": ".py",
   "mimetype": "text/x-python",
   "name": "python",
   "nbconvert_exporter": "python",
   "pygments_lexer": "ipython3",
   "version": "3.9.0"
  }
 },
 "nbformat": 4,
 "nbformat_minor": 2
}
