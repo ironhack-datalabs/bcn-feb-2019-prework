{
 "cells": [
  {
   "cell_type": "markdown",
   "metadata": {},
   "source": [
    "# Bus\n",
    "\n",
    "This bus has a passenger entry and exit control system to monitor the number of occupants it carries and thus detect when there is too high a capacity.\n",
    "\n",
    "At each stop the entry and exit of passengers is represented by a tuple consisting of two integer numbers.\n",
    "```\n",
    "bus_stop = (in, out)\n",
    "```\n",
    "The succession of stops is represented by a list of these tuples.\n",
    "```\n",
    "stops = [(in1, out1), (in2, out2), (in3, out3), (in4, out4)]\n",
    "```\n",
    "\n",
    "## Goals:\n",
    "* lists, tuples\n",
    "* while/for loops\n",
    "* minimum, maximum, length\n",
    "* average, standard deviation\n",
    "\n",
    "## Tasks\n",
    "1. Calculate the number of stops.\n",
    "2. Assign to a variable a list whose elements are the number of passengers at each stop (in-out),\n",
    "3. Find the maximum occupation of the bus.\n",
    "4. Calculate the average occupation. And the standard deviation.\n"
   ]
  },
  {
   "cell_type": "code",
   "execution_count": 5,
   "metadata": {},
   "outputs": [],
   "source": [
    "# variables\n",
    "\n",
    "stops = [(2,3), (4,5),(7,3),(3,4)]\n",
    "bus_passengers = 20  #the number of passengers in the bus at the begining"
   ]
  },
  {
   "cell_type": "code",
   "execution_count": 7,
   "metadata": {},
   "outputs": [
    {
     "name": "stdout",
     "output_type": "stream",
     "text": [
      "The number of stops is 4\n"
     ]
    }
   ],
   "source": [
    "# 1. Calculate the number of stops.\n",
    "\n",
    "n_stops = len(stops)\n",
    "print (\"The number of stops is\",str(n_stops))"
   ]
  },
  {
   "cell_type": "code",
   "execution_count": 9,
   "metadata": {},
   "outputs": [
    {
     "name": "stdout",
     "output_type": "stream",
     "text": [
      "There are 19 in this bus.\n",
      "There are 18 in this bus.\n",
      "There are 22 in this bus.\n",
      "There are 21 in this bus.\n"
     ]
    }
   ],
   "source": [
    "# 2. Assign a variable a list whose elements are the number of passengers in each stop: \n",
    "# Each item depends on the previous item in the list + in - out.\n",
    "stops = [(2,3), (4,5),(7,3),(3,4)]\n",
    "bus_passengers = 20\n",
    "\n",
    "for i,j in stops:\n",
    "    bus_passengers += i\n",
    "    bus_passengers -= j\n",
    "    print (\"There are\",str(bus_passengers),\"in this bus.\")\n"
   ]
  },
  {
   "cell_type": "code",
   "execution_count": 10,
   "metadata": {},
   "outputs": [
    {
     "name": "stdout",
     "output_type": "stream",
     "text": [
      "Tha maximun amount of passenger in this bus during its route is 22\n"
     ]
    }
   ],
   "source": [
    "# 3. Find the maximum occupation of the bus.\n",
    "stops = [(2,3), (4,5),(7,3),(3,4)]\n",
    "bus_passengers = 20\n",
    "max_occupation = 0\n",
    "\n",
    "for i,j in stops:\n",
    "    bus_passengers += i\n",
    "    bus_passengers -= j\n",
    "    if max_occupation <= bus_passengers:\n",
    "        max_occupation = bus_passengers\n",
    "\n",
    "print (\"Tha maximun amount of passenger in this bus during its route is\",str(max_occupation))\n"
   ]
  },
  {
   "cell_type": "code",
   "execution_count": 20,
   "metadata": {},
   "outputs": [
    {
     "name": "stdout",
     "output_type": "stream",
     "text": [
      "The mean of passengers in this bus is 20.0\n",
      "The standard desviation of passengers in this bus is 0.6\n"
     ]
    }
   ],
   "source": [
    "# 4. Calculate the average occupation. And the standard deviation.\n",
    "\n",
    "import math\n",
    "\n",
    "stops = [(2,3), (4,5),(7,3),(3,4)]\n",
    "bus_passengers = 20\n",
    "passengers_stop = []\n",
    "mean_passengers = 0\n",
    "\n",
    "desv_passengers = 0\n",
    "\n",
    "for i,j in stops:\n",
    "    bus_passengers += i\n",
    "    bus_passengers -= j\n",
    "    passengers_stop.append(bus_passengers)\n",
    "    \n",
    "mean_passengers = sum(passengers_stop)/len(passengers_stop)\n",
    "print (\"The mean of passengers in this bus is\",str(mean_passengers))\n",
    "\n",
    "for std in passengers_stop:\n",
    "    desv_passengers = math.sqrt ((std-mean_passengers)**2/(len(passengers_stop)-1))\n",
    "print (\"The standard desviation of passengers in this bus is\",round(desv_passengers,1))"
   ]
  },
  {
   "cell_type": "code",
   "execution_count": null,
   "metadata": {},
   "outputs": [],
   "source": []
  }
 ],
 "metadata": {
  "kernelspec": {
   "display_name": "Python 3",
   "language": "python",
   "name": "python3"
  },
  "language_info": {
   "codemirror_mode": {
    "name": "ipython",
    "version": 3
   },
   "file_extension": ".py",
   "mimetype": "text/x-python",
   "name": "python",
   "nbconvert_exporter": "python",
   "pygments_lexer": "ipython3",
   "version": "3.7.3"
  }
 },
 "nbformat": 4,
 "nbformat_minor": 2
}
