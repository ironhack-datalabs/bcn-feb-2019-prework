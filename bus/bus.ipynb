{
 "cells": [
  {
   "cell_type": "markdown",
   "metadata": {},
   "source": [
    "# Bus\n",
    "\n",
    "This bus has a passenger entry and exit control system to monitor the number of occupants it carries and thus detect when there is too high a capacity.\n",
    "\n",
    "At each stop the entry and exit of passengers is represented by a tuple consisting of two integer numbers.\n",
    "```\n",
    "bus_stop = (in, out)\n",
    "```\n",
    "The succession of stops is represented by a list of these tuples.\n",
    "```\n",
    "stops = [(in1, out1), (in2, out2), (in3, out3), (in4, out4)]\n",
    "```\n",
    "\n",
    "## Goals:\n",
    "* lists, tuples\n",
    "* while/for loops\n",
    "* minimum, maximum, length\n",
    "* average, standard deviation\n",
    "\n",
    "## Tasks\n",
    "1. Calculate the number of stops.\n",
    "2. Assign to a variable a list whose elements are the number of passengers at each stop (in-out),\n",
    "3. Find the maximum occupation of the bus.\n",
    "4. Calculate the average occupation. And the standard deviation.\n"
   ]
  },
  {
   "cell_type": "code",
   "execution_count": 31,
   "metadata": {},
   "outputs": [],
   "source": [
    "# variables\n",
    "bus_lim = 50\n",
    "bus_stop = ('in', 'out') # tupla, elementos. Estos elementos inmutables. \n",
    "\n",
    "stops = [(10, 0), (5, 1), (6, 3), (9, 5), (10, 2)]"
   ]
  },
  {
   "cell_type": "code",
   "execution_count": 32,
   "metadata": {},
   "outputs": [
    {
     "name": "stdout",
     "output_type": "stream",
     "text": [
      "El número de paradas es: 5\n"
     ]
    }
   ],
   "source": [
    "print('El número de paradas es:', len(stops))"
   ]
  },
  {
   "cell_type": "code",
   "execution_count": 42,
   "metadata": {},
   "outputs": [
    {
     "name": "stdout",
     "output_type": "stream",
     "text": [
      "10\n",
      "14\n",
      "17\n",
      "21\n",
      "29\n"
     ]
    }
   ],
   "source": [
    "# entran = 0\n",
    "# salen = 0\n",
    "\n",
    "num_personas = 0 # 10 # 14 # 17\n",
    "\n",
    "for parada in stops:\n",
    "#     print(parada)\n",
    "#     print(parada[0])\n",
    "    entran = parada[0]\n",
    "    salen = parada[1]\n",
    "    num_personas += entran - salen\n",
    "    print(num_personas)\n",
    "    \n",
    "# print(entran, salen)\n",
    "# print(num_personas)"
   ]
  },
  {
   "cell_type": "code",
   "execution_count": 44,
   "metadata": {},
   "outputs": [
    {
     "name": "stdout",
     "output_type": "stream",
     "text": [
      "La máxima ocupación fue de: 29\n"
     ]
    }
   ],
   "source": [
    "print('La máxima ocupación fue de:', num_personas)"
   ]
  },
  {
   "cell_type": "code",
   "execution_count": 47,
   "metadata": {},
   "outputs": [
    {
     "name": "stdout",
     "output_type": "stream",
     "text": [
      "[10, 14, 17, 21, 29]\n"
     ]
    }
   ],
   "source": [
    "num_personas = 0\n",
    "lista_ocupacion = []\n",
    "\n",
    "for parada in stops:\n",
    "    entran = parada[0]\n",
    "    salen = parada[1]\n",
    "    num_personas += entran - salen\n",
    "    lista_ocupacion.append(num_personas)\n",
    "\n",
    "print(lista_ocupacion)"
   ]
  },
  {
   "cell_type": "code",
   "execution_count": 49,
   "metadata": {},
   "outputs": [
    {
     "data": {
      "text/plain": [
       "18.2"
      ]
     },
     "execution_count": 49,
     "metadata": {},
     "output_type": "execute_result"
    }
   ],
   "source": [
    "sum(lista_ocupacion) / len(lista_ocupacion)"
   ]
  },
  {
   "cell_type": "code",
   "execution_count": 50,
   "metadata": {},
   "outputs": [],
   "source": [
    "def media(listado_de_valores):\n",
    "    sumatoria = sum(listado_de_valores)\n",
    "    n = len(listado_de_valores)\n",
    "    return sumatoria/n"
   ]
  },
  {
   "cell_type": "code",
   "execution_count": 51,
   "metadata": {},
   "outputs": [
    {
     "data": {
      "text/plain": [
       "18.2"
      ]
     },
     "execution_count": 51,
     "metadata": {},
     "output_type": "execute_result"
    }
   ],
   "source": [
    "media(lista_ocupacion)"
   ]
  },
  {
   "cell_type": "code",
   "execution_count": 52,
   "metadata": {},
   "outputs": [
    {
     "data": {
      "text/plain": [
       "6.5"
      ]
     },
     "execution_count": 52,
     "metadata": {},
     "output_type": "execute_result"
    }
   ],
   "source": [
    "media([1, 4, 7, 8 , 9, 10])"
   ]
  },
  {
   "cell_type": "code",
   "execution_count": 64,
   "metadata": {},
   "outputs": [],
   "source": [
    "def desviacion_estandar(listado_de_valores):\n",
    "    ######################\n",
    "    sumatoria = sum(listado_de_valores)\n",
    "    n = len(listado_de_valores)\n",
    "    media = sumatoria/n\n",
    "    ######################\n",
    "    valores = []\n",
    "    for valor in listado_de_valores:\n",
    "        res = (valor - media)**2\n",
    "        valores.append(res)\n",
    "    ######################\n",
    "    varianza = sum(valores)/n\n",
    "    desviacion_estandar = varianza ** 0.5\n",
    "    \n",
    "    return desviacion_estandar\n",
    "    "
   ]
  },
  {
   "cell_type": "code",
   "execution_count": 66,
   "metadata": {},
   "outputs": [
    {
     "data": {
      "text/plain": [
       "6.493073232299171"
      ]
     },
     "execution_count": 66,
     "metadata": {},
     "output_type": "execute_result"
    }
   ],
   "source": [
    "bus_std = desviacion_estandar(lista_ocupacion)\n",
    "bus_std"
   ]
  },
  {
   "cell_type": "code",
   "execution_count": 67,
   "metadata": {},
   "outputs": [
    {
     "data": {
      "text/plain": [
       "18.2"
      ]
     },
     "execution_count": 67,
     "metadata": {},
     "output_type": "execute_result"
    }
   ],
   "source": [
    "bus_media = media(lista_ocupacion)\n",
    "bus_media"
   ]
  },
  {
   "cell_type": "code",
   "execution_count": 69,
   "metadata": {},
   "outputs": [],
   "source": [
    "###### N(media, desviacion_estandar)"
   ]
  },
  {
   "cell_type": "code",
   "execution_count": 58,
   "metadata": {},
   "outputs": [],
   "source": [
    "def nombre_de_mi_funcion():\n",
    "    print('Hello World!')\n",
    "    return \"Hello World!\""
   ]
  },
  {
   "cell_type": "code",
   "execution_count": 59,
   "metadata": {},
   "outputs": [
    {
     "name": "stdout",
     "output_type": "stream",
     "text": [
      "Hello World!\n"
     ]
    },
    {
     "data": {
      "text/plain": [
       "'Hello World!'"
      ]
     },
     "execution_count": 59,
     "metadata": {},
     "output_type": "execute_result"
    }
   ],
   "source": [
    "nombre_de_mi_funcion()"
   ]
  },
  {
   "cell_type": "code",
   "execution_count": 61,
   "metadata": {},
   "outputs": [
    {
     "name": "stdout",
     "output_type": "stream",
     "text": [
      "Hello World!\n"
     ]
    },
    {
     "data": {
      "text/plain": [
       "'Hello World!'"
      ]
     },
     "execution_count": 61,
     "metadata": {},
     "output_type": "execute_result"
    }
   ],
   "source": [
    "lo_que_regresa_la_funcion = nombre_de_mi_funcion()\n",
    "lo_que_regresa_la_funcion"
   ]
  },
  {
   "cell_type": "code",
   "execution_count": 62,
   "metadata": {},
   "outputs": [
    {
     "data": {
      "text/plain": [
       "'HELLO WORLD!'"
      ]
     },
     "execution_count": 62,
     "metadata": {},
     "output_type": "execute_result"
    }
   ],
   "source": [
    "lo_que_regresa_la_funcion.upper()"
   ]
  },
  {
   "cell_type": "code",
   "execution_count": 10,
   "metadata": {},
   "outputs": [
    {
     "data": {
      "text/plain": [
       "(1, 2, 3, 4)"
      ]
     },
     "execution_count": 10,
     "metadata": {},
     "output_type": "execute_result"
    }
   ],
   "source": [
    "# ### \n",
    "# tupla = (1, 2) # no es modificable\n",
    "# ###\n",
    "# lista = [1, 4, 'hola', '%$#'] # Esto sí es modificable\n",
    "# ####\n",
    "# diccionario = {'llave': 'valor', 'raul': 'hola', 'tupla': (1, 2, 3, 4)}\n",
    "# type(tupla)\n",
    "# type(diccionario)\n",
    "# diccionario['tupla']\n",
    "\n",
    "# lista.append('Chava')\n",
    "# tupla.append('Chava')"
   ]
  },
  {
   "cell_type": "code",
   "execution_count": null,
   "metadata": {},
   "outputs": [],
   "source": []
  },
  {
   "cell_type": "code",
   "execution_count": 6,
   "metadata": {},
   "outputs": [
    {
     "data": {
      "text/plain": [
       "10"
      ]
     },
     "execution_count": 6,
     "metadata": {},
     "output_type": "execute_result"
    }
   ],
   "source": [
    "# variables\n",
    "bus_lim = 50\n",
    "bus_stop = ('in', 'out')\n",
    "\n",
    "stops = [(10, 0), (5, 1), (6, 3), (9, 5), (10, 2)]\n",
    "\n",
    "bus_stop_ls = list(stops)\n",
    "type(bus_stop_ls)\n",
    "\n",
    "bus_stop_ls[0][0]\n",
    "\n"
   ]
  },
  {
   "cell_type": "code",
   "execution_count": 5,
   "metadata": {},
   "outputs": [
    {
     "data": {
      "text/plain": [
       "5"
      ]
     },
     "execution_count": 5,
     "metadata": {},
     "output_type": "execute_result"
    }
   ],
   "source": [
    "# 1. Calculate the number of stops.\n",
    "num_of_stops = len(stops)\n",
    "num_of_stops\n"
   ]
  },
  {
   "cell_type": "code",
   "execution_count": 4,
   "metadata": {},
   "outputs": [
    {
     "name": "stdout",
     "output_type": "stream",
     "text": [
      "[[10, 0], [5, 1], [6, 3], [9, 5], [10, 2]]\n",
      "[10, 5, 6, 9, 10]\n"
     ]
    }
   ],
   "source": [
    "# 2. Assign a variable a list whose elements are the number of passengers in each stop: \n",
    "# Each item depends on the previous item in the list + in - out.\n",
    "passenger_in = []\n",
    "passenger_out = []\n",
    "\n",
    "bus_stop_ls = [list(ele) for ele in stops] \n",
    "print(bus_stop_ls)\n",
    "\n",
    "for i in bus_stop_ls:\n",
    "    for t in i:\n",
    "        passenger_in.append(t)\n",
    "    \n",
    "    \n",
    "passenger_in = passenger_in[::2]\n",
    "print(passenger_in)"
   ]
  },
  {
   "cell_type": "code",
   "execution_count": 7,
   "metadata": {},
   "outputs": [
    {
     "name": "stdout",
     "output_type": "stream",
     "text": [
      "(40, 11)\n"
     ]
    }
   ],
   "source": [
    "res = sum(i[0] for i in bus_stop_ls), sum(i[1] for i in bus_stop_ls) \n",
    "print(res)"
   ]
  },
  {
   "cell_type": "code",
   "execution_count": null,
   "metadata": {},
   "outputs": [],
   "source": []
  },
  {
   "cell_type": "code",
   "execution_count": 8,
   "metadata": {},
   "outputs": [
    {
     "name": "stdout",
     "output_type": "stream",
     "text": [
      "40\n"
     ]
    }
   ],
   "source": [
    "# 3. Find the maximum occupation of the bus.\n",
    "max_occup = max(res)\n",
    "print(max_occup)\n"
   ]
  },
  {
   "cell_type": "code",
   "execution_count": 15,
   "metadata": {},
   "outputs": [
    {
     "data": {
      "text/plain": [
       "1.8439088914585775"
      ]
     },
     "execution_count": 15,
     "metadata": {},
     "output_type": "execute_result"
    }
   ],
   "source": [
    "# 4. Calculate the average occupation. And the standard deviation.\n",
    "average = max_occup/num_of_stops\n",
    "\n",
    "import math\n",
    "sumatoria = sum([(x-average)**2 for x in passenger_in])\n",
    "math.sqrt(sumatoria/num_of_stops-1)"
   ]
  },
  {
   "cell_type": "code",
   "execution_count": null,
   "metadata": {},
   "outputs": [],
   "source": []
  }
 ],
 "metadata": {
  "kernelspec": {
   "display_name": "Python 3 (ipykernel)",
   "language": "python",
   "name": "python3"
  },
  "language_info": {
   "codemirror_mode": {
    "name": "ipython",
    "version": 3
   },
   "file_extension": ".py",
   "mimetype": "text/x-python",
   "name": "python",
   "nbconvert_exporter": "python",
   "pygments_lexer": "ipython3",
   "version": "3.8.10"
  }
 },
 "nbformat": 4,
 "nbformat_minor": 2
}
