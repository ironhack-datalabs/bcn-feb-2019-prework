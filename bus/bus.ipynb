{
 "cells": [
  {
   "cell_type": "markdown",
   "metadata": {},
   "source": [
    "# Bus\n",
    "\n",
    "This bus has a passenger entry and exit control system to monitor the number of occupants it carries and thus detect when there is too high a capacity.\n",
    "\n",
    "At each stop the entry and exit of passengers is represented by a tuple consisting of two integer numbers.\n",
    "```\n",
    "bus_stop = (in, out)\n",
    "```\n",
    "The succession of stops is represented by a list of these tuples.\n",
    "```\n",
    "stops = [(in1, out1), (in2, out2), (in3, out3), (in4, out4)]\n",
    "```\n",
    "\n",
    "## Goals:\n",
    "* lists, tuples\n",
    "* while/for loops\n",
    "* minimum, maximum, length\n",
    "* average, standard deviation\n",
    "\n",
    "## Tasks\n",
    "1. Calculate the number of stops.\n",
    "2. Assign to a variable a list whose elements are the number of passengers at each stop (in-out),\n",
    "3. Find the maximum occupation of the bus.\n",
    "4. Calculate the average occupation. And the standard deviation.\n"
   ]
  },
  {
   "cell_type": "code",
   "execution_count": 9,
   "metadata": {},
   "outputs": [
    {
     "name": "stdout",
     "output_type": "stream",
     "text": [
      "[12, 17]\n",
      "[12, 17, 20]\n",
      "[12, 17, 20, 15]\n",
      "[12, 17, 20, 15, 11]\n"
     ]
    }
   ],
   "source": [
    "# variables\n",
    "from random import randint\n",
    "stop_list = [(randint(0, 10), randint(0, 10)), (randint(0, 10), randint(0, 10)), (randint(0, 10), randint(0, 10)), (randint(0, 10), randint(0, 10))]\n",
    "\n",
    "# 1. Calculate the number of stops.\n",
    "number_of_stops = len(stop_list)\n",
    "\n",
    "# 2. Assign a variable a list whose elements are the number of passengers in each stop: \n",
    "# Each item depends on the previous item in the list + in - out.\n",
    "# Starting with 12 passengers in the bus to avoid negative passengers...\n",
    "passengers = [12]\n",
    "for stop in stop_list:\n",
    "    passengers.append(passengers[-1] + stop[0] - stop[1])\n",
    "\n",
    "# 3. Find the maximum occupation of the bus.\n",
    "from numpy import amax, average, std\n",
    "max_occupation = amax(passengers)\n",
    "print(\"The maximum occupation of the bus are\", max_occupation, \"passengers.\")\n",
    "\n",
    "# 4. Calculate the average occupation. And the standard deviation.\n",
    "avg_occupation = average(passengers)\n",
    "print(\"The average occupation of the bus are\", avg_occupation, \"passengers.\")\n",
    "\n",
    "std_occupation = std(passengers)\n",
    "print(\"The standard deviation of occupation of the bus is:\", std_occupation)\n"
   ]
  },
  {
   "cell_type": "code",
   "execution_count": null,
   "metadata": {},
   "outputs": [],
   "source": []
  },
  {
   "cell_type": "code",
   "execution_count": null,
   "metadata": {},
   "outputs": [],
   "source": []
  },
  {
   "cell_type": "code",
   "execution_count": 4,
   "metadata": {},
   "outputs": [],
   "source": []
  },
  {
   "cell_type": "code",
   "execution_count": 5,
   "metadata": {},
   "outputs": [],
   "source": []
  },
  {
   "cell_type": "code",
   "execution_count": null,
   "metadata": {},
   "outputs": [],
   "source": []
  }
 ],
 "metadata": {
  "kernelspec": {
   "display_name": "Python 3",
   "language": "python",
   "name": "python3"
  },
  "language_info": {
   "codemirror_mode": {
    "name": "ipython",
    "version": 3
   },
   "file_extension": ".py",
   "mimetype": "text/x-python",
   "name": "python",
   "nbconvert_exporter": "python",
   "pygments_lexer": "ipython3",
   "version": "3.7.3"
  },
  "pycharm": {
   "stem_cell": {
    "cell_type": "raw",
    "source": [],
    "metadata": {
     "collapsed": false
    }
   }
  }
 },
 "nbformat": 4,
 "nbformat_minor": 2
}