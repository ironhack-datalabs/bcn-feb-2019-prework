{
 "cells": [
  {
   "cell_type": "code",
   "execution_count": 1,
   "metadata": {},
   "outputs": [
    {
     "ename": "SyntaxError",
     "evalue": "invalid syntax (<ipython-input-1-4bdc8946ce19>, line 2)",
     "output_type": "error",
     "traceback": [
      "\u001b[0;36m  File \u001b[0;32m\"<ipython-input-1-4bdc8946ce19>\"\u001b[0;36m, line \u001b[0;32m2\u001b[0m\n\u001b[0;31m    bus_stop = (in, out)\u001b[0m\n\u001b[0m                ^\u001b[0m\n\u001b[0;31mSyntaxError\u001b[0m\u001b[0;31m:\u001b[0m invalid syntax\n"
     ]
    }
   ],
   "source": [
    "# variables\n",
    "bus_stop = (in, out)\n",
    "stops = [(in1, out1), (in2, out2), (in3, out3), (in4, out4)]\n",
    "# 1. Calculate the number of stops.\n",
    "NoStops=len(stops)\n",
    "    print(NoStops , \"is the number of stops\")\n",
    "# 2. Assign a variable a list whose elements are the number of passengers in each stop: \n",
    "# Each item depends on the previous item in the list + in - out.\n",
    "# 3. Find the maximum occupation of the bus.\n",
    "# 4. Calculate the average occupation. And the standard deviation."
   ]
  },
  {
   "cell_type": "code",
   "execution_count": 3,
   "metadata": {},
   "outputs": [
    {
     "ename": "IndentationError",
     "evalue": "unexpected indent (<ipython-input-3-0c978e01423c>, line 9)",
     "output_type": "error",
     "traceback": [
      "\u001b[0;36m  File \u001b[0;32m\"<ipython-input-3-0c978e01423c>\"\u001b[0;36m, line \u001b[0;32m9\u001b[0m\n\u001b[0;31m    print(NoStops , \"is the number of stops\")\u001b[0m\n\u001b[0m    ^\u001b[0m\n\u001b[0;31mIndentationError\u001b[0m\u001b[0;31m:\u001b[0m unexpected indent\n"
     ]
    }
   ],
   "source": [
    "# variables\n",
    "#bus_stop = (in, out)\n",
    "#stops = [(in1, out1), (in2, out2), (in3, out3), (in4, out4)]\n",
    "#I don't actually understand where these numbers came from. I have found this when googled ironhack pyhthonbus stop challenge.\n",
    "#I would appreciate an explanation on this\n",
    "stops = [(10, 0), (4, 1), (3, 5), (3, 4), (5, 1), (1, 5), (5, 8), (4, 6), (2, 3)]\n",
    "# 1. Calculate the number of stops.\n",
    "NoStops=len(stops)\n",
    "print(NoStops , \"is the number of stops\")\n",
    "# 2. Assign a variable a list whose elements are the number of passengers in each stop: \n",
    "# Each item depends on the previous item in the list + in - out.\n",
    "# 3. Find the maximum occupation of the bus.\n",
    "# 4. Calculate the average occupation. And the standard deviation."
   ]
  },
  {
   "cell_type": "code",
   "execution_count": 4,
   "metadata": {},
   "outputs": [
    {
     "name": "stdout",
     "output_type": "stream",
     "text": [
      "9 is the number of stops\n"
     ]
    }
   ],
   "source": [
    "# variables\n",
    "#bus_stop = (in, out)\n",
    "#stops = [(in1, out1), (in2, out2), (in3, out3), (in4, out4)]\n",
    "#I don't actually understand where these numbers came from. I have found this when googled ironhack pyhthonbus stop challenge.\n",
    "#I would appreciate an explanation on this\n",
    "stops = [(10, 0), (4, 1), (3, 5), (3, 4), (5, 1), (1, 5), (5, 8), (4, 6), (2, 3)]\n",
    "# 1. Calculate the number of stops.\n",
    "NoStops=len(stops)\n",
    "print(NoStops , \"is the number of stops\")\n",
    "# 2. Assign a variable a list whose elements are the number of passengers in each stop: \n",
    "# Each item depends on the previous item in the list + in - out.\n",
    "# 3. Find the maximum occupation of the bus.\n",
    "# 4. Calculate the average occupation. And the standard deviation."
   ]
  },
  {
   "cell_type": "code",
   "execution_count": 5,
   "metadata": {},
   "outputs": [
    {
     "name": "stdout",
     "output_type": "stream",
     "text": [
      "9 stops in total\n"
     ]
    }
   ],
   "source": [
    "# variables\n",
    "#bus_stop = (in, out)\n",
    "#stops = [(in1, out1), (in2, out2), (in3, out3), (in4, out4)]\n",
    "#I don't actually understand where these numbers came from. I have found this when googled ironhack pyhthonbus stop challenge.\n",
    "#I would appreciate an explanation on this\n",
    "stops = [(10, 0), (4, 1), (3, 5), (3, 4), (5, 1), (1, 5), (5, 8), (4, 6), (2, 3)]\n",
    "# 1. Calculate the number of stops.\n",
    "NoStops=len(stops)\n",
    "print(NoStops , \"stops in total\")\n",
    "# 2. Assign a variable a list whose elements are the number of passengers in each stop: \n",
    "# Each item depends on the previous item in the list + in - out.\n",
    "# 3. Find the maximum occupation of the bus.\n",
    "# 4. Calculate the average occupation. And the standard deviation."
   ]
  },
  {
   "cell_type": "code",
   "execution_count": null,
   "metadata": {},
   "outputs": [],
   "source": []
  }
 ],
 "metadata": {
  "kernelspec": {
   "display_name": "Python 3",
   "language": "python",
   "name": "python3"
  },
  "language_info": {
   "codemirror_mode": {
    "name": "ipython",
    "version": 3
   },
   "file_extension": ".py",
   "mimetype": "text/x-python",
   "name": "python",
   "nbconvert_exporter": "python",
   "pygments_lexer": "ipython3",
   "version": "3.8.5"
  }
 },
 "nbformat": 4,
 "nbformat_minor": 4
}
