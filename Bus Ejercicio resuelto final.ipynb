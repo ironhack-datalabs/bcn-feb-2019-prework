{
 "cells": [
  {
   "cell_type": "code",
   "execution_count": 4,
   "metadata": {},
   "outputs": [
    {
     "name": "stdout",
     "output_type": "stream",
     "text": [
      "[[10, 3, 12, 5], [7, 3, 4, 8]]\n"
     ]
    }
   ],
   "source": [
    "#ESTA PRIMERA HOJA O PROGRAMA SON DE TODAS LAS MANERAS QUE INTENTE HASTA QUE LLEGUE A LA SOLUCION.\n",
    "# DEBAJO ESTAN LOS EJERCICIOS RESUELTOS\n",
    "\n",
    "\n",
    "# variables\n",
    "#bus_stop= (\"in\",\"out\")\n",
    "#stops = [(in1, out1), (in2, out2), (in3, out3), (in4, out4)]\n",
    "\n",
    "# 1. Calculate the number of stops.\n",
    "#len(stops)\n",
    "\n",
    "# 2. Assign a variable a list whose elements are the number of passengers in each stop: \n",
    "# Each item depends on the previous item in the list + in - out.\n",
    "#stops = [(10, 7), (3, 3), (12, 4), (5, 8)]\n",
    "\n",
    "#w = [[ i for i, j in stops],\n",
    "#       [ j for i, j in stops ]] \n",
    "#print(w)\n",
    "\n",
    "\n",
    "#if range(w[0]) == range(w[1]):\n",
    "    #for i in w:    \n",
    "        #occupation = i[0]-i[0]\n",
    "        #print(occupation)\n",
    "\n",
    "#lists_of_lists = [[1, 2, 3], [4, 5, 6]]\n",
    "#[sum(x) for x in zip(*lists_of_lists)] # esto es si solo tengo un valor pero esq ahora tengo varios\n",
    "        \n",
    "        # passengers_each_stop = [sum(x-y) for x,y in zip(*2)] aqui mi error es que se refiere a dos tuples y aqui solo tenemos una\n",
    "#for x in zip(stops):\n",
    "#    passengers_each_stop = sum(x(0)-x(1))\n",
    "\n",
    "\n",
    "    \n",
    "\n"
   ]
  },
  {
   "cell_type": "code",
   "execution_count": 24,
   "metadata": {},
   "outputs": [
    {
     "name": "stdout",
     "output_type": "stream",
     "text": [
      "The number of stops is  4\n"
     ]
    }
   ],
   "source": [
    "stops = [(10, 7), (3, 3), (12, 4), (5, 8)]\n",
    "\n",
    "# 1. Calculate the number of stops.\n",
    "print(\"The number of stops is \",len(stops))"
   ]
  },
  {
   "cell_type": "code",
   "execution_count": 3,
   "metadata": {},
   "outputs": [
    {
     "name": "stdout",
     "output_type": "stream",
     "text": [
      "[3, 0, 8, -3]\n"
     ]
    }
   ],
   "source": [
    "# 2. Assign a variable a list whose elements are the number of passengers in each stop: \n",
    "# Each item depends on the previous item in the list + in - out.\n",
    "\n",
    "stops = [(10, 7), (3, 3), (12, 4), (5, 8)]\n",
    "people = []\n",
    "for stop in stops:\n",
    "    people.append(stop[0] - stop[1])\n",
    "print(people)   "
   ]
  },
  {
   "cell_type": "code",
   "execution_count": 25,
   "metadata": {},
   "outputs": [
    {
     "name": "stdout",
     "output_type": "stream",
     "text": [
      "[3, 3, 11, 8]\n",
      "El numero maximo de personas en una para es  11\n",
      "The average is  6.25\n",
      "The standard deviation is  2.5\n"
     ]
    }
   ],
   "source": [
    "# 3. Find the maximum occupation of the bus.\n",
    "\n",
    "personas_parada= []\n",
    "for i in range(len(people)):\n",
    "    personas_parada.append(sum(people[0:i+1]))\n",
    "print(personas_parada)\n",
    "\n",
    "# 3. Find the maximum occupation of the bus.\n",
    "print(\"El numero maximo de personas en una parada es \",max(personas_parada))\n",
    "\n",
    "\n",
    "# 4. Calculate the average occupation. And the standard deviation.\n",
    "\n",
    "n = len(stops)\n",
    "# lo utilizo para comprobar que se ha calculado correctamente n print(n)\n",
    "\n",
    "average = sum(personas_parada)/n\n",
    "\n",
    "print(\"The average is \",average)\n",
    "\n",
    "# para calcular la desviacion estandar se que puedes importar el paquete stadistics y poner stdev() y te sale\n",
    "\n",
    "standard_deviation = []\n",
    "for i in range(len(personas_parada)):\n",
    "    standard_deviation = average**(1.0/2)\n",
    "print(\"The standard deviation is \",standard_deviation)\n",
    "    \n",
    "    #standard_deviation.append(sum(personas_parada ** 2))\n",
    "\n",
    "\n"
   ]
  }
 ],
 "metadata": {
  "kernelspec": {
   "display_name": "Python 3",
   "language": "python",
   "name": "python3"
  },
  "language_info": {
   "codemirror_mode": {
    "name": "ipython",
    "version": 3
   },
   "file_extension": ".py",
   "mimetype": "text/x-python",
   "name": "python",
   "nbconvert_exporter": "python",
   "pygments_lexer": "ipython3",
   "version": "3.7.3"
  }
 },
 "nbformat": 4,
 "nbformat_minor": 2
}
