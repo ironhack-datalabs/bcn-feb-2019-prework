{
 "cells": [
  {
   "cell_type": "code",
   "execution_count": 5,
   "metadata": {},
   "outputs": [
    {
     "name": "stdout",
     "output_type": "stream",
     "text": [
      "Days = 1\n",
      "Days = 2\n",
      "Days = 3\n",
      "Days = 4\n",
      "Days = 5\n",
      "Days = 6\n",
      "Days = 7\n",
      "Days = 8\n",
      "Days = 9\n",
      "Days = 10\n",
      "Days = 11\n",
      "Days = 12\n"
     ]
    }
   ],
   "source": [
    "#Snail and Well\n",
    "\n",
    "well_height = 125\n",
    "daily_avance = 30\n",
    "night_retreat = 20\n",
    "accumulated_distance = 10\n",
    "\n",
    "total_days = 0\n",
    "for i in range(1, well_height + 1):\n",
    "    if accumulated_distance < well_height:\n",
    "           accumulated_distance +=10\n",
    "           total_days += 1\n",
    "           print('Days =',total_days)"
   ]
  },
  {
   "cell_type": "code",
   "execution_count": null,
   "metadata": {},
   "outputs": [],
   "source": []
  }
 ],
 "metadata": {
  "kernelspec": {
   "display_name": "Python 3",
   "language": "python",
   "name": "python3"
  },
  "language_info": {
   "codemirror_mode": {
    "name": "ipython",
    "version": 3
   },
   "file_extension": ".py",
   "mimetype": "text/x-python",
   "name": "python",
   "nbconvert_exporter": "python",
   "pygments_lexer": "ipython3",
   "version": "3.7.3"
  }
 },
 "nbformat": 4,
 "nbformat_minor": 2
}
