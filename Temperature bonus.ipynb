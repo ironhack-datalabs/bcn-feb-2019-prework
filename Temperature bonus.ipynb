{
 "cells": [
  {
   "cell_type": "code",
   "execution_count": null,
   "metadata": {},
   "outputs": [],
   "source": [
    "# Bonus: convert the list of ºC to ºFarenheit\n",
    "\n",
    "temperatures_C = [(x*1,8)+32 for x in range(len(temperatures_C))] # aqui me he vuelto a atascar\n",
    "print(temperatures_C)\n",
    "\n",
    "\n",
    "# FUTURE IMPROVEMENTS\n",
    "\n",
    "# 1. We want the hours (not the temperatures) whose temperature exceeds 70ºC\n",
    "#hours = range(0,24)\n",
    "#for x in list(hours):\n",
    "#    print(x, end=' ')\n",
    "# tres almhoadillas de arriba intento de crear una lista pero que su impresion aparezca en linea recta\n",
    "\n",
    "hours = [0,1,2,3,4,5,6,7,8,9,10,11,12,13,14,15,16,17,18,19,20,21,22,23]\n",
    "temperatures_C = [33,66,65,0,59,60,62,64,70,76,80,69,80,83,68,79,61,53,50,49,53,48,45,39]\n",
    "\n",
    "\n"
   ]
  }
 ],
 "metadata": {
  "kernelspec": {
   "display_name": "Python 3",
   "language": "python",
   "name": "python3"
  },
  "language_info": {
   "codemirror_mode": {
    "name": "ipython",
    "version": 3
   },
   "file_extension": ".py",
   "mimetype": "text/x-python",
   "name": "python",
   "nbconvert_exporter": "python",
   "pygments_lexer": "ipython3",
   "version": "3.7.3"
  }
 },
 "nbformat": 4,
 "nbformat_minor": 2
}
