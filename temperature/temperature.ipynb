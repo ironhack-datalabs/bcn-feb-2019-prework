{
 "cells": [
  {
   "cell_type": "code",
   "execution_count": 9,
   "metadata": {},
   "outputs": [],
   "source": [
    "lstemp = [33, 66, 65, 0, 59, 60, 62, 64, 70, 76, 80, 81, 80, 83, 90, 79, 61, 53, 50, 49, 53, 48, 45, 39]\n",
    "abo70 = []\n",
    "for i in lstemp:\n",
    "    if (i>=70):\n",
    "        abo70.append(i)\n",
    "avetemp = sum(lstemp)/len(lstemp)"
   ]
  },
  {
   "cell_type": "code",
   "execution_count": 10,
   "metadata": {},
   "outputs": [],
   "source": [
    "newlstemp = [33, 66, 65, 0, 59, 60, 62, 64, 70, 76, 80, 81, 80, 83, 90, 79, 61, 53, 50, 49, 53, 48, 45, 39]"
   ]
  },
  {
   "cell_type": "code",
   "execution_count": 11,
   "metadata": {},
   "outputs": [],
   "source": [
    "newlstemp [3] = avetemp"
   ]
  },
  {
   "cell_type": "code",
   "execution_count": 16,
   "metadata": {},
   "outputs": [],
   "source": [
    "Fah = []\n",
    "for i in newlstemp:\n",
    "    Conv = 1.8*i+32\n",
    "    Fah.append(Conv)\n",
    "abo80 = []\n",
    "for i in abo70:\n",
    "    if (i>80):\n",
    "        abo80.append(i)"
   ]
  },
  {
   "cell_type": "code",
   "execution_count": 19,
   "metadata": {},
   "outputs": [
    {
     "name": "stdout",
     "output_type": "stream",
     "text": [
      "1. Minimum temperature of day:  0\n",
      "2. Maximum temperature of day:  90\n",
      "3. Temperatures above 70°: \n",
      "[70, 76, 80, 81, 80, 83, 90, 79]\n",
      "4. Average temperature of day:  60.25\n",
      "5. New temperature list: \n",
      "[33, 66, 65, 60.25, 59, 60, 62, 64, 70, 76, 80, 81, 80, 83, 90, 79, 61, 53, 50, 49, 53, 48, 45, 39]\n",
      "6. Temperature in Fahrenheit:\n",
      "[91.4, 150.8, 149.0, 140.45, 138.2, 140.0, 143.60000000000002, 147.2, 158.0, 168.8, 176.0, 177.8, 176.0, 181.4, 194.0, 174.20000000000002, 141.8, 127.4, 122.0, 120.2, 127.4, 118.4, 113.0, 102.2]\n",
      "7. The cooling system needs to be changed\n"
     ]
    }
   ],
   "source": [
    "\n",
    "for i in abo70:\n",
    "    if (i>80):\n",
    "        abo80.append(i)\n",
    "mintemp=min(lstemp)\n",
    "print (\"1. Minimum temperature of day: \",mintemp)\n",
    "maxtemp=max(lstemp)\n",
    "print (\"2. Maximum temperature of day: \",maxtemp)\n",
    "print (\"3. Temperatures above 70°: \")\n",
    "print (abo70)\n",
    "print (\"4. Average temperature of day: \",avetemp)\n",
    "print (\"5. New temperature list: \")\n",
    "print (newlstemp)\n",
    "print (\"6. Temperature in Fahrenheit:\")\n",
    "print (Fah)\n",
    "if (len(abo80)>0) | (len(abo70)>4) | (avetemp>65):\n",
    "    print (\"7. The cooling system needs to be changed\")\n",
    "else:\n",
    "    print (\"7. The cooling system doesn't needs to be changed\")"
   ]
  },
  {
   "cell_type": "code",
   "execution_count": null,
   "metadata": {},
   "outputs": [],
   "source": []
  }
 ],
 "metadata": {
  "kernelspec": {
   "display_name": "Python 3",
   "language": "python",
   "name": "python3"
  },
  "language_info": {
   "codemirror_mode": {
    "name": "ipython",
    "version": 3
   },
   "file_extension": ".py",
   "mimetype": "text/x-python",
   "name": "python",
   "nbconvert_exporter": "python",
   "pygments_lexer": "ipython3",
   "version": "3.7.4"
  }
 },
 "nbformat": 4,
 "nbformat_minor": 2
}
