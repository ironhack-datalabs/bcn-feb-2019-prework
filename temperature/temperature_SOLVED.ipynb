{
  "nbformat": 4,
  "nbformat_minor": 0,
  "metadata": {
    "colab": {
      "name": "temperature.ipynb",
      "version": "0.3.2",
      "provenance": []
    },
    "language_info": {
      "codemirror_mode": {
        "name": "ipython",
        "version": 3
      },
      "file_extension": ".py",
      "mimetype": "text/x-python",
      "name": "python",
      "nbconvert_exporter": "python",
      "pygments_lexer": "ipython3",
      "version": "3.6.7"
    },
    "kernelspec": {
      "display_name": "Python 3",
      "language": "python",
      "name": "python3"
    }
  },
  "cells": [
    {
      "cell_type": "markdown",
      "metadata": {
        "id": "wLbxJvggswJq",
        "colab_type": "text"
      },
      "source": [
        "# Processor temperature\n",
        "\n",
        "We have a temperature sensor in the processor of our company's server. We want to analyze the data provided to determinate whether we should change the cooling system for a better one. It is expensive and as a data analyst we cannot make decisions without a basis.\n",
        "\n",
        "We provide the temperatures measured throughout the 24 hours of a day in a list-type data structure composed of 24 integers:\n",
        "```\n",
        "temperatures_C = [33,66,65,0,59,60,62,64,70,76,80,69,80,83,68,79,61,53,50,49,53,48,45,39]\n",
        "```\n",
        "\n",
        "## Goals\n",
        "\n",
        "1. Treatment of lists\n",
        "2. Use of loop or list comprenhention\n",
        "3. Calculation of the mean, minimum and maximum.\n",
        "4. Filtering of lists.\n",
        "5. Interpolate an outlier.\n",
        "6. Logical operators.\n",
        "7. Print"
      ]
    },
    {
      "cell_type": "markdown",
      "metadata": {
        "id": "XP7ECh89swJs",
        "colab_type": "text"
      },
      "source": [
        "## Temperature graph\n",
        "To facilitate understanding, the temperature graph is shown below. You do not have to do anything in this section. The test starts in **Problem**."
      ]
    },
    {
      "cell_type": "code",
      "metadata": {
        "id": "yV8WGU6iswJt",
        "colab_type": "code",
        "colab": {
          "base_uri": "https://localhost:8080/",
          "height": 312
        },
        "outputId": "665e8bac-07f9-492b-e8b5-4beba006331e"
      },
      "source": [
        "# import\n",
        "import matplotlib.pyplot as plt\n",
        "%matplotlib inline\n",
        "\n",
        "# axis x, axis y\n",
        "y = [33,66,65,0,59,60,62,64,70,76,80,81,80,83,90,79,61,53,50,49,53,48,45,39]\n",
        "x = list(range(len(y)))\n",
        "\n",
        "# plot\n",
        "plt.plot(x, y)\n",
        "plt.axhline(y=70, linewidth=1, color='r')\n",
        "plt.xlabel('hours')\n",
        "plt.ylabel('Temperature ºC')\n",
        "plt.title('Temperatures of our server throughout the day')"
      ],
      "execution_count": 68,
      "outputs": [
        {
          "output_type": "execute_result",
          "data": {
            "text/plain": [
              "Text(0.5, 1.0, 'Temperatures of our server throughout the day')"
            ]
          },
          "metadata": {
            "tags": []
          },
          "execution_count": 68
        },
        {
          "output_type": "display_data",
          "data": {
            "image/png": "[encoded data removed]",
            "text/plain": [
              "<Figure size 432x288 with 1 Axes>"
            ]
          },
          "metadata": {
            "tags": []
          }
        }
      ]
    },
    {
      "cell_type": "markdown",
      "metadata": {
        "id": "lfu1QhPnswJz",
        "colab_type": "text"
      },
      "source": [
        "## Problem\n",
        "\n",
        "If the sensor detects more than 4 hours with temperatures greater than or equal to 70ºC or any temperature above 80ºC or the average exceeds 65ºC throughout the day, we must give the order to change the cooling system to avoid damaging the processor.\n",
        "\n",
        "We will guide you step by step so you can make the decision by calculating some intermediate steps:\n",
        "\n",
        "1. Minimum temperature\n",
        "2. Maximum temperature\n",
        "3. Temperatures equal to or greater than 70ºC\n",
        "4. Average temperatures throughout the day.\n",
        "5. If there was a sensor failure at 03:00 and we did not capture the data, how would you estimate the value that we lack? Correct that value in the list of temperatures.\n",
        "6. Bonus: Our maintenance staff is from the United States and does not understand the international metric system. Pass temperatures to Degrees Fahrenheit.\n",
        "\n",
        "Formula: F = 1.8 * C + 32\n",
        "\n",
        "web: https://en.wikipedia.org/wiki/Conversion_of_units_of_temperature\n"
      ]
    },
    {
      "cell_type": "code",
      "metadata": {
        "id": "Xdf7no-NswJz",
        "colab_type": "code",
        "colab": {
          "base_uri": "https://localhost:8080/",
          "height": 119
        },
        "outputId": "1d04ac82-374b-4e7e-cd62-616ab819a096"
      },
      "source": [
        "# assign a variable to the list of temperatures\n",
        "temperature_list = y\n",
        "# 1. Calculate the minimum of the list and print the value using print()\n",
        "minimum = min(temperature_list)\n",
        "minimum_hour = temperature_list.index(minimum)\n",
        "\n",
        "print ('The minimum temperature was', minimum, 'at', minimum_hour, 'hours')\n",
        "\n",
        "# 2. Calculate the maximum of the list and print the value using print()\n",
        "maximum = max(temperature_list)\n",
        "maximum_hour = temperature_list.index(maximum)\n",
        "\n",
        "print ('The maximum temperature was', maximum, 'at', maximum_hour, 'hours')\n",
        "\n",
        "# 3. Items in the list that are greater than 70ºC and print the result\n",
        "over_70 = []\n",
        "for temp in temperature_list:\n",
        "  if temp > 70:\n",
        "    over_70.append (temp)\n",
        "    \n",
        "print (over_70)\n",
        "\n",
        "# 4. Calculate the mean temperature throughout the day and print the result\n",
        "mean_temperature = sum(temperature_list)/len(temperature_list)\n",
        "\n",
        "print ('The mean temperature throughout the day was', mean_temperature)\n",
        "\n",
        "# 5.1 Solve the fault in the sensor by estimating a value\n",
        "\n",
        "real_3AM = (temperature_list[2] + temperature_list[4]) / 2 # The real temperature at 3AM should be a intermediate value between 2AM and 4AM temperatures\n",
        "\n",
        "# 5.2 Update of the estimated value at 03:00 on the list\n",
        "\n",
        "temperature_list[3] = real_3AM\n",
        "print(temperature_list)\n",
        "mean_temperature = sum(temperature_list)/len(temperature_list)\n",
        "# Bonus: convert the list of ºC to ºFarenheit\n",
        "temperature_farenheit = []\n",
        "farenheit = 0\n",
        "for hour in range (0, len(temperature_list)):\n",
        "  farenheit = 1.8 * temperature_list[hour] + 32\n",
        "  temperature_farenheit.append(farenheit)\n",
        "  \n",
        "print(temperature_farenheit)\n"
      ],
      "execution_count": 69,
      "outputs": [
        {
          "output_type": "stream",
          "text": [
            "The minimum temperature was 0 at 3 hours\n",
            "The maximum temperature was 90 at 14 hours\n",
            "[76, 80, 81, 80, 83, 90, 79]\n",
            "The mean temperature throughout the day was 60.25\n",
            "[33, 66, 65, 62.0, 59, 60, 62, 64, 70, 76, 80, 81, 80, 83, 90, 79, 61, 53, 50, 49, 53, 48, 45, 39]\n",
            "[91.4, 150.8, 149.0, 143.60000000000002, 138.2, 140.0, 143.60000000000002, 147.2, 158.0, 168.8, 176.0, 177.8, 176.0, 181.4, 194.0, 174.20000000000002, 141.8, 127.4, 122.0, 120.2, 127.4, 118.4, 113.0, 102.2]\n"
          ],
          "name": "stdout"
        }
      ]
    },
    {
      "cell_type": "markdown",
      "metadata": {
        "id": "lRuEgytiswJ2",
        "colab_type": "text"
      },
      "source": [
        "## Take the decision\n",
        "Remember that if the sensor detects more than 4 hours with temperatures greater than or equal to 70ºC or any temperature higher than 80ºC or the average was higher than 65ºC throughout the day, we must give the order to change the cooling system to avoid the danger of damaging the equipment:\n",
        "* more than 4 hours with temperatures greater than or equal to 70ºC\n",
        "* some temperature higher than 80ºC\n",
        "* average was higher than 65ºC throughout the day\n",
        "If any of these three is met, the cooling system must be changed.\n"
      ]
    },
    {
      "cell_type": "code",
      "metadata": {
        "id": "ehMa72GiswJ3",
        "colab_type": "code",
        "colab": {
          "base_uri": "https://localhost:8080/",
          "height": 34
        },
        "outputId": "d7c8a2bf-5f22-462c-85d5-2c81f89b4c53"
      },
      "source": [
        "# Print True or False depending on whether you would change the cooling system or not\n",
        "change = False\n",
        "if max(temperature_list) > 80: #Check higher temperature\n",
        "  change = True\n",
        "if mean_temperature > 65: #Check mean temperature\n",
        "  change = True\n",
        "count = 0\n",
        "for temp in temperature_list:\n",
        "  if temp > 70:\n",
        "    count += 1\n",
        "if count > 4: #Check hours with more that 70º\n",
        "  change = True\n",
        "if change == True:\n",
        "  print ('The cooling system has to be changed')\n",
        "else:\n",
        "  print ('The colling system is working fine and not need to be replaced')"
      ],
      "execution_count": 70,
      "outputs": [
        {
          "output_type": "stream",
          "text": [
            "The cooling system has to be changed\n"
          ],
          "name": "stdout"
        }
      ]
    },
    {
      "cell_type": "markdown",
      "metadata": {
        "id": "6eFgHSzZswJ6",
        "colab_type": "text"
      },
      "source": [
        "## Future improvements\n",
        "1. We want the hours (not the temperatures) whose temperature exceeds 70ºC\n",
        "2. Condition that those hours are more than 4 consecutive and consecutive, not simply the sum of the whole set. Is this condition met?\n",
        "3. Average of each of the lists (ºC and ºF). How they relate?\n",
        "4. Standard deviation of each of the lists. How they relate?\n"
      ]
    },
    {
      "cell_type": "code",
      "metadata": {
        "id": "ZLeYgFaPswJ8",
        "colab_type": "code",
        "colab": {
          "base_uri": "https://localhost:8080/",
          "height": 34
        },
        "outputId": "0f892d61-91c9-446b-c89a-a14518a343ab"
      },
      "source": [
        "# 1. We want the hours (not the temperatures) whose temperature exceeds 70ºC\n",
        "Bad_hours = []\n",
        "for hour in range (0, len(temperature_list)):\n",
        "  if temperature_list[hour] > 70:\n",
        "    Bad_hours.append (hour)\n",
        "    \n",
        "print (Bad_hours)\n"
      ],
      "execution_count": 71,
      "outputs": [
        {
          "output_type": "stream",
          "text": [
            "[9, 10, 11, 12, 13, 14, 15]\n"
          ],
          "name": "stdout"
        }
      ]
    },
    {
      "cell_type": "code",
      "metadata": {
        "id": "I8ce4KNwswJ-",
        "colab_type": "code",
        "colab": {
          "base_uri": "https://localhost:8080/",
          "height": 34
        },
        "outputId": "d32ff4eb-7484-4c61-b5e7-d242305b8f77"
      },
      "source": [
        "# 2. Condition that those hours are more than 4 consecutive and consecutive, not simply the sum of the whole set. Is this condition met?\n",
        "consecutive_hours = False\n",
        "count = 0\n",
        "for temp in temperature_list:\n",
        "  if temp > 70:\n",
        "    count += 1\n",
        "  else:\n",
        "    count = 0\n",
        "if count > 4:\n",
        "  consecutive_hours = True\n",
        "  \n",
        "if consecutive_hours == True:\n",
        "  print ('Condition met')\n",
        "else:\n",
        "  print ('Condition not met')"
      ],
      "execution_count": 72,
      "outputs": [
        {
          "output_type": "stream",
          "text": [
            "Condition not met\n"
          ],
          "name": "stdout"
        }
      ]
    },
    {
      "cell_type": "code",
      "metadata": {
        "id": "MKYQVrC1swKA",
        "colab_type": "code",
        "colab": {
          "base_uri": "https://localhost:8080/",
          "height": 68
        },
        "outputId": "625cc21f-7d79-422b-8f8d-535608e3c2ff"
      },
      "source": [
        "# 3. Average of each of the lists (ºC and ºF). How they relate?\n",
        "mean_farenheit = sum(temperature_farenheit)/len(temperature_farenheit)\n",
        "print ('Mean in Celsius:', mean_temperature)\n",
        "print ('Mean in Farenheit:', mean_farenheit)\n",
        "\n",
        "#We convert the mean in celsius to Farenheit:\n",
        "mean_farenheit2 = 1.8 * mean_temperature + 32\n",
        "\n",
        "print ('The mean in Celius converted into Farenheit is the same that the mean of Farenheit temperatures:', mean_farenheit2)\n"
      ],
      "execution_count": 73,
      "outputs": [
        {
          "output_type": "stream",
          "text": [
            "Mean in Celsius: 62.833333333333336\n",
            "Mean in Farenheit: 145.1\n",
            "The mean in Celius converted into Farenheit is the same that the mean of Farenheit temperatures: 145.10000000000002\n"
          ],
          "name": "stdout"
        }
      ]
    },
    {
      "cell_type": "code",
      "metadata": {
        "id": "MKZIcnVxswKC",
        "colab_type": "code",
        "colab": {
          "base_uri": "https://localhost:8080/",
          "height": 68
        },
        "outputId": "2ba181a4-595a-4573-ff77-066bf4fabb33"
      },
      "source": [
        "# 4. Standard deviation of each of the lists. How they relate?\n",
        "celsius_stdev = 0\n",
        "farenheit_stdev = 0\n",
        "x = 0\n",
        "for temp in temperature_list:\n",
        "  x += (temp - mean_temperature)**2\n",
        "celsius_stdev = (x/(len(temperature_list)-1))**0.5 #We calculate Celsius standard deviation\n",
        "\n",
        "x = 0\n",
        "for temp in temperature_farenheit:\n",
        "  x += (temp - mean_farenheit)**2\n",
        "farenheit_stdev = (x/(len(temperature_farenheit)-1))**0.5 #We calculate Farenheit standard deviation\n",
        "\n",
        "print ('Celsius temperature standard deviation =', celsius_stdev)\n",
        "print ('Farenheit temperature standard deviation =', farenheit_stdev)\n",
        "\n",
        "#To convert the standard deviation, we onlye need to multiply for the linear factor without adding 32\n",
        "farenheit_stdev2 = 1.8 * celsius_stdev \n",
        "\n",
        "print ('The standard deviation in Celius multiplied for the current factor (1.8) is the same that the standard deviation of Farenheit temperatures:', farenheit_stdev2)\n"
      ],
      "execution_count": 75,
      "outputs": [
        {
          "output_type": "stream",
          "text": [
            "Celsius temperature standard deviation = 14.94821980579356\n",
            "Farenheit temperature standard deviation = 26.906795650428407\n",
            "The standard deviation in Celius multiplied for the current factor (1.8) is the same that the standard deviation of Farenheit temperatures: 26.906795650428407\n"
          ],
          "name": "stdout"
        }
      ]
    },
    {
      "cell_type": "code",
      "metadata": {
        "id": "2u6xpGtMswKG",
        "colab_type": "code",
        "colab": {}
      },
      "source": [
        ""
      ],
      "execution_count": 0,
      "outputs": []
    }
  ]
}