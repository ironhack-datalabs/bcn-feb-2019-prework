{
 "cells": [
  {
   "cell_type": "markdown",
   "metadata": {},
   "source": [
    "# Snail and well\n",
    "\n",
    "A snail falls at the bottom of a 125 cm well. Each day the snail rises 30 cm. But at night, while sleeping, slides 20 cm because the walls are wet. How many days does it take to escape from the well?\n",
    "\n",
    "TIP: http://puzzles.nigelcoldwell.co.uk/sixtytwo.htm"
   ]
  },
  {
   "cell_type": "markdown",
   "metadata": {},
   "source": [
    "## Solución"
   ]
  },
  {
   "cell_type": "code",
   "execution_count": 26,
   "metadata": {},
   "outputs": [
    {
     "name": "stdout",
     "output_type": "stream",
     "text": [
      "Days = 11\n"
     ]
    }
   ],
   "source": [
    "# Assign problem data to variables with representative names\n",
    "\n",
    "# well height, daily advance, night retreat, accumulated distance\n",
    "\n",
    "\n",
    "# Assign 0 to the variable that represents the solution\n",
    "well_height=125\n",
    "daily_advance=30\n",
    "night_retreat=20\n",
    "acc_distance=0\n",
    "days =0\n",
    "\n",
    "# Write the code that solves the problem\n",
    "while acc_distance <= well_height:\n",
    "        acc_distance =acc_distance + daily_advance\n",
    "        days += 1\n",
    "        if acc_distance < well_height:\n",
    "            acc_distance = acc_distance - night_retreat\n",
    "        \n",
    "    \n",
    "\n",
    "# Print the result with print('Days =', days)\n",
    "print('Days =', days)"
   ]
  },
  {
   "cell_type": "markdown",
   "metadata": {},
   "source": [
    "## Goals\n",
    "\n",
    "1. Treatment of variables\n",
    "2. Use of loop **while**\n",
    "3. Use of conditional **if-else**\n",
    "4. Print in console"
   ]
  },
  {
   "cell_type": "markdown",
   "metadata": {},
   "source": [
    "## Bonus\n",
    "The distance traveled by the snail is now defined by a list.\n",
    "```\n",
    "advance_cm = [30, 21, 33, 77, 44, 45, 23, 45, 12, 34, 55]\n",
    "```\n",
    "How long does it take to raise the well?\n",
    "\n",
    "What is its maximum displacement in one day? And its minimum?\n",
    "\n",
    "What is its average speed during the day?\n",
    "\n",
    "What is the standard deviation of its displacement during the day?"
   ]
  },
  {
   "cell_type": "code",
   "execution_count": 40,
   "metadata": {},
   "outputs": [
    {
     "name": "stdout",
     "output_type": "stream",
     "text": [
      "Days = 5\n",
      "Maximum displacement in a day = 57\n",
      "Minimum displacement in a day = 1\n",
      "Avarage speed during the day = 20.25\n",
      "the standard deviation of your displacement = 25.024987512484397\n"
     ]
    }
   ],
   "source": [
    "# Assign problem data to variables with representative names\n",
    "# well height, daily advance, night retreat, accumulated distance\n",
    "import math\n",
    "well_height = 125\n",
    "daily_advance = 30\n",
    "night_retreat = 20\n",
    "acc_distance = 0\n",
    "days = 0\n",
    "advance_cm = [30, 21, 33, 77, 44, 45, 23, 45, 12, 34, 55]\n",
    "x = 0\n",
    "daily_dis = []\n",
    "numerator_lst = []\n",
    "y = 0\n",
    "\n",
    "# Assign 0 to the variable that represents the solution\n",
    "\n",
    "\n",
    "# Write the code that solves the problem\n",
    "while acc_distance < well_height:\n",
    "        acc_distance =acc_distance + advance_cm[x]\n",
    "        days += 1\n",
    "        if acc_distance < well_height:\n",
    "            acc_distance = acc_distance - night_retreat\n",
    "            daily_dis.append(advance_cm[x]-night_retreat)\n",
    "            x += 1\n",
    "\n",
    "\n",
    "# Print the result with print('Days =', days)\n",
    "print('Days =', days)\n",
    "\n",
    "# What is its maximum displacement in a day? And its minimum?\n",
    "print(\"Maximum displacement in a day =\", max(daily_dis))\n",
    "print(\"Minimum displacement in a day =\", min(daily_dis))\n",
    "\n",
    "# What is its average progress?\n",
    "avg_speed = sum(daily_dis)/len(daily_dis)\n",
    "print(\"Avarage speed during the day =\", avg_speed )\n",
    "\n",
    "# What is the standard deviation of your displacement during the day?\n",
    "while y < len(daily_dis):\n",
    "    numerator_lst.append((daily_dis[y]-avg_speed)**2)\n",
    "    y += 1\n",
    "numerator = sum(numerator_lst)\n",
    "denominator = len(daily_dis) - 1\n",
    "stan_diviation = math.sqrt(numerator/denominator)\n",
    "print (\"the standard deviation of your displacement =\", stan_diviation)"
   ]
  },
  {
   "cell_type": "code",
   "execution_count": null,
   "metadata": {},
   "outputs": [],
   "source": []
  }
 ],
 "metadata": {
  "kernelspec": {
   "display_name": "Python 3",
   "language": "python",
   "name": "python3"
  },
  "language_info": {
   "codemirror_mode": {
    "name": "ipython",
    "version": 3
   },
   "file_extension": ".py",
   "mimetype": "text/x-python",
   "name": "python",
   "nbconvert_exporter": "python",
   "pygments_lexer": "ipython3",
   "version": "3.7.4"
  }
 },
 "nbformat": 4,
 "nbformat_minor": 2
}
