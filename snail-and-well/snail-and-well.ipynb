{
 "cells": [
  {
   "cell_type": "markdown",
   "metadata": {},
   "source": [
    "# Snail and well\n",
    "\n",
    "A snail falls at the bottom of a 125 cm well. Each day the snail rises 30 cm. But at night, while sleeping, slides 20 cm because the walls are wet. How many days does it take to escape from the well?\n",
    "\n",
    "TIP: http://puzzles.nigelcoldwell.co.uk/sixtytwo.htm"
   ]
  },
  {
   "cell_type": "markdown",
   "metadata": {},
   "source": [
    "## Solución"
   ]
  },
  {
   "cell_type": "code",
   "execution_count": 1,
   "metadata": {},
   "outputs": [
    {
     "name": "stdout",
     "output_type": "stream",
     "text": [
      "Today is day 13\n"
     ]
    }
   ],
   "source": [
    "# Assign problem data to variables with representative names\n",
    "# well height, daily advance, night retreat, accumulated distance\n",
    "\n",
    "well_height = 125\n",
    "daily_advance = 30\n",
    "night_retreat = 20\n",
    "accumulated_distance = 0\n",
    "\n",
    "\n",
    "# Assign 0 to the variable that represents the solution\n",
    "\n",
    "day = 0\n",
    "\n",
    "# Write the code that solves the problem\n",
    "\n",
    "while well_height > accumulated_distance:\n",
    "    accumulated_distance += daily_advance\n",
    "    accumulated_distance -= night_retreat\n",
    "    day += 1\n",
    "    \n",
    "# Print the result with print('Days =', days)\n",
    "else:\n",
    "    print (\"Today is day \"+ str(day))"
   ]
  },
  {
   "cell_type": "markdown",
   "metadata": {},
   "source": [
    "## Goals\n",
    "\n",
    "1. Treatment of variables\n",
    "2. Use of loop **while**\n",
    "3. Use of conditional **if-else**\n",
    "4. Print in console"
   ]
  },
  {
   "cell_type": "markdown",
   "metadata": {},
   "source": [
    "## Bonus\n",
    "The distance traveled by the snail is now defined by a list.\n",
    "```\n",
    "advance_cm = [30, 21, 33, 77, 44, 45, 23, 45, 12, 34, 55]\n",
    "```\n",
    "How long does it take to raise the well?\n",
    "\n",
    "What is its maximum displacement in one day? And its minimum?\n",
    "\n",
    "What is its average speed during the day?\n",
    "\n",
    "What is the standard deviation of its displacement during the day?"
   ]
  },
  {
   "cell_type": "code",
   "execution_count": 1,
   "metadata": {},
   "outputs": [
    {
     "name": "stdout",
     "output_type": "stream",
     "text": [
      "Day  6  .\n",
      "The maximun displacement in a day is  57 cm.\n",
      "The minimun displacement in a day is  -8 cm.\n",
      "The average progress is  49.83 cm.\n",
      "11\n",
      "The standard desviation is  1.2\n"
     ]
    }
   ],
   "source": [
    "# Assign problem data to variables with representative names\n",
    "# well height, daily advance, night retreat, accumulated distance\n",
    "\n",
    "well_height = 125\n",
    "daily_advance = 0\n",
    "advance_cm = [30, 21, 33, 77, 44, 45, 23, 45, 12, 34, 55]\n",
    "night_retreat = 20\n",
    "accumulated_distance = 0\n",
    "\n",
    "\n",
    "# Assign 0 to the variable that represents the solution\n",
    "\n",
    "day = 0\n",
    "\n",
    "# Write the code that solves the problem\n",
    "\n",
    "while well_height > accumulated_distance:\n",
    "    \n",
    "    for daily_advance in advance_cm:\n",
    "        accumulated_distance += daily_advance\n",
    "        accumulated_distance -= night_retreat\n",
    "        day +=1\n",
    "        if accumulated_distance > well_height:\n",
    "            break\n",
    "        else:\n",
    "            continue\n",
    " \n",
    "\n",
    "# Print the result with print('Days =', days)\n",
    "   \n",
    "print (\"Day \", str(day),\" .\")\n",
    "\n",
    "# What is its maximum displacement in a day? And its minimum?\n",
    "\n",
    "print (\"The maximun displacement in a day is \",str(max(advance_cm)-night_retreat),\"cm.\")\n",
    "\n",
    "print (\"The minimun displacement in a day is \",str(min(advance_cm)-night_retreat),\"cm.\")\n",
    "\n",
    "\n",
    "# What is its average progress?\n",
    "\n",
    "avg_displacement = round((sum(advance_cm)-(night_retreat*day))/day,2)\n",
    "\n",
    "print (\"The average progress is \",str(avg_displacement) , \"cm.\")\n",
    "\n",
    "# What is the standard deviation of your displacement during the day?\n",
    "\n",
    "import math\n",
    "\n",
    "n = 0\n",
    "\n",
    "for desv in advance_cm:\n",
    "    \n",
    "    n +=1\n",
    "    desv_std = math.sqrt((desv - avg_displacement)**2/n-1)\n",
    "    \n",
    "print (n)\n",
    "print (\"The standard desviation is \", str(round(desv_std,2))) "
   ]
  },
  {
   "cell_type": "code",
   "execution_count": null,
   "metadata": {},
   "outputs": [],
   "source": []
  },
  {
   "cell_type": "code",
   "execution_count": null,
   "metadata": {},
   "outputs": [],
   "source": []
  }
 ],
 "metadata": {
  "kernelspec": {
   "display_name": "Python 3",
   "language": "python",
   "name": "python3"
  },
  "language_info": {
   "codemirror_mode": {
    "name": "ipython",
    "version": 3
   },
   "file_extension": ".py",
   "mimetype": "text/x-python",
   "name": "python",
   "nbconvert_exporter": "python",
   "pygments_lexer": "ipython3",
   "version": "3.7.3"
  }
 },
 "nbformat": 4,
 "nbformat_minor": 2
}
