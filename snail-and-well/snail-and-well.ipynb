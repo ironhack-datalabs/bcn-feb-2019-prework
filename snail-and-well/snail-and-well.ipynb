{
 "cells": [
  {
   "cell_type": "markdown",
   "metadata": {},
   "source": [
    "# Snail and well\n",
    "\n",
    "A snail falls at the bottom of a 125 cm well. Each day the snail rises 30 cm. But at night, while sleeping, slides 20 cm because the walls are wet. How many days does it take to escape from the well?\n",
    "\n",
    "TIP: http://puzzles.nigelcoldwell.co.uk/sixtytwo.htm"
   ]
  },
  {
   "cell_type": "markdown",
   "metadata": {},
   "source": [
    "## Solución"
   ]
  },
  {
   "cell_type": "code",
   "execution_count": 1,
   "metadata": {},
   "outputs": [
    {
     "name": "stdout",
     "output_type": "stream",
     "text": [
      "Goal reached during the 10nth day.\n",
      "Number of full days needed= 10.\n"
     ]
    }
   ],
   "source": [
    "# Assign problem data to variables with representative names\n",
    "# well height, daily advance, night retreat, accumulated distance\n",
    "\n",
    "Well_height = 125\n",
    "Daily_advance = 30\n",
    "Night_retreat= -20\n",
    "\n",
    "\n",
    "# Assign 0 to the variable that represents the solution\n",
    "Days = []\n",
    "Accumulated_distance = 0\n",
    "\n",
    "# Write the code that solves the problem\n",
    "while Accumulated_distance <= Well_height:\n",
    "    Accumulated_distance += Daily_advance\n",
    "    Days.append(Accumulated_distance)\n",
    "    if Accumulated_distance <= Well_height:\n",
    "        Accumulated_distance += Night_retreat\n",
    "        Days.append(Accumulated_distance)\n",
    "    else:\n",
    "        break\n",
    "\n",
    "# Print the result with print('Days =', days)\n",
    "\n",
    "print(\"Goal reached during the %snth day.\" % (int(len(Days)/2)))\n",
    "\n",
    "\n",
    "#alternatively, if we are rounding days:\n",
    "Well_height = 125\n",
    "Daily_advance = 30\n",
    "Night_retreat= -20\n",
    "Days = []\n",
    "Accumulated_distance = 0\n",
    "while Accumulated_distance <= Well_height:\n",
    "    Accumulated_distance += Daily_advance\n",
    "    if Accumulated_distance <= Well_height:\n",
    "        Accumulated_distance += Night_retreat\n",
    "        Days.append(Accumulated_distance)\n",
    "    else:\n",
    "        break\n",
    "\n",
    "# Print the result with print('Days =', days)\n",
    "\n",
    "print(\"Number of full days needed= %s.\" % (len(Days)))"
   ]
  },
  {
   "cell_type": "markdown",
   "metadata": {},
   "source": [
    "## Goals\n",
    "\n",
    "1. Treatment of variables\n",
    "2. Use of loop **while**\n",
    "3. Use of conditional **if-else**\n",
    "4. Print in console"
   ]
  },
  {
   "cell_type": "markdown",
   "metadata": {},
   "source": [
    "## Bonus\n",
    "The distance traveled by the snail is now defined by a list.\n",
    "```\n",
    "advance_cm = [30, 21, 33, 77, 44, 45, 23, 45, 12, 34, 55]\n",
    "```\n",
    "How long does it take to raise the well?\n",
    "\n",
    "What is its maximum displacement in one day? And its minimum?\n",
    "\n",
    "What is its average speed during the day?\n",
    "\n",
    "What is the standard deviation of its displacement during the day?"
   ]
  },
  {
   "cell_type": "code",
   "execution_count": 2,
   "metadata": {},
   "outputs": [
    {
     "name": "stdout",
     "output_type": "stream",
     "text": [
      "Goal reached during the 4th day.\n",
      "Number of full days needed = 5.\n",
      "The maximum displacement is 77.\n",
      "The minimum displacement is 12.\n",
      "The average progress is:  38 cm.\n",
      "Standard Deviation of sample is 17.\n"
     ]
    }
   ],
   "source": [
    "# Assign problem data to variables with representative names\n",
    "# well height, daily advance, night retreat, accumulated distance\n",
    "\n",
    "Well_height = 125\n",
    "Daily_advance = [30, 21, 33, 77, 44, 45, 23, 45, 12, 34, 55]\n",
    "Night_retreat= -20\n",
    "\n",
    "# Assign 0 to the variable that represents the solution\n",
    "Days = []\n",
    "Accumulated_distance = 0\n",
    "\n",
    "# Write the code that solves the problem\n",
    "while Accumulated_distance <= Well_height:\n",
    "    for i in Daily_advance:\n",
    "        Accumulated_distance += i\n",
    "        Days.append(Accumulated_distance)\n",
    "        if i <= 125:\n",
    "            Accumulated_distance += Night_retreat\n",
    "            Days.append(Accumulated_distance)\n",
    "        else:\n",
    "            break\n",
    "        \n",
    "# Print the result with print('Days =', days)\n",
    "days = []\n",
    "for i in Days:\n",
    "    if i < 125:\n",
    "        days.append(i)\n",
    "    else:\n",
    "        break\n",
    "\n",
    "print(\"Goal reached during the %sth day.\" % (int(len(days)/2)))\n",
    "\n",
    "#alternatively, for a rounded result:\n",
    "Well_height = 125\n",
    "Daily_advance = [30, 21, 33, 77, 44, 45, 23, 45, 12, 34, 55]\n",
    "Night_retreat= -20\n",
    "Days = []\n",
    "Accumulated_distance = 0\n",
    "\n",
    "while Accumulated_distance <= Well_height:\n",
    "    for i in Daily_advance:\n",
    "        Accumulated_distance += i\n",
    "        if i <= 125:\n",
    "            Accumulated_distance += Night_retreat\n",
    "            Days.append(Accumulated_distance)\n",
    "        else:\n",
    "            break\n",
    "days = []\n",
    "for i in Days:\n",
    "    if i < 125:\n",
    "        days.append(i)\n",
    "    else:\n",
    "        break\n",
    "print(\"Number of full days needed = %s.\" % (len(days))) \n",
    "\n",
    "# What is its maximum displacement in a day? And its minimum?\n",
    "print(\"The maximum displacement is %s.\" % (max(Daily_advance)))\n",
    "\n",
    "print(\"The minimum displacement is %s.\" % (min(Daily_advance)))\n",
    "\n",
    "# What is its average progress?\n",
    "Avg = sum(Daily_advance)/len(Daily_advance)\n",
    "print(\"The average progress is: \",int(Avg),\"cm.\")\n",
    "\n",
    "# What is the standard deviation of your displacement during the day?\n",
    "from statistics import stdev\n",
    "print(\"Standard Deviation of sample is % s.\" \n",
    "                % (int(stdev(Daily_advance))))\n"
   ]
  },
  {
   "cell_type": "code",
   "execution_count": null,
   "metadata": {},
   "outputs": [],
   "source": []
  },
  {
   "cell_type": "code",
   "execution_count": null,
   "metadata": {},
   "outputs": [],
   "source": []
  }
 ],
 "metadata": {
  "kernelspec": {
   "display_name": "Python 3",
   "language": "python",
   "name": "python3"
  },
  "language_info": {
   "codemirror_mode": {
    "name": "ipython",
    "version": 3
   },
   "file_extension": ".py",
   "mimetype": "text/x-python",
   "name": "python",
   "nbconvert_exporter": "python",
   "pygments_lexer": "ipython3",
   "version": "3.7.3"
  }
 },
 "nbformat": 4,
 "nbformat_minor": 2
}
