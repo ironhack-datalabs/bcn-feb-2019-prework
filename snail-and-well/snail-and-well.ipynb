{
 "cells": [
  {
   "cell_type": "code",
   "execution_count": 3,
   "metadata": {},
   "outputs": [
    {
     "name": "stdout",
     "output_type": "stream",
     "text": [
      "Day:  0\n",
      "The snail hasn't reached the top of the well\n",
      "Day:  1\n",
      "The snail hasn't reached the top of the well\n",
      "Day:  2\n",
      "The snail hasn't reached the top of the well\n",
      "Day:  3\n",
      "The snail hasn't reached the top of the well\n",
      "Day:  4\n",
      "The snail hasn't reached the top of the well\n",
      "Day:  5\n",
      "The snail hasn't reached the top of the well\n",
      "Day:  6\n",
      "The snail hasn't reached the top of the well\n",
      "Day:  7\n",
      "The snail hasn't reached the top of the well\n",
      "Day:  8\n",
      "The snail hasn't reached the top of the well\n",
      "Day:  9\n",
      "The snail hasn't reached the top of the well\n",
      "Day:  10\n",
      "The snail hasn't reached the top of the well\n",
      "Day:  11\n",
      "The snail hasn't reached the top of the well\n",
      "Day:  12\n",
      "The snail hasn't reached the top of the well\n",
      "Day:  13\n",
      "The snail has reach the top\n"
     ]
    }
   ],
   "source": [
    "well_height=125\n",
    "snail_position=0\n",
    "daily_distance=30\n",
    "nightly_distance=20\n",
    "days=0\n",
    "print(\"Day: \",days)\n",
    "while snail_position < well_height:\n",
    "    days += 1\n",
    "    snail_position += daily_distance\n",
    "    snail_position -= nightly_distance\n",
    "    print (\"The snail hasn't reached the top of the well\")\n",
    "    print (\"Day: \",days)\n",
    "    \n",
    "print (\"The snail has reach the top\")"
   ]
  },
  {
   "cell_type": "code",
   "execution_count": null,
   "metadata": {},
   "outputs": [],
   "source": []
  }
 ],
 "metadata": {
  "kernelspec": {
   "display_name": "Python 3",
   "language": "python",
   "name": "python3"
  },
  "language_info": {
   "codemirror_mode": {
    "name": "ipython",
    "version": 3
   },
   "file_extension": ".py",
   "mimetype": "text/x-python",
   "name": "python",
   "nbconvert_exporter": "python",
   "pygments_lexer": "ipython3",
   "version": "3.7.4"
  }
 },
 "nbformat": 4,
 "nbformat_minor": 2
}
