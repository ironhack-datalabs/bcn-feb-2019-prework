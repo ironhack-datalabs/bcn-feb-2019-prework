{
 "cells": [
  {
   "cell_type": "markdown",
   "metadata": {},
   "source": [
    "# Snail and well\n",
    "\n",
    "A snail falls at the bottom of a 125 cm well. Each day the snail rises 30 cm. But at night, while sleeping, slides 20 cm because the walls are wet. How many days does it take to escape from the well?\n",
    "\n",
    "TIP: http://puzzles.nigelcoldwell.co.uk/sixtytwo.htm"
   ]
  },
  {
   "cell_type": "markdown",
   "metadata": {},
   "source": [
    "## Solución"
   ]
  },
  {
   "cell_type": "code",
   "execution_count": 4,
   "metadata": {},
   "outputs": [
    {
     "name": "stdout",
     "output_type": "stream",
     "text": [
      "Days nota 2 = 13\n"
     ]
    }
   ],
   "source": [
    "# Assign problem data to variables with representative names\n",
    "# well height, daily advance, night retreat, accumulated distance\n",
    "pared = 125\n",
    "sube = 30\n",
    "retroceso = 20\n",
    "distancia_acumulada = 0\n",
    "\n",
    "# Assign 0 to the variable that represents the solution\n",
    "dias = 0\n",
    "\n",
    "# Write the code that solves the problem\n",
    "#Nota: sin if else\n",
    "###while (avance < pared):\n",
    "###    distancia = sube - retroceso\n",
    "###    avance += distancia\n",
    "###    dias +=1\n",
    "    \n",
    "#Nota 2: con if -else\n",
    "while True:\n",
    "    if(avance < pared):\n",
    "        distancia = sube - retroceso\n",
    "        distancia_acumulada += distancia\n",
    "        dias +=1\n",
    "    else:\n",
    "        break\n",
    "\n",
    "# Print the result with print('Days =', days)\n",
    "print('Days =', dias)"
   ]
  },
  {
   "cell_type": "markdown",
   "metadata": {},
   "source": [
    "## Goals\n",
    "\n",
    "1. Treatment of variables\n",
    "2. Use of loop **while**\n",
    "3. Use of conditional **if-else**\n",
    "4. Print in console"
   ]
  },
  {
   "cell_type": "markdown",
   "metadata": {},
   "source": [
    "## Bonus\n",
    "The distance traveled by the snail is now defined by a list.\n",
    "```\n",
    "advance_cm = [30, 21, 33, 77, 44, 45, 23, 45, 12, 34, 55]\n",
    "```\n",
    "How long does it take to raise the well?\n",
    "\n",
    "What is its maximum displacement in one day? And its minimum?\n",
    "\n",
    "What is its average speed during the day?\n",
    "\n",
    "What is the standard deviation of its displacement during the day?"
   ]
  },
  {
   "cell_type": "code",
   "execution_count": 22,
   "metadata": {},
   "outputs": [
    {
     "name": "stdout",
     "output_type": "stream",
     "text": [
      "dias =  6\n",
      "desplazamiento máximo: 77\n",
      "desplazamiento mínimo: 12\n",
      "promedio de avance 38.09090909090909\n",
      "Desviacion estandar 17.159437082600803\n"
     ]
    }
   ],
   "source": [
    "# Assign problem data to variables with representative names\n",
    "import math\n",
    "# well height, daily advance, night retreat, accumulated distance\n",
    "advance_cm = [30, 21, 33, 77, 44, 45, 23, 45, 12, 34, 55]\n",
    "pared = 125\n",
    "retroceso = 20\n",
    "distancia_acumulada = 0\n",
    "maximo = 0\n",
    "minimo = 0\n",
    "average = 0\n",
    "sumatoria = 0\n",
    "Sd = 0\n",
    "\n",
    "# Assign 0 to the variable that represents the solution\n",
    "dias = 0\n",
    "\n",
    "# Write the code that solves the problem\n",
    "# maximos y minimos\n",
    "maximo = max(advance_cm)\n",
    "minimo = min(advance_cm)\n",
    "\n",
    "# promedio o media aritmetica\n",
    "average = sum(advance_cm)/ len(advance_cm)\n",
    "\n",
    "# Dias para subir la pared y cuadrado para desviación estandar\n",
    "for dia in advance_cm:\n",
    "    if(distancia_acumulada < pared):\n",
    "        avance = dia - retroceso\n",
    "        distancia_acumulada += avance\n",
    "        dias += 1\n",
    "    #calculamos el cuadrado de la desviación\n",
    "    cuadrado = (dia-average)**2\n",
    "    sumatoria += cuadrado\n",
    "\n",
    "#desviación estandar\n",
    "Sd = math.sqrt(sumatoria/len(advance_cm))\n",
    "\n",
    "# Print the result with print('Days =', days)\n",
    "print('dias = ', dias)\n",
    "\n",
    "# What is its maximum displacement in a day? And its minimum?\n",
    "print(\"desplazamiento máximo:\", maximo)\n",
    "print(\"desplazamiento mínimo:\", minimo)\n",
    "\n",
    "# What is its average progress?\n",
    "print('promedio de avance', average)\n",
    "\n",
    "# What is the standard deviation of your displacement during the day?\n",
    "print('Desviacion estandar', Sd)\n"
   ]
  },
  {
   "cell_type": "code",
   "execution_count": null,
   "metadata": {},
   "outputs": [],
   "source": []
  }
 ],
 "metadata": {
  "kernelspec": {
   "display_name": "Python 3",
   "language": "python",
   "name": "python3"
  },
  "language_info": {
   "codemirror_mode": {
    "name": "ipython",
    "version": 3
   },
   "file_extension": ".py",
   "mimetype": "text/x-python",
   "name": "python",
   "nbconvert_exporter": "python",
   "pygments_lexer": "ipython3",
   "version": "3.7.0"
  }
 },
 "nbformat": 4,
 "nbformat_minor": 2
}
