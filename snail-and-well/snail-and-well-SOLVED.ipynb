{
  "nbformat": 4,
  "nbformat_minor": 0,
  "metadata": {
    "colab": {
      "name": "snail-and-well.ipynb",
      "version": "0.3.2",
      "provenance": []
    },
    "language_info": {
      "codemirror_mode": {
        "name": "ipython",
        "version": 3
      },
      "file_extension": ".py",
      "mimetype": "text/x-python",
      "name": "python",
      "nbconvert_exporter": "python",
      "pygments_lexer": "ipython3",
      "version": "3.6.7"
    },
    "kernelspec": {
      "display_name": "Python 3",
      "language": "python",
      "name": "python3"
    }
  },
  "cells": [
    {
      "cell_type": "markdown",
      "metadata": {
        "id": "gVvNchnGvpmp",
        "colab_type": "text"
      },
      "source": [
        "# Snail and well\n",
        "\n",
        "A snail falls at the bottom of a 125 cm well. Each day the snail rises 30 cm. But at night, while sleeping, slides 20 cm because the walls are wet. How many days does it take to escape from the well?\n",
        "\n",
        "TIP: http://puzzles.nigelcoldwell.co.uk/sixtytwo.htm"
      ]
    },
    {
      "cell_type": "markdown",
      "metadata": {
        "id": "pOYsgiFGvpms",
        "colab_type": "text"
      },
      "source": [
        "## Solución"
      ]
    },
    {
      "cell_type": "code",
      "metadata": {
        "id": "IHwh-yECvpmt",
        "colab_type": "code",
        "colab": {
          "base_uri": "https://localhost:8080/",
          "height": 34
        },
        "outputId": "ba24bb77-5c2d-486a-87f7-6a9fb8c52509"
      },
      "source": [
        "# Assign problem data to variables with representative names\n",
        "# well height, daily advance, night retreat, accumulated distance\n",
        "height = 125\n",
        "daily = 30\n",
        "night = 20\n",
        "accumulated = 0\n",
        "\n",
        "# Assign 0 to the variable that represents the solution\n",
        "days = 0\n",
        "\n",
        "# Write the code that solves the problem\n",
        "while accumulated < height:\n",
        "  days += 1\n",
        "  accumulated +=  daily\n",
        "  if accumulated >= height:\n",
        "    break\n",
        "  else:\n",
        "    accumulated -= night\n",
        "    \n",
        "# Print the result with print('Days =', days)\n",
        "print('Days =', days)\n",
        "\n"
      ],
      "execution_count": 1,
      "outputs": [
        {
          "output_type": "stream",
          "text": [
            "Days = 11\n"
          ],
          "name": "stdout"
        }
      ]
    },
    {
      "cell_type": "markdown",
      "metadata": {
        "id": "ugo6qlBovpmw",
        "colab_type": "text"
      },
      "source": [
        "## Goals\n",
        "\n",
        "1. Treatment of variables\n",
        "2. Use of loop **while**\n",
        "3. Use of conditional **if-else**\n",
        "4. Print in console"
      ]
    },
    {
      "cell_type": "markdown",
      "metadata": {
        "id": "pQifgnEjvpmx",
        "colab_type": "text"
      },
      "source": [
        "## Bonus\n",
        "The distance traveled by the snail is now defined by a list.\n",
        "```\n",
        "advance_cm = [30, 21, 33, 77, 44, 45, 23, 45, 12, 34, 55]\n",
        "```\n",
        "How long does it take to raise the well?\n",
        "\n",
        "What is its maximum displacement in one day? And its minimum?\n",
        "\n",
        "What is its average speed during the day?\n",
        "\n",
        "What is the standard deviation of its displacement during the day?"
      ]
    },
    {
      "cell_type": "code",
      "metadata": {
        "id": "pf6k-17Avpmx",
        "colab_type": "code",
        "colab": {
          "base_uri": "https://localhost:8080/",
          "height": 102
        },
        "outputId": "97f74cc4-d472-4869-d683-598831c6e681"
      },
      "source": [
        "# Assign problem data to variables with representative names\n",
        "# well height, daily advance, night retreat, accumulated distance\n",
        "height = 125\n",
        "daily = [30, 21, 33, 77, 44, 45, 23, 45, 12, 34, 55]\n",
        "night = 20\n",
        "accumulated = 0\n",
        "\n",
        "# Assign 0 to the variable that represents the solution\n",
        "days = 0\n",
        "\n",
        "# Write the code that solves the problem\n",
        "while accumulated < height:\n",
        "  days += 1\n",
        "  accumulated +=  daily[days]\n",
        "  if accumulated >= height:\n",
        "    break\n",
        "  else:\n",
        "    accumulated -= night\n",
        "\n",
        "# Print the result with print('Days =', days)\n",
        "print('Days =', days)\n",
        "\n",
        "# Remove the daily advance not used\n",
        "count = len(daily)\n",
        "while count > days:\n",
        "  del daily[-1]\n",
        "  count= len(daily)\n",
        "\n",
        "# What is its maximum displacement in a day? And its minimum?\n",
        "print ('Maximum displacement =', max(daily))\n",
        "print ('Minimum displacement =', min(daily))\n",
        "\n",
        "# What is its average progress?\n",
        "average = sum(daily)/days\n",
        "print ('Average progress =', average)\n",
        "\n",
        "# What is the standard deviation of your displacement during the day?\n",
        "mean_daily = sum(daily)/len(daily)\n",
        "x = 0\n",
        "for day in daily:\n",
        "  x += (day - mean_daily)**2\n",
        "stdev = (x/len(daily)-1)**0.5\n",
        "\n",
        "print ('Standard Deviation =', stdev)\n",
        "\n"
      ],
      "execution_count": 13,
      "outputs": [
        {
          "output_type": "stream",
          "text": [
            "Days = 5\n",
            "Maximum displacement = 77\n",
            "Minimum displacement = 21\n",
            "Average progress = 41.0\n",
            "Standard Deviation = 19.4164878389476\n"
          ],
          "name": "stdout"
        }
      ]
    },
    {
      "cell_type": "code",
      "metadata": {
        "id": "z8GHz1uGvpm0",
        "colab_type": "code",
        "colab": {}
      },
      "source": [
        ""
      ],
      "execution_count": 0,
      "outputs": []
    }
  ]
}