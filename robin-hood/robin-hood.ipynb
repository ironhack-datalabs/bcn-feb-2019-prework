{
 "cells": [
  {
   "cell_type": "markdown",
   "metadata": {},
   "source": [
    "# Robin Hood:\n",
    "We are in a competition to win the archery contest in Sherwood. With our bow and arrows we shoot on a target and try to hit as close as possible to the center.\n",
    "\n",
    "The center of the target is represented by the values (0, 0) on the coordinate axes.\n",
    "\n",
    "![](images/arrows.jpg)\n",
    "\n",
    "## Goals:\n",
    "* data structures: lists, sets, tuples\n",
    "* logical operators: if-elif-else\n",
    "* loop: while/for\n",
    "* minimum (optional sorting)\n",
    "\n",
    "## Description:\n",
    "In the 2-dimensional space, a point can be defined by a pair of values that correspond to the horizontal coordinate (x) and the vertical coordinate (y). The space can be divided into 4 zones (quadrants): Q1, Q2, Q3, Q4. Whose single point of union is the point (0, 0).\n",
    "\n",
    "If a point is in Q1 both its x coordinate and the y are positive. I leave a link to wikipedia to familiarize yourself with these quadrants.\n",
    "\n",
    "https://en.wikipedia.org/wiki/Cartesian_coordinate_system\n",
    "\n",
    "https://en.wikipedia.org/wiki/Euclidean_distance\n",
    "\n",
    "## Shots\n",
    "```\n",
    "points = [(4, 5), (-0, 2), (4, 7), (1, -3), (3, -2), (4, 5),\n",
    "          (3, 2), (5, 7), (-5, 7), (2, 2), (-4, 5), (0, -2),\n",
    "          (-4, 7), (-1, 3), (-3, 2), (-4, -5), (-3, 2),\n",
    "          (5, 7), (5, 7), (2, 2), (9, 9), (-8, -9)]\n",
    "```\n",
    "\n",
    "## Tasks\n",
    "1. Robin Hood is famous for hitting an arrow with another arrow. Did you get it?\n",
    "2. Calculate how many arrows have fallen in each quadrant.\n",
    "3. Find the point closest to the center. Calculate its distance to the center. \n",
    "4. If the target has a radius of 9, calculate the number of arrows that must be picked up in the forest."
   ]
  },
  {
   "cell_type": "code",
   "execution_count": 1,
   "metadata": {},
   "outputs": [],
   "source": [
    "# Variables\n",
    "\n",
    "points = [(4, 5), (-0, 2), (4, 7), (1, -3), (3, -2), (4, 5),\n",
    "          (3, 2), (5, 7), (-5, 7), (2, 2), (-4, 5), (0, -2),\n",
    "          (-4, 7), (-1, 3), (-3, 2), (-4, -5), (-3, 2),\n",
    "          (5, 7), (5, 7), (2, 2), (9, 9), (-8, -9)]"
   ]
  },
  {
   "cell_type": "code",
   "execution_count": 2,
   "metadata": {},
   "outputs": [],
   "source": [
    "# 1. Robin Hood is famous for hitting an arrow with another arrow. Did you get it?\n",
    "\n"
   ]
  },
  {
   "cell_type": "code",
   "execution_count": 10,
   "metadata": {},
   "outputs": [
    {
     "name": "stdout",
     "output_type": "stream",
     "text": [
      "The arrow (4,5) is in the quadrant 1.\n",
      "The arrow (0,2) is in the quadrant 2.\n",
      "The arrow (4,7) is in the quadrant 1.\n",
      "The arrow (1,-3) is in the quadrant 4.\n",
      "The arrow (3,-2) is in the quadrant 4.\n",
      "The arrow (4,5) is in the quadrant 1.\n",
      "The arrow (3,2) is in the quadrant 1.\n",
      "The arrow (5,7) is in the quadrant 1.\n",
      "The arrow (-5,7) is in the quadrant 2.\n",
      "The arrow (2,2) is in the quadrant 1.\n",
      "The arrow (-4,5) is in the quadrant 2.\n",
      "The arrow (0,-2) is in the quadrant 4.\n",
      "The arrow (-4,7) is in the quadrant 2.\n",
      "The arrow (-1,3) is in the quadrant 2.\n",
      "The arrow (-3,2) is in the quadrant 2.\n",
      "The arrow (-4,-5) is in the quadrant 3.\n",
      "The arrow (-3,2) is in the quadrant 2.\n",
      "The arrow (5,7) is in the quadrant 1.\n",
      "The arrow (5,7) is in the quadrant 1.\n",
      "The arrow (2,2) is in the quadrant 1.\n",
      "The arrow (9,9) is in the quadrant 1.\n",
      "The arrow (-8,-9) is in the quadrant 3.\n"
     ]
    }
   ],
   "source": [
    "# 2. Calculate how many arrows have fallen in each quadrant.\n",
    "for i, elt in points:\n",
    "    if i > 0 and elt >= 0:\n",
    "        print(\"The arrow ({},{}) is in the quadrant 1.\".format(i,elt))\n",
    "\n",
    "    elif i <= 0 and elt > 0:\n",
    "        print(\"The arrow ({},{}) is in the quadrant 2.\".format(i,elt))\n",
    "\n",
    "    elif i < 0 and elt < 0:\n",
    "        print(\"The arrow ({},{}) is in the quadrant 3.\".format(i,elt))\n",
    "\n",
    "    elif i >= 0 and elt < 0:\n",
    "        print(\"The arrow ({},{}) is in the quadrant 4.\".format(i,elt))\n",
    "    else:\n",
    "        print(\"The arrow ({},{}) is out of the quadrant.\".format(i,elt))\n"
   ]
  },
  {
   "cell_type": "code",
   "execution_count": 11,
   "metadata": {},
   "outputs": [
    {
     "name": "stdout",
     "output_type": "stream",
     "text": [
      "{(-4, 5), (4, 7), (3, 2), (4, 5), (-1, 3), (5, 7), (9, 9), (3, -2), (-5, 7), (-3, 2), (0, -2), (-4, -5), (2, 2), (-8, -9), (1, -3), (-4, 7), (0, 2)}\n",
      "2.0\n",
      " The point (0, -2) is at 2.0 from the center\n",
      "2.0\n",
      " The point (-0, 2) is at 2.0 from the center\n",
      "The points closest to the center are (-0, 2) and (0, -2).\n"
     ]
    }
   ],
   "source": [
    "# 3. Find the point closest to the center. Calculate its distance to the center\n",
    "# Defining a function that calculates the distance to the center can help.\n",
    "\n",
    "points = [(4, 5), (-0, 2), (4, 7), (1, -3), (3, -2), (4, 5),\n",
    "          (3, 2), (5, 7), (-5, 7), (2, 2), (-4, 5), (0, -2),\n",
    "          (-4, 7), (-1, 3), (-3, 2), (-4, -5), (-3, 2),\n",
    "          (5, 7), (5, 7), (2, 2), (9, 9), (-8, -9)]\n",
    "\n",
    "\n",
    "\n",
    "# trier la liste points pour avoir les coordonnées dans l'ordre croissant et déterminer les points les plus\n",
    "#proches de 0.\n",
    "\n",
    "dupe = set(points)\n",
    "\n",
    "\n",
    "dupe = [(-4, 5), (4, 7), (3, 2), (4, 5), (-1, 3), (5, 7), (9, 9), (3, -2), (-5, 7),\n",
    "        (-3, 2), (0, -2), (-4, -5), (2, 2), (-8, -9), (1, -3), (-4, 7), (0, 2)]\n",
    "\n",
    "dupe.sort()\n",
    "\n",
    "dupe = [(-8, -9), (-5, 7), (-4, -5), (-4, 5), (-4, 7), (-3, 2),\n",
    "        (-1, 3), (0, -2), (0, 2), (1, -3),\n",
    "        (2, 2), (3, -2), (3, 2), (4, 5), (4, 7), (5, 7), (9, 9)]\n",
    "\n",
    "import math\n",
    "\n",
    "# test des deux coordonnées les plus proches de 0\n",
    "\n",
    "p1 = [0, 0]\n",
    "p2 = [0, -2]\n",
    "distance = math.sqrt(((p1[0] - p2[0]) ** 2) + ((p1[1] - p2[1]) ** 2))\n",
    "print(distance)\n",
    "print(\" The point (0, -2) is at 2.0 from the center\")\n",
    "\n",
    "\n",
    "p1 = [0, 0]\n",
    "p2 = [-0, 2]\n",
    "distance = math.sqrt(((p1[0] - p2[0]) ** 2) + ((p1[1] - p2[1]) ** 2))\n",
    "print(distance)\n",
    "print(\" The point (-0, 2) is at 2.0 from the center\")\n",
    "print(\"The points closest to the center are (-0, 2) and (0, -2).\")"
   ]
  },
  {
   "cell_type": "code",
   "execution_count": 8,
   "metadata": {},
   "outputs": [
    {
     "name": "stdout",
     "output_type": "stream",
     "text": [
      "The arrow (4,5) is on the target.\n",
      "The arrow (0,2) is on the target.\n",
      "The arrow (4,7) is on the target.\n",
      "The arrow (1,-3) is on the target.\n",
      "The arrow (3,-2) is on the target.\n",
      "The arrow (4,5) is on the target.\n",
      "The arrow (3,2) is on the target.\n",
      "The arrow (5,7) is on the target.\n",
      "The arrow (-5,7) is on the target.\n",
      "The arrow (2,2) is on the target.\n",
      "The arrow (-4,5) is on the target.\n",
      "The arrow (0,-2) is on the target.\n",
      "The arrow (-4,7) is on the target.\n",
      "The arrow (-1,3) is on the target.\n",
      "The arrow (-3,2) is on the target.\n",
      "The arrow (-4,-5) is on the target.\n",
      "The arrow (-3,2) is on the target.\n",
      "The arrow (5,7) is on the target.\n",
      "The arrow (5,7) is on the target.\n",
      "The arrow (2,2) is on the target.\n",
      "We will pick up the arrow (9,9).\n",
      "We will pick up the arrow (-8,-9).\n"
     ]
    }
   ],
   "source": [
    "# 4. If the target has a radius of 9, calculate the number of arrows that \n",
    "# must be picked up in the forest.\n",
    "\n",
    "#for i, elt in points:\n",
    " #   if i <= 9 and elt <= 9:\n",
    "  #      print(\"The arrow ({},{}) is on the target.\".format(i,elt))\n",
    "   # else:\n",
    "    #   print(\"We will pick up the arrow ({},{}).\".format(i,elt))\n",
    "\n",
    "import math\n",
    "\n",
    "def distance(p1, p2):\n",
    "    return math.sqrt(((p1[0] - p2[0]) ** 2) + ((p1[1] - p2[1]) ** 2))\n",
    "\n",
    "#distance = math.sqrt(((p1[0] - p2[0]) ** 2) + ((p1[1] - p2[1]) ** 2))\n",
    "#print(distance)\n",
    "\n",
    "points = [(4, 5), (-0, 2), (4, 7), (1, -3), (3, -2), (4, 5),\n",
    "          (3, 2), (5, 7), (-5, 7), (2, 2), (-4, 5), (0, -2),\n",
    "          (-4, 7), (-1, 3), (-3, 2), (-4, -5), (-3, 2),\n",
    "          (5, 7), (5, 7), (2, 2), (9, 9), (-8, -9)]\n",
    "\n",
    "for i, elt in points:\n",
    "    la_p1 = (0, 0)\n",
    "    la_p2 = (i, elt)\n",
    "    la_distance = distance(la_p1, la_p2)\n",
    "          \n",
    "    if la_distance < 9:\n",
    "        print(\"The arrow ({},{}) is on the target.\".format(i,elt))\n",
    "    else:\n",
    "        print(\"We will pick up the arrow ({},{}).\".format(i,elt))\n",
    "        "
   ]
  },
  {
   "cell_type": "code",
   "execution_count": null,
   "metadata": {},
   "outputs": [],
   "source": []
  }
 ],
 "metadata": {
  "kernelspec": {
   "display_name": "Python 3",
   "language": "python",
   "name": "python3"
  },
  "language_info": {
   "codemirror_mode": {
    "name": "ipython",
    "version": 3
   },
   "file_extension": ".py",
   "mimetype": "text/x-python",
   "name": "python",
   "nbconvert_exporter": "python",
   "pygments_lexer": "ipython3",
   "version": "3.7.3"
  }
 },
 "nbformat": 4,
 "nbformat_minor": 2
}
