{
 "cells": [
  {
   "cell_type": "markdown",
   "metadata": {},
   "source": [
    "# Robin Hood:\n",
    "We are in a competition to win the archery contest in Sherwood. With our bow and arrows we shoot on a target and try to hit as close as possible to the center.\n",
    "\n",
    "The center of the target is represented by the values (0, 0) on the coordinate axes.\n",
    "\n",
    "![](images/arrows.jpg)\n",
    "\n",
    "## Goals:\n",
    "* data structures: lists, sets, tuples\n",
    "* logical operators: if-elif-else\n",
    "* loop: while/for\n",
    "* minimum (optional sorting)\n",
    "\n",
    "## Description:\n",
    "In the 2-dimensional space, a point can be defined by a pair of values that correspond to the horizontal coordinate (x) and the vertical coordinate (y). The space can be divided into 4 zones (quadrants): Q1, Q2, Q3, Q4. Whose single point of union is the point (0, 0).\n",
    "\n",
    "If a point is in Q1 both its x coordinate and the y are positive. I leave a link to wikipedia to familiarize yourself with these quadrants.\n",
    "\n",
    "https://en.wikipedia.org/wiki/Cartesian_coordinate_system\n",
    "\n",
    "https://en.wikipedia.org/wiki/Euclidean_distance\n",
    "\n",
    "## Shots\n",
    "```\n",
    "points = [(4, 5), (-0, 2), (4, 7), (1, -3), (3, -2), (4, 5),\n",
    "          (3, 2), (5, 7), (-5, 7), (2, 2), (-4, 5), (0, -2),\n",
    "          (-4, 7), (-1, 3), (-3, 2), (-4, -5), (-3, 2),\n",
    "          (5, 7), (5, 7), (2, 2), (9, 9), (-8, -9)]\n",
    "```\n",
    "\n",
    "## Tasks\n",
    "1. Robin Hood is famous for hitting an arrow with another arrow. Did you get it?\n",
    "2. Calculate how many arrows have fallen in each quadrant.\n",
    "3. Find the point closest to the center. Calculate its distance to the center. \n",
    "4. If the target has a radius of 9, calculate the number of arrows that must be picked up in the forest."
   ]
  },
  {
   "cell_type": "code",
   "execution_count": 11,
   "metadata": {},
   "outputs": [],
   "source": [
    "# Variables\n",
    "\n",
    "points = [(4, 5), (-0, 2), (4, 7), (1, -3), (3, -2), (4, 5),\n",
    "          (3, 2), (5, 7), (-5, 7), (2, 2), (-4, 5), (0, -2),\n",
    "          (-4, 7), (-1, 3), (-3, 2), (-4, -5), (-3, 2),\n",
    "          (5, 7), (5, 7), (2, 2), (9, 9), (-8, -9)]"
   ]
  },
  {
   "cell_type": "code",
   "execution_count": 12,
   "metadata": {},
   "outputs": [
    {
     "name": "stdout",
     "output_type": "stream",
     "text": [
      "I'm like Robin Hood!\n"
     ]
    }
   ],
   "source": [
    "# 1. Robin Hood is famous for hitting an arrow with another arrow. Did you get it?\n",
    "robin_hood = 0\n",
    "# For every tuple I compare it with the other tuples in the list and add 1 to robin_hood if they are equal\n",
    "for i in range(len(points)):\n",
    "    for j in range(i+1,len(points)):\n",
    "        if points[i] == points[j]:\n",
    "            robin_hood +=1\n",
    "if robin_hood > 0:\n",
    "    print(\"I'm like Robin Hood!\")\n"
   ]
  },
  {
   "cell_type": "code",
   "execution_count": 20,
   "metadata": {},
   "outputs": [
    {
     "name": "stdout",
     "output_type": "stream",
     "text": [
      "The number of arrows in the respective quadrants q1, q2, q3, and q4 are 10 2 2 6\n"
     ]
    }
   ],
   "source": [
    "# 2. Calculate how many arrows have fallen in each quadrant.\n",
    "# Initialize the quadrant values\n",
    "q1 = 0\n",
    "q2 = 0\n",
    "q3 = 0\n",
    "q4 = 0\n",
    "robin_hood = 0\n",
    "# Create a list for X and Y coordinates of each point\n",
    "x_coord = []\n",
    "y_coord = []\n",
    "#Populate both lists x_coord and y_coord\n",
    "for (x,y) in points:\n",
    "    x_coord.append(x)\n",
    "    y_coord.append(y)\n",
    "# How many arrows fall in each quadrant\n",
    "for i in range(len(points)):\n",
    "    if x_coord[i] > 0 and y_coord[i] > 0:\n",
    "        q1 +=1\n",
    "    if x_coord[i] > 0 and y_coord[i] < 0:\n",
    "        q2 +=1\n",
    "    if x_coord[i] < 0 and y_coord[i] < 0:\n",
    "        q3 +=1\n",
    "    if x_coord[i] < 0 and y_coord[i] > 0:\n",
    "        q4 +=1\n",
    "print(\"The number of arrows in the respective quadrants q1, q2, q3, and q4 are\", q1, q2, q3, q4)"
   ]
  },
  {
   "cell_type": "code",
   "execution_count": 23,
   "metadata": {},
   "outputs": [
    {
     "name": "stdout",
     "output_type": "stream",
     "text": [
      "The closest point to the center is [(0, 2), (0, -2)]\n"
     ]
    }
   ],
   "source": [
    "# 3. Find the point closest to the center. Calculate its distance to the center\n",
    "# Define a list for the distances to the center\n",
    "distance = [(x**2 + y**2)**0.5 for (x,y) in points]\n",
    "small_distance = []\n",
    "for i in range(len(points)):\n",
    "    if distance[i] == min(distance): \n",
    "        small_distance.append(points[i])\n",
    "print(\"The closest point to the center is\", small_distance)"
   ]
  },
  {
   "cell_type": "code",
   "execution_count": 26,
   "metadata": {},
   "outputs": [
    {
     "name": "stdout",
     "output_type": "stream",
     "text": [
      "The points in the forest are [(9, 9), (-8, -9)]\n"
     ]
    }
   ],
   "source": [
    "# 4. If the target has a radius of 9, calculate the number of arrows that \n",
    "# must be picked up in the forest.\n",
    "distance_superior_9 = []\n",
    "for i in range(len(points)):\n",
    "    if distance[i] > 9:\n",
    "        distance_superior_9.append(points[i])\n",
    "print(\"The points in the forest are\", distance_superior_9)"
   ]
  },
  {
   "cell_type": "code",
   "execution_count": null,
   "metadata": {},
   "outputs": [],
   "source": []
  }
 ],
 "metadata": {
  "kernelspec": {
   "display_name": "Python 3",
   "language": "python",
   "name": "python3"
  },
  "language_info": {
   "codemirror_mode": {
    "name": "ipython",
    "version": 3
   },
   "file_extension": ".py",
   "mimetype": "text/x-python",
   "name": "python",
   "nbconvert_exporter": "python",
   "pygments_lexer": "ipython3",
   "version": "3.7.3"
  }
 },
 "nbformat": 4,
 "nbformat_minor": 2
}
