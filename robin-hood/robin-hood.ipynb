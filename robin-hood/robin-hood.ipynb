{
 "cells": [
  {
   "cell_type": "markdown",
   "metadata": {},
   "source": [
    "# Robin Hood:\n",
    "We are in a competition to win the archery contest in Sherwood. With our bow and arrows we shoot on a target and try to hit as close as possible to the center.\n",
    "\n",
    "The center of the target is represented by the values (0, 0) on the coordinate axes.\n",
    "\n",
    "![](images/arrows.jpg)\n",
    "\n",
    "## Goals:\n",
    "* data structures: lists, sets, tuples\n",
    "* logical operators: if-elif-else\n",
    "* loop: while/for\n",
    "* minimum (optional sorting)\n",
    "\n",
    "## Description:\n",
    "In the 2-dimensional space, a point can be defined by a pair of values that correspond to the horizontal coordinate (x) and the vertical coordinate (y). The space can be divided into 4 zones (quadrants): Q1, Q2, Q3, Q4. Whose single point of union is the point (0, 0).\n",
    "\n",
    "If a point is in Q1 both its x coordinate and the y are positive. I leave a link to wikipedia to familiarize yourself with these quadrants.\n",
    "\n",
    "https://en.wikipedia.org/wiki/Cartesian_coordinate_system\n",
    "\n",
    "https://en.wikipedia.org/wiki/Euclidean_distance\n",
    "\n",
    "## Shots\n",
    "```\n",
    "points = [(4, 5), (-0, 2), (4, 7), (1, -3), (3, -2), (4, 5),\n",
    "          (3, 2), (5, 7), (-5, 7), (2, 2), (-4, 5), (0, -2),\n",
    "          (-4, 7), (-1, 3), (-3, 2), (-4, -5), (-3, 2),\n",
    "          (5, 7), (5, 7), (2, 2), (9, 9), (-8, -9)]\n",
    "```\n",
    "\n",
    "## Tasks\n",
    "1. Robin Hood is famous for hitting an arrow with another arrow. Did you get it?\n",
    "2. Calculate how many arrows have fallen in each quadrant.\n",
    "3. Find the point closest to the center. Calculate its distance to the center. \n",
    "4. If the target has a radius of 9, calculate the number of arrows that must be picked up in the forest."
   ]
  },
  {
   "cell_type": "code",
   "execution_count": 1,
   "metadata": {},
   "outputs": [],
   "source": [
    "# Variables\n",
    "import math\n",
    "\n",
    "points = [(4, 5), (0, 2), (4, 7), (1, -3), (3, -2), (4, 5),\n",
    "          (3, 2), (5, 7), (-5, 7), (2, 2), (-4, 5), (0, -2),\n",
    "          (-4, 7), (-1, 3), (-3, 2), (-4, -5), (-3, 2),\n",
    "          (5, 7), (5, 7), (2, 2), (9, 9), (-8, -9)]"
   ]
  },
  {
   "cell_type": "code",
   "execution_count": 2,
   "metadata": {},
   "outputs": [
    {
     "name": "stdout",
     "output_type": "stream",
     "text": [
      "Robin Hood hit an arrow with another arrow in (4, 5)\n",
      "Robin Hood hit an arrow with another arrow in (5, 7)\n",
      "Robin Hood hit an arrow with another arrow in (5, 7)\n",
      "Robin Hood hit an arrow with another arrow in (2, 2)\n",
      "Robin Hood hit an arrow with another arrow in (-3, 2)\n",
      "Robin Hood hit an arrow with another arrow in (5, 7)\n"
     ]
    }
   ],
   "source": [
    "# 1. Robin Hood is famous for hitting an arrow with another arrow. Did you get it?\n",
    "comparador = points[:]\n",
    "    \n",
    "for primera in range(len(points)):\n",
    "    comparador.pop(0)\n",
    "    for segunda in range(len(comparador)):\n",
    "        #print(\"primera\", points[primera], \"segunda\", comparador[segunda])\n",
    "        if(points[primera] == comparador[segunda]):\n",
    "            print(\"Robin Hood hit an arrow with another arrow in\", points[primera])"
   ]
  },
  {
   "cell_type": "code",
   "execution_count": 3,
   "metadata": {},
   "outputs": [
    {
     "name": "stdout",
     "output_type": "stream",
     "text": [
      "primero: 10\n",
      "segundo: 7\n",
      "tercero: 3\n",
      "cuarto: 2\n"
     ]
    }
   ],
   "source": [
    "# 2. Calculate how many arrows have fallen in each quadrant.\n",
    "q1 = 0\n",
    "q2 = 0\n",
    "q3 = 0\n",
    "q4 = 0\n",
    "for punto in points:\n",
    "    if(punto[0]>0):\n",
    "        if(punto[1]>=0):\n",
    "            q1+=1\n",
    "        else:\n",
    "            q4+=1\n",
    "    else:\n",
    "        if(punto[1]>=0):\n",
    "            q2+=1\n",
    "        else:\n",
    "            q3+=1\n",
    "print(\"primero:\",q1)\n",
    "print(\"segundo:\",q2)\n",
    "print(\"tercero:\",q3)\n",
    "print(\"cuarto:\",q4)\n"
   ]
  },
  {
   "cell_type": "code",
   "execution_count": 5,
   "metadata": {},
   "outputs": [
    {
     "name": "stdout",
     "output_type": "stream",
     "text": [
      "La flecha mas cercana al centro es: (0, 2) 2.0\n",
      "La flecha mas cercana al centro es: (0, -2) 2.0\n"
     ]
    }
   ],
   "source": [
    "# 3. Find the point closest to the center. Calculate its distance to the center\n",
    "# Defining a function that calculates the distance to the center can help.\n",
    "distancias = list()\n",
    "minimo = 0\n",
    "\n",
    "def centro(x,y):\n",
    "    distancia = math.sqrt((x-0)**2+(y-0)**2)\n",
    "    return distancia\n",
    "\n",
    "for punto in points:\n",
    "    d=centro(punto[0], punto[1])\n",
    "    distancias.append(d)\n",
    "\n",
    "minimo = min(distancias)\n",
    "for punto in range(len(points)):\n",
    "    if(minimo == math.sqrt((points[punto][0]-0)**2+(points[punto][1]-0)**2)):\n",
    "        print(\"La flecha mas cercana al centro es:\",points[punto], minimo)"
   ]
  },
  {
   "cell_type": "code",
   "execution_count": 8,
   "metadata": {},
   "outputs": [
    {
     "name": "stdout",
     "output_type": "stream",
     "text": [
      "Flechas que van a recoger al bosque:  2\n"
     ]
    }
   ],
   "source": [
    "# 4. If the target has a radius of 9, calculate the number of arrows that \n",
    "# must be picked up in the forest.\n",
    "radio = 9\n",
    "flechas = 0\n",
    "for distancia in distancias:\n",
    "    if(distancia > radio):\n",
    "        flechas += 1\n",
    "print(\"Flechas que van a recoger al bosque: \", flechas)"
   ]
  },
  {
   "cell_type": "code",
   "execution_count": null,
   "metadata": {},
   "outputs": [],
   "source": []
  }
 ],
 "metadata": {
  "kernelspec": {
   "display_name": "Python 3",
   "language": "python",
   "name": "python3"
  },
  "language_info": {
   "codemirror_mode": {
    "name": "ipython",
    "version": 3
   },
   "file_extension": ".py",
   "mimetype": "text/x-python",
   "name": "python",
   "nbconvert_exporter": "python",
   "pygments_lexer": "ipython3",
   "version": "3.7.0"
  }
 },
 "nbformat": 4,
 "nbformat_minor": 2
}
