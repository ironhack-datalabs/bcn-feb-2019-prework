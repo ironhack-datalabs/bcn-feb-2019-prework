{
 "cells": [
  {
   "cell_type": "markdown",
   "metadata": {},
   "source": [
    "# Robin Hood:\n",
    "We are in a competition to win the archery contest in Sherwood. With our bow and arrows we shoot on a target and try to hit as close as possible to the center.\n",
    "\n",
    "The center of the target is represented by the values (0, 0) on the coordinate axes.\n",
    "\n",
    "![](images/arrows.jpg)\n",
    "\n",
    "## Goals:\n",
    "* data structures: lists, sets, tuples\n",
    "* logical operators: if-elif-else\n",
    "* loop: while/for\n",
    "* minimum (optional sorting)\n",
    "\n",
    "## Description:\n",
    "In the 2-dimensional space, a point can be defined by a pair of values that correspond to the horizontal coordinate (x) and the vertical coordinate (y). The space can be divided into 4 zones (quadrants): Q1, Q2, Q3, Q4. Whose single point of union is the point (0, 0).\n",
    "\n",
    "If a point is in Q1 both its x coordinate and the y are positive. I leave a link to wikipedia to familiarize yourself with these quadrants.\n",
    "\n",
    "https://en.wikipedia.org/wiki/Cartesian_coordinate_system\n",
    "\n",
    "https://en.wikipedia.org/wiki/Euclidean_distance\n",
    "\n",
    "## Shots\n",
    "```\n",
    "points = [(4, 5), (-0, 2), (4, 7), (1, -3), (3, -2), (4, 5),\n",
    "          (3, 2), (5, 7), (-5, 7), (2, 2), (-4, 5), (0, -2),\n",
    "          (-4, 7), (-1, 3), (-3, 2), (-4, -5), (-3, 2),\n",
    "          (5, 7), (5, 7), (2, 2), (9, 9), (-8, -9)]\n",
    "```\n",
    "\n",
    "## Tasks\n",
    "1. Robin Hood is famous for hitting an arrow with another arrow. Did you get it?\n",
    "2. Calculate how many arrows have fallen in each quadrant.\n",
    "3. Find the point closest to the center. Calculate its distance to the center. \n",
    "4. If the target has a radius of 9, calculate the number of arrows that must be picked up in the forest."
   ]
  },
  {
   "cell_type": "code",
   "execution_count": 4,
   "metadata": {},
   "outputs": [],
   "source": [
    "# Variables\n",
    "\n",
    "points = [(4, 5), (-0, 2), (4, 7), (1, -3), (3, -2), (4, 5),\n",
    "          (3, 2), (5, 7), (-5, 7), (2, 2), (-4, 5), (0, -2),\n",
    "          (-4, 7), (-1, 3), (-3, 2), (-4, -5), (-3, 2),\n",
    "          (5, 7), (5, 7), (2, 2), (9, 9), (-8, -9)]"
   ]
  },
  {
   "cell_type": "code",
   "execution_count": 6,
   "metadata": {},
   "outputs": [
    {
     "name": "stdout",
     "output_type": "stream",
     "text": [
      "22\n",
      "set([(-4, 5), (0, -2), (4, 7), (-8, -9), (4, 5), (5, 7), (3, 2), (3, -2), (9, 9), (-5, 7), (-3, 2), (-4, -5), (2, 2), (1, -3), (-4, 7), (0, 2), (-1, 3)])\n",
      "17\n",
      "5\n"
     ]
    }
   ],
   "source": [
    "# 1. Robin Hood is famous for hitting an arrow with another arrow. Did you get it?\n",
    "\n",
    "points = [(4, 5), (-0, 2), (4, 7), (1, -3), (3, -2), (4, 5),\n",
    "          (3, 2), (5, 7), (-5, 7), (2, 2), (-4, 5), (0, -2),\n",
    "          (-4, 7), (-1, 3), (-3, 2), (-4, -5), (-3, 2),\n",
    "          (5, 7), (5, 7), (2, 2), (9, 9), (-8, -9)]\n",
    "\n",
    "\n",
    "number_of_shots = len(points) \n",
    "print(number_of_shots)\n",
    "\n",
    "unique_points = set(points)\n",
    "print(unique_points)\n",
    "\n",
    "number_of_unique_points = len(unique_points)\n",
    "print(number_of_unique_points)\n",
    "\n",
    "duplicates = number_of_shots - number_of_unique_points\n",
    "print(duplicates)\n",
    "\n",
    "#can also find out duplicates using a loop...\n",
    "# if(tup1[0] == tup2[0])  & (tup1[1]  == tup2[1])\n"
   ]
  },
  {
   "cell_type": "code",
   "execution_count": 14,
   "metadata": {},
   "outputs": [
    {
     "name": "stdout",
     "output_type": "stream",
     "text": [
      "lies in First quadrant\n",
      "on border\n",
      "lies in First quadrant\n",
      "lies in Fourth quadrant\n",
      "lies in Fourth quadrant\n",
      "lies in First quadrant\n",
      "lies in First quadrant\n",
      "lies in First quadrant\n",
      "lies in Second quadrant\n",
      "lies in First quadrant\n",
      "lies in Second quadrant\n",
      "on border\n",
      "lies in Second quadrant\n",
      "lies in Second quadrant\n",
      "lies in Second quadrant\n",
      "lies in Third quadrant\n",
      "lies in Second quadrant\n",
      "lies in First quadrant\n",
      "lies in First quadrant\n",
      "lies in First quadrant\n",
      "lies in First quadrant\n",
      "lies in Third quadrant\n"
     ]
    }
   ],
   "source": [
    "# 2. Calculate how many arrows have fallen in each quadrant.\n",
    "\n",
    "for x, y in points:\n",
    "    if (x > 0 and y > 0): \n",
    "        print (\"lies in First quadrant\") \n",
    "  \n",
    "    elif (x < 0 and y > 0): \n",
    "        print (\"lies in Second quadrant\") \n",
    "          \n",
    "    elif (x < 0 and y < 0): \n",
    "        print (\"lies in Third quadrant\") \n",
    "      \n",
    "    elif (x > 0 and y < 0): \n",
    "        print (\"lies in Fourth quadrant\") \n",
    "          \n",
    "    elif (x == 0 and y == 0): \n",
    "        print (\"lies at origin\")   \n",
    "    else: \n",
    "        print (\"on border\") \n",
    "        \n",
    "\n",
    "        ##  9 lie on 1st quadrant,  6 in 2nd quadrant, 2 in 3rd quadrant, 2 in 4th quadrant\n",
    "        \n",
    "\n",
    "\n",
    "\n",
    "\n"
   ]
  },
  {
   "cell_type": "code",
   "execution_count": 10,
   "metadata": {},
   "outputs": [
    {
     "name": "stdout",
     "output_type": "stream",
     "text": [
      "6.40312423743\n",
      "2\n",
      "8.0622577483\n",
      "3.16227766017\n",
      "3.60555127546\n",
      "6.40312423743\n",
      "3.60555127546\n",
      "8.60232526704\n",
      "8.60232526704\n",
      "2.82842712475\n",
      "6.40312423743\n",
      "-2\n",
      "8.0622577483\n",
      "3.16227766017\n",
      "3.60555127546\n",
      "6.40312423743\n",
      "3.60555127546\n",
      "8.60232526704\n",
      "8.60232526704\n",
      "2.82842712475\n",
      "12.7279220614\n",
      "12.0415945788\n"
     ]
    }
   ],
   "source": [
    "# 3. Find the point closest to the center. Calculate its distance to the center\n",
    "# Defining a function that calculates the distance to the center can help.\n",
    "\n",
    "points = [(4, 5), (-0, 2), (4, 7), (1, -3), (3, -2), (4, 5),\n",
    "          (3, 2), (5, 7), (-5, 7), (2, 2), (-4, 5), (0, -2),\n",
    "          (-4, 7), (-1, 3), (-3, 2), (-4, -5), (-3, 2),\n",
    "          (5, 7), (5, 7), (2, 2), (9, 9), (-8, -9)]\n",
    "\n",
    "\n",
    "for x,y in points:\n",
    "    if (x > 0 and y > 0): \n",
    "        print ((x**2 + y**2)**.5)\n",
    "  \n",
    "    elif (x < 0 and y > 0): \n",
    "        print ((x**2 + y**2)**.5) \n",
    "          \n",
    "    elif (x < 0 and y < 0): \n",
    "        print ((x**2 + y**2)**.5) \n",
    "      \n",
    "    elif (x > 0 and y < 0): \n",
    "        print ((x**2 + y**2)**.5) \n",
    "        \n",
    "    elif (x == 0 and y == 0): \n",
    "        print (\"0\")   \n",
    "    \n",
    "    elif (x == 0 and y > 0): \n",
    "        print (y)   \n",
    "    \n",
    "    elif (x == 0 and y < 0): \n",
    "        print (y)\n",
    "        \n",
    "    else:\n",
    "        print (x)\n",
    "        \n",
    "\n",
    "        ##Point #2 (0,2) and #12 (0,-2) are both closest to the center\n",
    "    \n",
    "    \n",
    "        \n",
    "\n",
    "    \n",
    "\n"
   ]
  },
  {
   "cell_type": "code",
   "execution_count": 5,
   "metadata": {},
   "outputs": [],
   "source": [
    "# 4. If the target has a radius of 9, calculate the number of arrows that \n",
    "# must be picked up in the forest.\n",
    "\n"
   ]
  },
  {
   "cell_type": "code",
   "execution_count": 12,
   "metadata": {},
   "outputs": [
    {
     "name": "stdout",
     "output_type": "stream",
     "text": [
      "on target\n",
      "on target\n",
      "on target\n",
      "on target\n",
      "on target\n",
      "on target\n",
      "on target\n",
      "on target\n",
      "on target\n",
      "on target\n",
      "on target\n",
      "on target\n",
      "on target\n",
      "on target\n",
      "on target\n",
      "on target\n",
      "on target\n",
      "on target\n",
      "on target\n",
      "on target\n",
      "pick up\n",
      "pick up\n"
     ]
    }
   ],
   "source": [
    "points = [(4, 5), (-0, 2), (4, 7), (1, -3), (3, -2), (4, 5),\n",
    "          (3, 2), (5, 7), (-5, 7), (2, 2), (-4, 5), (0, -2),\n",
    "          (-4, 7), (-1, 3), (-3, 2), (-4, -5), (-3, 2),\n",
    "          (5, 7), (5, 7), (2, 2), (9, 9), (-8, -9)]\n",
    "\n",
    "\n",
    "for x,y in points:\n",
    "    if ((x**2 + y **2)**.5) <= 9:\n",
    "        print (\"on target\")\n",
    "    else:\n",
    "        print (\"pick up\")\n",
    "        \n",
    "        ## 2 arrows need to be picked up from forest"
   ]
  },
  {
   "cell_type": "code",
   "execution_count": null,
   "metadata": {},
   "outputs": [],
   "source": []
  },
  {
   "cell_type": "code",
   "execution_count": null,
   "metadata": {},
   "outputs": [],
   "source": []
  },
  {
   "cell_type": "code",
   "execution_count": null,
   "metadata": {},
   "outputs": [],
   "source": []
  },
  {
   "cell_type": "code",
   "execution_count": null,
   "metadata": {},
   "outputs": [],
   "source": []
  },
  {
   "cell_type": "code",
   "execution_count": null,
   "metadata": {},
   "outputs": [],
   "source": []
  }
 ],
 "metadata": {
  "kernelspec": {
   "display_name": "Python 2",
   "language": "python",
   "name": "python2"
  },
  "language_info": {
   "codemirror_mode": {
    "name": "ipython",
    "version": 2
   },
   "file_extension": ".py",
   "mimetype": "text/x-python",
   "name": "python",
   "nbconvert_exporter": "python",
   "pygments_lexer": "ipython2",
   "version": "2.7.16"
  }
 },
 "nbformat": 4,
 "nbformat_minor": 2
}
