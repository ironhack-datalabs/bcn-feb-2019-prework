{
 "cells": [
  {
   "cell_type": "markdown",
   "metadata": {},
   "source": [
    "# Robin Hood:\n",
    "We are in a competition to win the archery contest in Sherwood. With our bow and arrows we shoot on a target and try to hit as close as possible to the center.\n",
    "\n",
    "The center of the target is represented by the values (0, 0) on the coordinate axes.\n",
    "\n",
    "![](images/arrows.jpg)\n",
    "\n",
    "## Goals:\n",
    "* data structures: lists, sets, tuples\n",
    "* logical operators: if-elif-else\n",
    "* loop: while/for\n",
    "* minimum (optional sorting)\n",
    "\n",
    "## Description:\n",
    "In the 2-dimensional space, a point can be defined by a pair of values that correspond to the horizontal coordinate (x) and the vertical coordinate (y). The space can be divided into 4 zones (quadrants): Q1, Q2, Q3, Q4. Whose single point of union is the point (0, 0).\n",
    "\n",
    "If a point is in Q1 both its x coordinate and the y are positive. I leave a link to wikipedia to familiarize yourself with these quadrants.\n",
    "\n",
    "https://en.wikipedia.org/wiki/Cartesian_coordinate_system\n",
    "\n",
    "https://en.wikipedia.org/wiki/Euclidean_distance\n",
    "\n",
    "## Shots\n",
    "```\n",
    "points = [(4, 5), (-0, 2), (4, 7), (1, -3), (3, -2), (4, 5),\n",
    "          (3, 2), (5, 7), (-5, 7), (2, 2), (-4, 5), (0, -2),\n",
    "          (-4, 7), (-1, 3), (-3, 2), (-4, -5), (-3, 2),\n",
    "          (5, 7), (5, 7), (2, 2), (9, 9), (-8, -9)]\n",
    "```\n",
    "\n",
    "## Tasks\n",
    "1. Robin Hood is famous for hitting an arrow with another arrow. Did you get it?\n",
    "2. Calculate how many arrows have fallen in each quadrant.\n",
    "3. Find the point closest to the center. Calculate its distance to the center. \n",
    "4. If the target has a radius of 9, calculate the number of arrows that must be picked up in the forest."
   ]
  },
  {
   "cell_type": "code",
   "execution_count": 30,
   "metadata": {},
   "outputs": [
    {
     "name": "stdout",
     "output_type": "stream",
     "text": [
      "Robin hit his own arrows 5 times.\n",
      "There are 11 hits at quadrant one, 3 at quadrant two, 2 at quadrant three and 6 at quadrant four.\n",
      "The closest hits to zero were at:\n",
      "(0, 2)\n",
      "(0, -2)\n",
      "There are 0 arrows on the ground or in the woods.\n"
     ]
    }
   ],
   "source": [
    "# Variables\n",
    "\n",
    "points = [(4, 5), (-0, 2), (4, 7), (1, -3), (3, -2), (4, 5),\n",
    "          (3, 2), (5, 7), (-5, 7), (2, 2), (-4, 5), (0, -2),\n",
    "          (-4, 7), (-1, 3), (-3, 2), (-4, -5), (-3, 2),\n",
    "          (5, 7), (5, 7), (2, 2), (9, 9), (-8, -9)]\n",
    "\n",
    "# 1. Robin Hood is famous for hitting an arrow with another arrow. Did you get it?\n",
    "def check_for_double_hits(hits):\n",
    "    total_hits = len(hits)\n",
    "    unique_hits = len(set(hits))\n",
    "    double_hits = total_hits - unique_hits\n",
    "    return double_hits\n",
    "\n",
    "print(\"Robin hit his own arrows\", check_for_double_hits(points), \"times.\")\n",
    "\n",
    "\n",
    "# 2. Calculate how many arrows have fallen in each quadrant.\n",
    "\n",
    "def count_hits_per_quadrant(points):\n",
    "    q1_hits = 0\n",
    "    q2_hits = 0\n",
    "    q3_hits = 0\n",
    "    q4_hits = 0\n",
    "\n",
    "    for point in points:\n",
    "        if point[0] >= 0 and point[1] >= 0:\n",
    "            q1_hits += 1\n",
    "        elif point[0] >= 0 and point[1] <= 0:\n",
    "            q2_hits += 1\n",
    "        elif point[0] <= 0 and point[1] <= 0:\n",
    "            q3_hits += 1\n",
    "        else:\n",
    "            q4_hits += 1\n",
    "    print(\"There are\", q1_hits, \"hits at quadrant one,\", q2_hits, \"at quadrant two,\", q3_hits, \"at quadrant three and\", q4_hits, \"at quadrant four.\")\n",
    "\n",
    "count_hits_per_quadrant(points)\n",
    "    \n",
    "\n",
    "# 3. Find the point closest to the center. Calculate its distance to the center\n",
    "from numpy import amax, argmax\n",
    "\n",
    "def calculate_distance_from_center(point):\n",
    "    x_distance = abs(point[0])\n",
    "    y_distance = abs(point[1])\n",
    "    total_distance = x_distance + y_distance\n",
    "    return total_distance\n",
    "\n",
    "distances = []\n",
    "for point in points:\n",
    "    distances.append(get_distance_from_center(point))\n",
    "\n",
    "def find_min_distance(distances):\n",
    "    current_min = amax(distances) # assigning the max value to be able to find the min value through comparison\n",
    "    current_min_indexes = [argmax(distances)] # assigning the max value index to be able to find the min value index through comparison\n",
    "    for i in range(len(distances)):\n",
    "        distance = distances[i]\n",
    "        if distance < current_min:\n",
    "            current_min = distance\n",
    "            current_min_indexes = [i]\n",
    "        elif distance == current_min:\n",
    "            current_min_indexes.append(i)\n",
    "    return current_min_indexes\n",
    "\n",
    "def find_closest_hits():\n",
    "    closest_hits_indexes = find_min_distance(distances)\n",
    "    closest_hits = []\n",
    "    for hit in closest_hits_indexes:\n",
    "        closest_hits.append(points[hit])\n",
    "\n",
    "    print(\"The closest hits to zero were at:\")\n",
    "    for hit in closest_hits:\n",
    "        print(hit)\n",
    "\n",
    "find_closest_hits()\n",
    "        \n",
    "# 4. If the target has a radius of 9, calculate the number of arrows that \n",
    "# must be picked up in the forest.\n",
    "\n",
    "def count_misses(points):\n",
    "    number_of_misses = 0\n",
    "    for point in points:\n",
    "        if abs(point[0]) > 9 or abs(point[1] > 9):\n",
    "            number_of_misses += 1\n",
    "    return number_of_misses\n",
    "\n",
    "print(\"There are\", count_misses(points), \"arrows on the ground or in the woods.\")\n",
    "\n"
   ]
  },
  {
   "cell_type": "code",
   "execution_count": 2,
   "metadata": {},
   "outputs": [],
   "source": [
    "\n",
    "\n"
   ]
  },
  {
   "cell_type": "code",
   "execution_count": 3,
   "metadata": {},
   "outputs": [],
   "source": [
    "\n",
    "\n"
   ]
  },
  {
   "cell_type": "code",
   "execution_count": 4,
   "metadata": {},
   "outputs": [],
   "source": [
    "\n",
    "\n"
   ]
  },
  {
   "cell_type": "code",
   "execution_count": 5,
   "metadata": {},
   "outputs": [],
   "source": [
    "\n",
    "\n"
   ]
  },
  {
   "cell_type": "code",
   "execution_count": null,
   "metadata": {},
   "outputs": [],
   "source": []
  }
 ],
 "metadata": {
  "kernelspec": {
   "display_name": "Python 3",
   "language": "python",
   "name": "python3"
  },
  "language_info": {
   "codemirror_mode": {
    "name": "ipython",
    "version": 3
   },
   "file_extension": ".py",
   "mimetype": "text/x-python",
   "name": "python",
   "nbconvert_exporter": "python",
   "pygments_lexer": "ipython3",
   "version": "3.7.3"
  }
 },
 "nbformat": 4,
 "nbformat_minor": 2
}
