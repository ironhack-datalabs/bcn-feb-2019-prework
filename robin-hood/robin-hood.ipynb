{
 "cells": [
  {
   "cell_type": "markdown",
   "metadata": {},
   "source": [
    "# Robin Hood:\n",
    "We are in a competition to win the archery contest in Sherwood. With our bow and arrows we shoot on a target and try to hit as close as possible to the center.\n",
    "\n",
    "The center of the target is represented by the values (0, 0) on the coordinate axes.\n",
    "\n",
    "![](images/arrows.jpg)\n",
    "\n",
    "## Goals:\n",
    "* data structures: lists, sets, tuples\n",
    "* logical operators: if-elif-else\n",
    "* loop: while/for\n",
    "* minimum (optional sorting)\n",
    "\n",
    "## Description:\n",
    "In the 2-dimensional space, a point can be defined by a pair of values that correspond to the horizontal coordinate (x) and the vertical coordinate (y). The space can be divided into 4 zones (quadrants): Q1, Q2, Q3, Q4. Whose single point of union is the point (0, 0).\n",
    "\n",
    "If a point is in Q1 both its x coordinate and the y are positive. I leave a link to wikipedia to familiarize yourself with these quadrants.\n",
    "\n",
    "https://en.wikipedia.org/wiki/Cartesian_coordinate_system\n",
    "\n",
    "https://en.wikipedia.org/wiki/Euclidean_distance\n",
    "\n",
    "## Shots\n",
    "```\n",
    "points = [(4, 5), (-0, 2), (4, 7), (1, -3), (3, -2), (4, 5),\n",
    "          (3, 2), (5, 7), (-5, 7), (2, 2), (-4, 5), (0, -2),\n",
    "          (-4, 7), (-1, 3), (-3, 2), (-4, -5), (-3, 2),\n",
    "          (5, 7), (5, 7), (2, 2), (9, 9), (-8, -9)]\n",
    "```\n",
    "\n",
    "## Tasks\n",
    "1. Robin Hood is famous for hitting an arrow with another arrow. Did you get it?\n",
    "2. Calculate how many arrows have fallen in each quadrant.\n",
    "3. Find the point closest to the center. Calculate its distance to the center. \n",
    "4. If the target has a radius of 9, calculate the number of arrows that must be picked up in the forest."
   ]
  },
  {
   "cell_type": "code",
   "execution_count": 2,
   "metadata": {},
   "outputs": [],
   "source": [
    "# Variables\n",
    "\n",
    "points = [(4, 5), (-0, 2), (4, 7), (1, -3), (3, -2), (4, 5),\n",
    "          (3, 2), (5, 7), (-5, 7), (2, 2), (-4, 5), (0, -2),\n",
    "          (-4, 7), (-1, 3), (-3, 2), (-4, -5), (-3, 2),\n",
    "          (5, 7), (5, 7), (2, 2), (9, 9), (-8, -9)]"
   ]
  },
  {
   "cell_type": "code",
   "execution_count": 3,
   "metadata": {},
   "outputs": [
    {
     "name": "stdout",
     "output_type": "stream",
     "text": [
      "Yes, I got it\n"
     ]
    }
   ],
   "source": [
    "# 1. Robin Hood is famous for hitting an arrow with another arrow. Did you get it?\n",
    "\n",
    "def checkIfDuplicates_1(listOfElems):    \n",
    "    if len(listOfElems) == len(set(listOfElems)):\n",
    "        return False\n",
    "    else:\n",
    "        return True\n",
    "\n",
    "result = checkIfDuplicates_1(points)\n",
    "if result:\n",
    "    print('Yes, I got it')\n",
    "else:\n",
    "    print('No, I failed')    "
   ]
  },
  {
   "cell_type": "code",
   "execution_count": 4,
   "metadata": {},
   "outputs": [
    {
     "name": "stdout",
     "output_type": "stream",
     "text": [
      "22 shots.\n",
      "Arrows in Q1 = 10\n",
      "Arrows in Q2 = 6\n",
      "Arrows in Q3 = 2\n",
      "Arrows in Q4 = 2\n"
     ]
    }
   ],
   "source": [
    "# 2. Calculate how many arrows have fallen in each quadrant.\n",
    "\n",
    "#Q1 represents quadrant '++' or top right in cartesian representation.\n",
    "#Q2 represents quadrant '+-' or bottom right in cartesian representation.\n",
    "#Q3 represents quadrant '--' or bottom left in cartesian representation.\n",
    "#Q4 represents quadrant '++' or top left in cartesian representation.\n",
    "\n",
    "print(len(points), \"shots.\")\n",
    "\n",
    "arrows_in_Q1 = 0\n",
    "arrows_in_Q2 = 0\n",
    "arrows_in_Q3 = 0\n",
    "arrows_in_Q4 = 0\n",
    "        \n",
    "for i in points:\n",
    "    if i[0] > 0 and i[1] > 0:\n",
    "        arrows_in_Q1 = arrows_in_Q1 +1\n",
    "    elif i[0] < 0 and i[1] > 0:\n",
    "        arrows_in_Q2 = arrows_in_Q2 +1\n",
    "    elif i[0] < 0 and i[1] < 0:\n",
    "        arrows_in_Q3 = arrows_in_Q3 +1\n",
    "    elif i[0] > 0 and i[1] < 0:\n",
    "        arrows_in_Q4 = arrows_in_Q4 +1\n",
    "    \n",
    "print(\"Arrows in Q1 =\", arrows_in_Q1)\n",
    "print(\"Arrows in Q2 =\", arrows_in_Q2)\n",
    "print(\"Arrows in Q3 =\", arrows_in_Q3)\n",
    "print(\"Arrows in Q4 =\", arrows_in_Q4)"
   ]
  },
  {
   "cell_type": "code",
   "execution_count": 5,
   "metadata": {},
   "outputs": [
    {
     "name": "stdout",
     "output_type": "stream",
     "text": [
      "The closest distance to the center is 2\n",
      "The closest arrows are the arrows at ['(0, 2)', '(0, -2)']\n"
     ]
    }
   ],
   "source": [
    "# 3. Find the point closest to the center. Calculate its distance to the center\n",
    "# Defining a function that calculates the distance to the center can help.\n",
    "\n",
    "distances = []\n",
    "\n",
    "i = 0\n",
    "import math\n",
    "while i < len(points):\n",
    "\n",
    "    a = math.sqrt(math.pow(points[i][0],2) + math.pow(points[i][1],2))\n",
    "    distances.append(a)\n",
    "    i += 1\n",
    "    \n",
    "    get_min_distance = min(distances)\n",
    "    \n",
    "count_min = 0\n",
    "count_max = 0\n",
    "store_min_pos = []\n",
    "count_position = 0\n",
    "\n",
    "for i in distances:\n",
    "\n",
    "    if get_min_distance == i:\n",
    "        store_min_pos.append(count_position)\n",
    "        count_min += 1\n",
    "    elif i > 9:\n",
    "        count_max += 1\n",
    "    count_position += 1\n",
    "\n",
    "arrow = []\n",
    "\n",
    "print(\"The closest distance to the center is %d\" % min(distances))\n",
    "\n",
    "for i in store_min_pos:\n",
    "        arrow.append(str(points[i]))\n",
    "        \n",
    "if count_min == 1:\n",
    "    print(\"The arrow at %s is the closest to the center.\" % arrow)\n",
    "else:\n",
    "    print(\"The closest arrows are the arrows at %s\" % arrow)"
   ]
  },
  {
   "cell_type": "code",
   "execution_count": 6,
   "metadata": {},
   "outputs": [
    {
     "name": "stdout",
     "output_type": "stream",
     "text": [
      " 2 arrows didn't hit the target\n"
     ]
    }
   ],
   "source": [
    "# 4. If the target has a radius of 9, calculate the number of arrows that \n",
    "# must be picked up in the forest.\n",
    "\n",
    "if count_max > 1:\n",
    "    print(\" %d arrows didn't hit the target\" % count_max)\n",
    "elif count_max == 0:\n",
    "    print(\"All arrows hit the target\")"
   ]
  },
  {
   "cell_type": "code",
   "execution_count": null,
   "metadata": {},
   "outputs": [],
   "source": []
  },
  {
   "cell_type": "code",
   "execution_count": null,
   "metadata": {},
   "outputs": [],
   "source": []
  }
 ],
 "metadata": {
  "kernelspec": {
   "display_name": "Python 3",
   "language": "python",
   "name": "python3"
  },
  "language_info": {
   "codemirror_mode": {
    "name": "ipython",
    "version": 3
   },
   "file_extension": ".py",
   "mimetype": "text/x-python",
   "name": "python",
   "nbconvert_exporter": "python",
   "pygments_lexer": "ipython3",
   "version": "3.8.6"
  }
 },
 "nbformat": 4,
 "nbformat_minor": 2
}
