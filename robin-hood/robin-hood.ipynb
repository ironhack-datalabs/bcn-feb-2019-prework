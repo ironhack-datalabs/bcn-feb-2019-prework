{
 "cells": [
  {
   "cell_type": "markdown",
   "metadata": {},
   "source": [
    "# Robin Hood:\n",
    "We are in a competition to win the archery contest in Sherwood. With our bow and arrows we shoot on a target and try to hit as close as possible to the center.\n",
    "\n",
    "The center of the target is represented by the values (0, 0) on the coordinate axes.\n",
    "\n",
    "![](images/arrows.jpg)\n",
    "\n",
    "## Goals:\n",
    "* data structures: lists, sets, tuples\n",
    "* logical operators: if-elif-else\n",
    "* loop: while/for\n",
    "* minimum (optional sorting)\n",
    "\n",
    "## Description:\n",
    "In the 2-dimensional space, a point can be defined by a pair of values that correspond to the horizontal coordinate (x) and the vertical coordinate (y). The space can be divided into 4 zones (quadrants): Q1, Q2, Q3, Q4. Whose single point of union is the point (0, 0).\n",
    "\n",
    "If a point is in Q1 both its x coordinate and the y are positive. I leave a link to wikipedia to familiarize yourself with these quadrants.\n",
    "\n",
    "https://en.wikipedia.org/wiki/Cartesian_coordinate_system\n",
    "\n",
    "https://en.wikipedia.org/wiki/Euclidean_distance\n",
    "\n",
    "## Shots\n",
    "```\n",
    "points = [(4, 5), (-0, 2), (4, 7), (1, -3), (3, -2), (4, 5),\n",
    "          (3, 2), (5, 7), (-5, 7), (2, 2), (-4, 5), (0, -2),\n",
    "          (-4, 7), (-1, 3), (-3, 2), (-4, -5), (-3, 2),\n",
    "          (5, 7), (5, 7), (2, 2), (9, 9), (-8, -9)]\n",
    "```\n",
    "\n",
    "## Tasks\n",
    "1. Robin Hood is famous for hitting an arrow with another arrow. Did you get it?\n",
    "2. Calculate how many arrows have fallen in each quadrant.\n",
    "3. Find the point closest to the center. Calculate its distance to the center. \n",
    "4. If the target has a radius of 9, calculate the number of arrows that must be picked up in the forest."
   ]
  },
  {
   "cell_type": "code",
   "execution_count": 2,
   "metadata": {},
   "outputs": [],
   "source": [
    "# Variables\n",
    "\n",
    "points = [(4, 5), (-0, 2), (4, 7), (1, -3), (3, -2), (4, 5),\n",
    "          (3, 2), (5, 7), (-5, 7), (2, 2), (-4, 5), (0, -2),\n",
    "          (-4, 7), (-1, 3), (-3, 2), (-4, -5), (-3, 2),\n",
    "          (5, 7), (5, 7), (2, 2), (9, 9), (-8, -9)]"
   ]
  },
  {
   "cell_type": "code",
   "execution_count": 21,
   "metadata": {},
   "outputs": [
    {
     "name": "stdout",
     "output_type": "stream",
     "text": [
      "shot:  (4, 5)   freq:  2\n",
      "shot:  (0, 2)   freq:  1\n",
      "shot:  (4, 7)   freq:  1\n",
      "shot:  (1, -3)   freq:  1\n",
      "shot:  (3, -2)   freq:  1\n",
      "shot:  (3, 2)   freq:  1\n",
      "shot:  (5, 7)   freq:  3\n",
      "shot:  (-5, 7)   freq:  1\n",
      "shot:  (2, 2)   freq:  2\n",
      "shot:  (-4, 5)   freq:  1\n",
      "shot:  (0, -2)   freq:  1\n",
      "shot:  (-4, 7)   freq:  1\n",
      "shot:  (-1, 3)   freq:  1\n",
      "shot:  (-3, 2)   freq:  2\n",
      "shot:  (-4, -5)   freq:  1\n",
      "shot:  (9, 9)   freq:  1\n",
      "shot:  (-8, -9)   freq:  1\n",
      "\n",
      " You got an arrow with another arrow\n"
     ]
    }
   ],
   "source": [
    "# 1. Robin Hood is famous for hitting an arrow with another arrow. Did you get it?\n",
    "shot_rep_lst = []\n",
    "RH_effect = False\n",
    "\n",
    "for shot in points:\n",
    "    counter = 0\n",
    "    for shot_comp in points:\n",
    "        if shot == shot_comp:\n",
    "            counter += 1\n",
    "    shot_rep_lst.append((shot, counter))\n",
    "    if counter > 1:\n",
    "        RH_effect = True\n",
    "        \n",
    "#removes duplicates\n",
    "shot_rep_lst_nr = list(dict.fromkeys(shot_rep_lst))\n",
    "\n",
    "#prints shots and freq\n",
    "for i in range(len(shot_rep_lst_nr)):\n",
    "    print('shot: ',shot_rep_lst_nr[i][0],'  freq: ',shot_rep_lst_nr[i][1])\n",
    "    \n",
    "if RH_effect == True:\n",
    "    print('\\n You got an arrow with another arrow')\n"
   ]
  },
  {
   "cell_type": "code",
   "execution_count": 22,
   "metadata": {},
   "outputs": [
    {
     "name": "stdout",
     "output_type": "stream",
     "text": [
      "freq Q1:  10\n",
      "freq Q2:  6\n",
      "freq Q3:  2\n",
      "freq Q4:  2\n"
     ]
    }
   ],
   "source": [
    "# 2. Calculate how many arrows have fallen in each quadrant.\n",
    "q1 = 0\n",
    "q2 = 0\n",
    "q3 = 0\n",
    "q4 = 0\n",
    "center = 0\n",
    "\n",
    "for shot in points:\n",
    "    if shot[0] == shot[1] == 0:\n",
    "        center += 1\n",
    "    #x negative\n",
    "    elif shot[0] < 0:\n",
    "        if shot[1] < 0:\n",
    "            q3 += 1\n",
    "        elif shot[1] > 0:\n",
    "            q2 += 1\n",
    "            \n",
    "    #x possitive  \n",
    "    elif shot[0] > 0:\n",
    "        if shot[1] < 0:\n",
    "            q4 += 1\n",
    "        elif shot[1] > 0:\n",
    "            q1 += 1\n",
    "\n",
    "print('freq Q1: ', q1)\n",
    "print('freq Q2: ', q2)\n",
    "print('freq Q3: ', q3)\n",
    "print('freq Q4: ', q4)\n",
    "        "
   ]
  },
  {
   "cell_type": "code",
   "execution_count": 26,
   "metadata": {},
   "outputs": [
    {
     "name": "stdout",
     "output_type": "stream",
     "text": [
      "the closest distance from the center is:  2.0  from point:  (0, -2)\n"
     ]
    }
   ],
   "source": [
    "# 3. Find the point closest to the center. Calculate its distance to the center\n",
    "# Defining a function that calculates the distance to the center can help.\n",
    "import math \n",
    "\n",
    "def calc_dist(x, y):\n",
    "    c_sqr = ((abs(x))**2) + ((abs(y))**2)\n",
    "    dist = math.sqrt( c_sqr )\n",
    "    return dist\n",
    "\n",
    "dist_lst = []\n",
    "for shot in points:\n",
    "    distance = calc_dist(shot[0],shot[1])\n",
    "    dist_lst.append(distance)\n",
    "    \n",
    "dist_dict = dict(zip(dist_lst, points))\n",
    "\n",
    "print('the closest distance from the center is: ',min(dist_lst),' from point: ', dist_dict[min(dist_lst)])"
   ]
  },
  {
   "cell_type": "code",
   "execution_count": 27,
   "metadata": {},
   "outputs": [
    {
     "name": "stdout",
     "output_type": "stream",
     "text": [
      "The arrows that have to be picked in the forest is:  2\n"
     ]
    }
   ],
   "source": [
    "# 4. If the target has a radius of 9, calculate the number of arrows that \n",
    "# must be picked up in the forest.\n",
    "lost_arrows = 0\n",
    "for dist in dist_lst:\n",
    "    if dist > 9:\n",
    "        lost_arrows += 1\n",
    "\n",
    "print('The arrows that have to be picked in the forest is: ',lost_arrows)\n"
   ]
  },
  {
   "cell_type": "code",
   "execution_count": null,
   "metadata": {},
   "outputs": [],
   "source": []
  }
 ],
 "metadata": {
  "kernelspec": {
   "display_name": "Python 3",
   "language": "python",
   "name": "python3"
  },
  "language_info": {
   "codemirror_mode": {
    "name": "ipython",
    "version": 3
   },
   "file_extension": ".py",
   "mimetype": "text/x-python",
   "name": "python",
   "nbconvert_exporter": "python",
   "pygments_lexer": "ipython3",
   "version": "3.7.3"
  }
 },
 "nbformat": 4,
 "nbformat_minor": 2
}
