{
 "cells": [
  {
   "cell_type": "markdown",
   "metadata": {},
   "source": [
    "# Robin Hood:\n",
    "We are in a competition to win the archery contest in Sherwood. With our bow and arrows we shoot on a target and try to hit as close as possible to the center.\n",
    "\n",
    "The center of the target is represented by the values (0, 0) on the coordinate axes.\n",
    "\n",
    "![](images/arrows.jpg)\n",
    "\n",
    "## Goals:\n",
    "* data structures: lists, sets, tuples\n",
    "* logical operators: if-elif-else\n",
    "* loop: while/for\n",
    "* minimum (optional sorting)\n",
    "\n",
    "## Description:\n",
    "In the 2-dimensional space, a point can be defined by a pair of values that correspond to the horizontal coordinate (x) and the vertical coordinate (y). The space can be divided into 4 zones (quadrants): Q1, Q2, Q3, Q4. Whose single point of union is the point (0, 0).\n",
    "\n",
    "If a point is in Q1 both its x coordinate and the y are positive. I leave a link to wikipedia to familiarize yourself with these quadrants.\n",
    "\n",
    "https://en.wikipedia.org/wiki/Cartesian_coordinate_system\n",
    "\n",
    "https://en.wikipedia.org/wiki/Euclidean_distance\n",
    "\n",
    "## Shots\n",
    "```\n",
    "points = [(4, 5), (-0, 2), (4, 7), (1, -3), (3, -2), (4, 5),\n",
    "          (3, 2), (5, 7), (-5, 7), (2, 2), (-4, 5), (0, -2),\n",
    "          (-4, 7), (-1, 3), (-3, 2), (-4, -5), (-3, 2),\n",
    "          (5, 7), (5, 7), (2, 2), (9, 9), (-8, -9)]\n",
    "```\n",
    "\n",
    "## Tasks\n",
    "1. Robin Hood is famous for hitting an arrow with another arrow. Did you get it?\n",
    "2. Calculate how many arrows have fallen in each quadrant.\n",
    "3. Find the point closest to the center. Calculate its distance to the center. \n",
    "4. If the target has a radius of 9, calculate the number of arrows that must be picked up in the forest."
   ]
  },
  {
   "cell_type": "code",
   "execution_count": 1,
   "metadata": {},
   "outputs": [],
   "source": [
    "# Variables\n",
    "\n",
    "points = [(4, 5), (-0, 2), (4, 7), (1, -3), (3, -2), (4, 5),\n",
    "          (3, 2), (5, 7), (-5, 7), (2, 2), (-4, 5), (0, -2),\n",
    "          (-4, 7), (-1, 3), (-3, 2), (-4, -5), (-3, 2),\n",
    "          (5, 7), (5, 7), (2, 2), (9, 9), (-8, -9)]"
   ]
  },
  {
   "cell_type": "code",
   "execution_count": 1,
   "metadata": {},
   "outputs": [
    {
     "name": "stdout",
     "output_type": "stream",
     "text": [
      "An arrow was hit by another one in point ( 5 7 )\n"
     ]
    }
   ],
   "source": [
    "# 1. Robin Hood is famous for hitting an arrow with another arrow. Did you get it?\n",
    "\n",
    "points = [(4, 5), (-0, 2), (4, 7), (1, -3), (3, -2), (4, 5),\n",
    "          (3, 2), (5, 7), (-5, 7), (2, 2), (-4, 5), (0, -2),\n",
    "          (-4, 7), (-1, 3), (-3, 2), (-4, -5), (-3, 2),\n",
    "          (5, 7), (5, 7), (2, 2), (9, 9), (-8, -9)]\n",
    "\n",
    "previous_i = 0\n",
    "previous_j = 0\n",
    "\n",
    "for i,j in points:\n",
    "    if i == previous_i and j == previous_j:\n",
    "        print (\"An arrow was hit by another one in point (\",i,j,\")\")\n",
    "    \n",
    "    previous_i = i\n",
    "    previous_j = j\n",
    "   "
   ]
  },
  {
   "cell_type": "code",
   "execution_count": 26,
   "metadata": {},
   "outputs": [
    {
     "name": "stdout",
     "output_type": "stream",
     "text": [
      "first quadrant:  10 arrows\n",
      " second quadrant:  6 arrows\n",
      " third quadrant:  2 arrows\n",
      " fourth quadrant:  0 arrows\n",
      " x axis:  0 arrows\n",
      " y axis:  2 arrows.\n"
     ]
    }
   ],
   "source": [
    "# 2. Calculate how many arrows have fallen in each quadrant.\n",
    "\n",
    "first_quadrant = 0\n",
    "second_quadrant = 0\n",
    "third_quadrant = 0\n",
    "fourth_quadrant = 0\n",
    "x_axis = 0\n",
    "y_axis = 0\n",
    "\n",
    "for i,j in points:\n",
    "    if i == 0:\n",
    "        y_axis += 1\n",
    "        \n",
    "    elif j == 0:\n",
    "        x_axis += 1\n",
    "        \n",
    "    elif i > 0 and j > 0:\n",
    "        first_quadrant+= 1\n",
    "        \n",
    "    elif i < 0 and j > 0:\n",
    "        second_quadrant += 1\n",
    "    \n",
    "    elif i < 0 and j < 0:\n",
    "        third_quadrant += 1\n",
    "        \n",
    "    elif i < 0 and j > 0:\n",
    "        fourth_quadrant +=1\n",
    "        \n",
    "print (\"first quadrant: \", str(first_quadrant),\"arrows\\n\",\"second quadrant: \",str(second_quadrant),\"arrows\\n\",\n",
    "       \"third quadrant: \",str(third_quadrant),\"arrows\\n\",\"fourth quadrant: \",str(fourth_quadrant),\"arrows\\n\",\n",
    "      \"x axis: \",str(x_axis),\"arrows\\n\",\"y axis: \",str(y_axis),\"arrows.\")\n",
    "       \n",
    "        "
   ]
  },
  {
   "cell_type": "code",
   "execution_count": 4,
   "metadata": {},
   "outputs": [
    {
     "name": "stdout",
     "output_type": "stream",
     "text": [
      "The distance is  1.41 points.\n",
      "The minimun distance to the center is 2.0 points, in point: 0 , 2\n"
     ]
    }
   ],
   "source": [
    "# 3. Find the point closest to the center. Calculate its distance to the center\n",
    "# Defining a function that calculates the distance to the center can help.\n",
    "\n",
    "import math as m\n",
    "\n",
    "def distance_center(x,y):\n",
    "        \n",
    "        return m.sqrt(x**2+y**2)\n",
    "\n",
    "#Example\n",
    "    \n",
    "d = distance_center (1,1)\n",
    "\n",
    "print (\"The distance is \",str(round(d,2)),\"points.\")\n",
    "    \n",
    "#The closest point, i gave value 10 to values because if i assign zero value the loop doesn't work.\n",
    "\n",
    "d = 10\n",
    "previous_distance = 10\n",
    "x_min = 0\n",
    "y_min = 0\n",
    "    \n",
    "for x,y in points:\n",
    "    \n",
    "    d = distance_center (x,y)\n",
    "    if d < previous_distance:\n",
    "        previous_distance = d\n",
    "        x_min = x\n",
    "        y_min = y\n",
    "        \n",
    "        \n",
    "print (\"The minimun distance to the center is\",str(previous_distance),\"points, in point:\",str(x_min),\",\",str(y_min))\n",
    " \n",
    "  "
   ]
  },
  {
   "cell_type": "code",
   "execution_count": 57,
   "metadata": {},
   "outputs": [
    {
     "name": "stdout",
     "output_type": "stream",
     "text": [
      "The number of arrows shot out of the bull's eye it's 2\n"
     ]
    }
   ],
   "source": [
    "# 4. If the target has a radius of 9, calculate the number of arrows that \n",
    "# must be picked up in the forest.\n",
    "\n",
    "n_arrows = 0\n",
    "\n",
    "for x,y in points:\n",
    "    \n",
    "    d = distance_center (x,y)\n",
    "    if d > 9:\n",
    "        n_arrows += 1\n",
    "        \n",
    "print (\"The number of arrows shot out of the bull's eye it's\",str(n_arrows))  \n",
    "    "
   ]
  },
  {
   "cell_type": "code",
   "execution_count": null,
   "metadata": {},
   "outputs": [],
   "source": []
  },
  {
   "cell_type": "code",
   "execution_count": null,
   "metadata": {},
   "outputs": [],
   "source": []
  }
 ],
 "metadata": {
  "kernelspec": {
   "display_name": "Python 3",
   "language": "python",
   "name": "python3"
  },
  "language_info": {
   "codemirror_mode": {
    "name": "ipython",
    "version": 3
   },
   "file_extension": ".py",
   "mimetype": "text/x-python",
   "name": "python",
   "nbconvert_exporter": "python",
   "pygments_lexer": "ipython3",
   "version": "3.7.3"
  }
 },
 "nbformat": 4,
 "nbformat_minor": 2
}
