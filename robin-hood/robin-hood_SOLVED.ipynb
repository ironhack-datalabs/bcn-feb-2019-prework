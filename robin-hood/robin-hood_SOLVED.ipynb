{
  "nbformat": 4,
  "nbformat_minor": 0,
  "metadata": {
    "colab": {
      "name": "robin-hood.ipynb",
      "version": "0.3.2",
      "provenance": []
    },
    "language_info": {
      "codemirror_mode": {
        "name": "ipython",
        "version": 3
      },
      "file_extension": ".py",
      "mimetype": "text/x-python",
      "name": "python",
      "nbconvert_exporter": "python",
      "pygments_lexer": "ipython3",
      "version": "3.7.2"
    },
    "kernelspec": {
      "display_name": "Python 3",
      "language": "python",
      "name": "python3"
    }
  },
  "cells": [
    {
      "cell_type": "markdown",
      "metadata": {
        "id": "EZIVEydZsVuz",
        "colab_type": "text"
      },
      "source": [
        "# Robin Hood:\n",
        "We are in a competition to win the archery contest in Sherwood. With our bow and arrows we shoot on a target and try to hit as close as possible to the center.\n",
        "\n",
        "The center of the target is represented by the values (0, 0) on the coordinate axes.\n",
        "\n",
        "![](https://github.com/MartinPeTo/bcn-feb-2019-prework/blob/master/robin-hood/images/arrows.jpg?raw=1)\n",
        "\n",
        "## Goals:\n",
        "* data structures: lists, sets, tuples\n",
        "* logical operators: if-elif-else\n",
        "* loop: while/for\n",
        "* minimum (optional sorting)\n",
        "\n",
        "## Description:\n",
        "In the 2-dimensional space, a point can be defined by a pair of values that correspond to the horizontal coordinate (x) and the vertical coordinate (y). The space can be divided into 4 zones (quadrants): Q1, Q2, Q3, Q4. Whose single point of union is the point (0, 0).\n",
        "\n",
        "If a point is in Q1 both its x coordinate and the y are positive. I leave a link to wikipedia to familiarize yourself with these quadrants.\n",
        "\n",
        "https://en.wikipedia.org/wiki/Cartesian_coordinate_system\n",
        "\n",
        "https://en.wikipedia.org/wiki/Euclidean_distance\n",
        "\n",
        "## Shots\n",
        "```\n",
        "points = [(4, 5), (-0, 2), (4, 7), (1, -3), (3, -2), (4, 5),\n",
        "          (3, 2), (5, 7), (-5, 7), (2, 2), (-4, 5), (0, -2),\n",
        "          (-4, 7), (-1, 3), (-3, 2), (-4, -5), (-3, 2),\n",
        "          (5, 7), (5, 7), (2, 2), (9, 9), (-8, -9)]\n",
        "```\n",
        "\n",
        "## Tasks\n",
        "1. Robin Hood is famous for hitting an arrow with another arrow. Did you get it?\n",
        "2. Calculate how many arrows have fallen in each quadrant.\n",
        "3. Find the point closest to the center. Calculate its distance to the center. \n",
        "4. If the target has a radius of 9, calculate the number of arrows that must be picked up in the forest."
      ]
    },
    {
      "cell_type": "code",
      "metadata": {
        "id": "RizqB15DsVu1",
        "colab_type": "code",
        "colab": {}
      },
      "source": [
        "# Variables\n",
        "\n",
        "points = [(4, 5), (-0, 2), (4, 7), (1, -3), (3, -2), (4, 5),\n",
        "          (3, 2), (5, 7), (-5, 7), (2, 2), (-4, 5), (0, -2),\n",
        "          (-4, 7), (-1, 3), (-3, 2), (-4, -5), (-3, 2),\n",
        "          (5, 7), (5, 7), (2, 2), (9, 9), (-8, -9)]"
      ],
      "execution_count": 0,
      "outputs": []
    },
    {
      "cell_type": "code",
      "metadata": {
        "id": "e3vl-zqIsVu3",
        "colab_type": "code",
        "colab": {
          "base_uri": "https://localhost:8080/",
          "height": 34
        },
        "outputId": "c2827a27-5137-4e1c-8e4d-12e560f01b51"
      },
      "source": [
        "# 1. Robin Hood is famous for hitting an arrow with another arrow. Did you get it?\n",
        "double_hit = False\n",
        "for point_check in range (0, len(points)):\n",
        "  if points[point_check] == points[-1]:\n",
        "    break\n",
        "  else:\n",
        "    for point_compared in range ((point_check + 1), len(points)):\n",
        "      if points[point_check] == points[point_compared]:\n",
        "        double_hit = True\n",
        "\n",
        "if double_hit == True:\n",
        "  print ('Yes, I hit one arrow with another')\n",
        "else:\n",
        "  print ('No, I missed it :( ')"
      ],
      "execution_count": 29,
      "outputs": [
        {
          "output_type": "stream",
          "text": [
            "Yes, I hit one arrow with another\n"
          ],
          "name": "stdout"
        }
      ]
    },
    {
      "cell_type": "code",
      "metadata": {
        "id": "0uEn3j-6sVu6",
        "colab_type": "code",
        "colab": {
          "base_uri": "https://localhost:8080/",
          "height": 136
        },
        "outputId": "a733c48f-d818-43f4-ef76-29fed36c0188"
      },
      "source": [
        "# 2. Calculate how many arrows have fallen in each quadrant.\n",
        "Center = 0\n",
        "X = 0\n",
        "Y = 0\n",
        "Q1 = 0\n",
        "Q2 = 0\n",
        "Q3 = 0\n",
        "Q4 = 0\n",
        "for arrow_check in points:\n",
        "  if (arrow_check[0] == 0) & (arrow_check[1] == 0):\n",
        "    Center += 1\n",
        "  elif arrow_check[0] == 0:\n",
        "    Y += 1\n",
        "  elif arrow_check[1] == 0:\n",
        "    X += 1   \n",
        "  elif (arrow_check[0] > 0) & (arrow_check[1] > 0):\n",
        "    Q1 += 1\n",
        "  elif (arrow_check[0] > 0) & (arrow_check[1] < 0):\n",
        "    Q2 += 1\n",
        "  elif (arrow_check[0] < 0) & (arrow_check[1] < 0):\n",
        "    Q3 += 1\n",
        "  elif (arrow_check[0] < 0) & (arrow_check[1] > 0):\n",
        "    Q4 += 1\n",
        "    \n",
        "print ('Arrows fallen in 1st quadrant:', Q1)\n",
        "print ('Arrows fallen in 2nd quadrant:', Q2)\n",
        "print ('Arrows fallen in 3rd quadrant:', Q3)\n",
        "print ('Arrows fallen in 4th quadrant:', Q4)\n",
        "print ('Arrows hit the center:', Center)\n",
        "print ('Arrows hit the X axis:', X)\n",
        "print ('Arrows hit the Y axis:', Y)"
      ],
      "execution_count": 32,
      "outputs": [
        {
          "output_type": "stream",
          "text": [
            "Arrows fallen in 1st quadrant: 10\n",
            "Arrows fallen in 2nd quadrant: 2\n",
            "Arrows fallen in 3rd quadrant: 2\n",
            "Arrows fallen in 4th quadrant: 6\n",
            "Arrows hit the center: 0\n",
            "Arrows hit the X axis: 0\n",
            "Arrows hit the Y axis: 2\n"
          ],
          "name": "stdout"
        }
      ]
    },
    {
      "cell_type": "code",
      "metadata": {
        "id": "6FYEVgbBsVu7",
        "colab_type": "code",
        "colab": {
          "base_uri": "https://localhost:8080/",
          "height": 34
        },
        "outputId": "e8732c31-df07-4dd1-fbab-b7820f15c955"
      },
      "source": [
        "# 3. Find the point closest to the center. Calculate its distance to the center\n",
        "# Defining a function that calculates the distance to the center can help.\n",
        "center_distance = []\n",
        "distance = 0\n",
        "for center_check in points:\n",
        "  distance = (center_check[0] ** 2 + center_check[1] ** 2)**0.5\n",
        "  center_distance.append (distance)\n",
        "closer_point = center_distance.index(min(center_distance))\n",
        "print ('The closer arrow hit in', points[closer_point], 'and it was at', center_distance[closer_point], 'cm from the center.')\n"
      ],
      "execution_count": 44,
      "outputs": [
        {
          "output_type": "stream",
          "text": [
            "The closer arrow hit in (0, 2) and it was at 2.0 cm from the center.\n"
          ],
          "name": "stdout"
        }
      ]
    },
    {
      "cell_type": "code",
      "metadata": {
        "id": "vxE7JHn_sVu9",
        "colab_type": "code",
        "colab": {
          "base_uri": "https://localhost:8080/",
          "height": 34
        },
        "outputId": "55c920aa-8c81-4707-f2a7-1861d0ecb51f"
      },
      "source": [
        "# 4. If the target has a radius of 9, calculate the number of arrows that \n",
        "# must be picked up in the forest.\n",
        "target_radius=9\n",
        "forest = 0\n",
        "for distance in center_distance:\n",
        "  if distance > target_radius:\n",
        "    forest += 1\n",
        "\n",
        "print(forest, 'arrows flew to the forest')\n"
      ],
      "execution_count": 48,
      "outputs": [
        {
          "output_type": "stream",
          "text": [
            "2 arrows flew to the forest\n"
          ],
          "name": "stdout"
        }
      ]
    },
    {
      "cell_type": "code",
      "metadata": {
        "id": "epI3FcVlsVvA",
        "colab_type": "code",
        "colab": {}
      },
      "source": [
        ""
      ],
      "execution_count": 0,
      "outputs": []
    }
  ]
}