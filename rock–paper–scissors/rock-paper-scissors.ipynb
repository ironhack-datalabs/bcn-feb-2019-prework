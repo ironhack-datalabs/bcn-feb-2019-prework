{
 "cells": [
  {
   "cell_type": "markdown",
   "metadata": {},
   "source": [
    "<img src=\"https://bit.ly/2VnXWr2\" width=\"100\" align=\"left\">"
   ]
  },
  {
   "cell_type": "markdown",
   "metadata": {},
   "source": [
    "# Rock, Paper & Scissors\n",
    "\n",
    "Let's play the famous game against our computer. You can check the rules [here](https://en.wikipedia.org/wiki/Rock%E2%80%93paper%E2%80%93scissors). \n",
    "\n",
    "## Task\n",
    "Create a program that imitates the playability of the well known game of rock, paper, scissors. Follow the guidelines provided.\n",
    "\n",
    "## Tools\n",
    "1. Loop: **for/while**\n",
    "2. Functions: **input(), print()...**\n",
    "3. Conditional statements: **if, elif, else**\n",
    "4. Definition of functions. Modular programming\n",
    "5. Import modules\n",
    "\n",
    "**To solve this challenge, the use of functions is recommended.**\n",
    "\n",
    "#### 1. Import the choice function of the random module."
   ]
  },
  {
   "cell_type": "code",
   "execution_count": 622,
   "metadata": {},
   "outputs": [],
   "source": [
    "from random import choice"
   ]
  },
  {
   "cell_type": "markdown",
   "metadata": {},
   "source": [
    "#### 2. Create a list that includes the 3 possible gesture options of the game: 'rock', 'paper' or 'scissors'. Store the list in a variable called `gestures`."
   ]
  },
  {
   "cell_type": "code",
   "execution_count": 623,
   "metadata": {},
   "outputs": [],
   "source": [
    "gestures=[\"rock\", \"paper\", \"scissors\"]"
   ]
  },
  {
   "cell_type": "markdown",
   "metadata": {},
   "source": [
    "#### 3. Create a variable called `n_rounds` to store the maximum number of rounds to play in a game. \n",
    "Remember that the number of rounds must be odd: 1, 3, 5, ..."
   ]
  },
  {
   "cell_type": "code",
   "execution_count": 624,
   "metadata": {},
   "outputs": [],
   "source": [
    "n_rounds=0"
   ]
  },
  {
   "cell_type": "markdown",
   "metadata": {},
   "source": [
    "#### 4. Create a variable called `rounds_to_win` to store the number of rounds that a player must win to win the game.\n",
    "**Hint**: the value stored in `rounds_to_win` depends on the value of `n_rounds`. "
   ]
  },
  {
   "cell_type": "code",
   "execution_count": 625,
   "metadata": {},
   "outputs": [],
   "source": [
    "rounds_to_win=(n_rounds/2)+1"
   ]
  },
  {
   "cell_type": "markdown",
   "metadata": {},
   "source": [
    "#### 5. Create two variables to store the number of rounds that the computer and the player have won. Call these variables `cpu_score` and `player_score`."
   ]
  },
  {
   "cell_type": "code",
   "execution_count": 626,
   "metadata": {},
   "outputs": [],
   "source": [
    "cpu_score=0\n",
    "player_score=0"
   ]
  },
  {
   "cell_type": "markdown",
   "metadata": {},
   "source": [
    "#### 6. Define a function that randomly returns one of the 3 gesture options.\n",
    "You will use this function to simulate the gesture choice of the computer. "
   ]
  },
  {
   "cell_type": "code",
   "execution_count": 627,
   "metadata": {},
   "outputs": [],
   "source": [
    "def cpu(gestures):          \n",
    "    return choice(gestures)      "
   ]
  },
  {
   "cell_type": "code",
   "execution_count": 628,
   "metadata": {},
   "outputs": [
    {
     "name": "stdout",
     "output_type": "stream",
     "text": [
      "rock\n"
     ]
    }
   ],
   "source": [
    "cpu_move=cpu(gestures)\n",
    "print(cpu_move)"
   ]
  },
  {
   "cell_type": "markdown",
   "metadata": {},
   "source": [
    "#### 7. Define a function that asks the player which is the gesture he or she wants to show: 'rock', 'paper' or 'scissors'.\n",
    "The player should only be allowed to choose one of the 3 gesture options. If the player's choice is not rock, paper or scissors, keep asking until it is."
   ]
  },
  {
   "cell_type": "code",
   "execution_count": 629,
   "metadata": {},
   "outputs": [],
   "source": [
    "def player():\n",
    "    print(\"hello player, make a choice!\")\n",
    "    while True:\n",
    "        x=input()\n",
    "        if x not in gestures:\n",
    "            print(\"invalid input, chose again!\")\n",
    "        else:\n",
    "            return x"
   ]
  },
  {
   "cell_type": "code",
   "execution_count": 630,
   "metadata": {},
   "outputs": [
    {
     "name": "stdout",
     "output_type": "stream",
     "text": [
      "hello player, make a choice!\n",
      "paper\n"
     ]
    }
   ],
   "source": [
    "player_move=player()"
   ]
  },
  {
   "cell_type": "markdown",
   "metadata": {},
   "source": [
    "#### 8. Define a function that checks who won a round. \n",
    "The function should return 0 if there is a tie, 1 if the computer wins and 2 if the player wins."
   ]
  },
  {
   "cell_type": "code",
   "execution_count": 631,
   "metadata": {},
   "outputs": [],
   "source": [
    "def winner(cpu_move,player_move):\n",
    "    if cpu_move==player_move:\n",
    "        print(\"Tie\")\n",
    "        return 0\n",
    "    elif (player_move == \"rock\" and cpu_move == \"scissors\") or (player_move == \"paper\" and cpu_move == \"rock\") or (player_move == \"scissors\" and cpu_move == \"paper\"):\n",
    "        print(\"You win the round\")\n",
    "        return 2\n",
    "    elif (player_move == \"rock\" and cpu_move == \"paper\") or (player_move == \"paper\" and cpu_move == \"scissors\") or (player_move == \"scissors\" and cpu_move == \"rock\"):\n",
    "        print (\"You lose the round\")\n",
    "        return 1   "
   ]
  },
  {
   "cell_type": "code",
   "execution_count": 632,
   "metadata": {},
   "outputs": [
    {
     "name": "stdout",
     "output_type": "stream",
     "text": [
      "You win the round\n",
      "2\n"
     ]
    }
   ],
   "source": [
    "round1=winner(cpu_move, player_move)\n",
    "print(round1)"
   ]
  },
  {
   "cell_type": "markdown",
   "metadata": {},
   "source": [
    "#### 9. Define a function that prints the choice of the computer, the choice of the player and a message that announces who won the current round. \n",
    "You should also use this function to update the variables that count the number of rounds that the computer and the player have won. The score of the winner increases by one point. If there is a tie, the score does not increase."
   ]
  },
  {
   "cell_type": "code",
   "execution_count": 633,
   "metadata": {},
   "outputs": [],
   "source": [
    "def each_round():\n",
    "    print(\"You chose:\", player_move)\n",
    "    print(\"The AI chose:\", cpu_move)\n",
    "    round_game=winner(cpu_move,player_move)\n",
    "    global cpu_score\n",
    "    global player_score\n",
    "    \n",
    "    if round_game == 1:\n",
    "        cpu_score += 1\n",
    "    elif round_game == 2:\n",
    "        player_score += 1\n",
    "    elif round_game == 0:\n",
    "        print(\"Tie!\")\n",
    "    \n",
    "    print(\"Score up to this round is\", cpu_score, \"CPU, and\", player_score, \"for you\")"
   ]
  },
  {
   "cell_type": "code",
   "execution_count": 634,
   "metadata": {},
   "outputs": [
    {
     "name": "stdout",
     "output_type": "stream",
     "text": [
      "You chose: paper\n",
      "The AI chose: rock\n",
      "You win the round\n",
      "Score up to this round is 0 CPU, and 1 for you\n"
     ]
    }
   ],
   "source": [
    "each_round()"
   ]
  },
  {
   "cell_type": "markdown",
   "metadata": {},
   "source": [
    "#### 10. Now it's time to code the execution of the game using the functions and variables you defined above. \n",
    "\n",
    "First, create a loop structure that repeats while no player reaches the minimum score necessary to win and the number of rounds is less than the maximum number of rounds to play in a game.  \n",
    "\n",
    "Inside the loop, use the functions and variables above to create the execution of a round: ask for the player's choice, generate the random choice of the computer, show the round results, update the scores, etc. "
   ]
  },
  {
   "cell_type": "code",
   "execution_count": 635,
   "metadata": {},
   "outputs": [],
   "source": [
    "cpu_score=0\n",
    "player_score=0\n",
    "\n",
    "def actualgame():\n",
    "    global n_rounds\n",
    "    while n_rounds < 9:\n",
    "        global player_move\n",
    "        player_move=player()\n",
    "        global cpu_move\n",
    "        cpu_move=cpu(gestures)\n",
    "        each_round() \n",
    "\n",
    "        if cpu_score==3:\n",
    "            print(\"Computer Wins! GAME OVER\")\n",
    "            break\n",
    "        elif player_score==3:\n",
    "            print(\"You Won! GAME OVER\")\n",
    "            break\n",
    "        n_rounds += 1"
   ]
  },
  {
   "cell_type": "code",
   "execution_count": 636,
   "metadata": {},
   "outputs": [
    {
     "name": "stdout",
     "output_type": "stream",
     "text": [
      "hello player, make a choice!\n",
      "paper\n",
      "You chose: paper\n",
      "The AI chose: rock\n",
      "You win the round\n",
      "Score up to this round is 0 CPU, and 1 for you\n",
      "hello player, make a choice!\n",
      "paper\n",
      "You chose: paper\n",
      "The AI chose: scissors\n",
      "You lose the round\n",
      "Score up to this round is 1 CPU, and 1 for you\n",
      "hello player, make a choice!\n",
      "scissors\n",
      "You chose: scissors\n",
      "The AI chose: scissors\n",
      "Tie\n",
      "Tie!\n",
      "Score up to this round is 1 CPU, and 1 for you\n",
      "hello player, make a choice!\n",
      "sicssors\n",
      "invalid input, chose again!\n",
      "scissors\n",
      "You chose: scissors\n",
      "The AI chose: rock\n",
      "You lose the round\n",
      "Score up to this round is 2 CPU, and 1 for you\n",
      "hello player, make a choice!\n",
      "rock\n",
      "You chose: rock\n",
      "The AI chose: scissors\n",
      "You win the round\n",
      "Score up to this round is 2 CPU, and 2 for you\n",
      "hello player, make a choice!\n",
      "cacca\n",
      "invalid input, chose again!\n",
      "rock\n",
      "You chose: rock\n",
      "The AI chose: rock\n",
      "Tie\n",
      "Tie!\n",
      "Score up to this round is 2 CPU, and 2 for you\n",
      "hello player, make a choice!\n",
      "paper\n",
      "You chose: paper\n",
      "The AI chose: rock\n",
      "You win the round\n",
      "Score up to this round is 2 CPU, and 3 for you\n",
      "You Won! GAME OVER\n"
     ]
    }
   ],
   "source": [
    "actualgame()"
   ]
  },
  {
   "cell_type": "raw",
   "metadata": {},
   "source": [
    "# Bonus: Rock, Paper, Scissors, Lizard & Spock\n",
    "![](images/rpsls.jpg)\n",
    "\n",
    "In this challenge, you need to improve the previous game by adding two new options. To know more about the rules of the improved version of rock, paper, scissors, check this [link](http://www.samkass.com/theories/RPSSL.html). \n",
    "\n",
    "In addition, you will also need to improve how the game interacts with the player: the number of rounds to play, which must be an odd number, will be requested to the user until a valid number is entered. Define a new function to make that request.\n",
    "\n",
    "**Hint**: Try to reuse the code that you already coded in the previous challenge. If your code is efficient, this bonus will only consist of simple modifications to the original game."
   ]
  },
  {
   "cell_type": "code",
   "execution_count": null,
   "metadata": {},
   "outputs": [],
   "source": []
  },
  {
   "cell_type": "code",
   "execution_count": null,
   "metadata": {},
   "outputs": [],
   "source": []
  },
  {
   "cell_type": "code",
   "execution_count": null,
   "metadata": {},
   "outputs": [],
   "source": []
  }
 ],
 "metadata": {
  "kernelspec": {
   "display_name": "Python 3",
   "language": "python",
   "name": "python3"
  }
 },
 "nbformat": 4,
 "nbformat_minor": 2
}
