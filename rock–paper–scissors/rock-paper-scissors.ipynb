{
 "cells": [
  {
   "cell_type": "markdown",
   "metadata": {},
   "source": [
    "<img src=\"https://bit.ly/2VnXWr2\" width=\"100\" align=\"left\">"
   ]
  },
  {
   "cell_type": "markdown",
   "metadata": {},
   "source": [
    "# Rock, Paper & Scissors\n",
    "\n",
    "Let's play the famous game against our computer. You can check the rules [here](https://en.wikipedia.org/wiki/Rock%E2%80%93paper%E2%80%93scissors). \n",
    "\n",
    "## Task\n",
    "Create a program that imitates the playability of the well known game of rock, paper, scissors. Follow the guidelines provided.\n",
    "\n",
    "## Tools\n",
    "1. Loop: **for/while**\n",
    "2. Functions: **input(), print()...**\n",
    "3. Conditional statements: **if, elif, else**\n",
    "4. Definition of functions. Modular programming\n",
    "5. Import modules\n",
    "\n",
    "**To solve this challenge, the use of functions is recommended.**\n",
    "\n",
    "#### 1. Import the choice function of the random module."
   ]
  },
  {
   "cell_type": "code",
   "execution_count": 1,
   "metadata": {},
   "outputs": [],
   "source": [
    "import random"
   ]
  },
  {
   "cell_type": "markdown",
   "metadata": {},
   "source": [
    "#### 2. Create a list that includes the 3 possible gesture options of the game: 'rock', 'paper' or 'scissors'. Store the list in a variable called `gestures`."
   ]
  },
  {
   "cell_type": "code",
   "execution_count": 2,
   "metadata": {},
   "outputs": [],
   "source": [
    "gestures = [\"rock\", \"paper\", \"scissors\"]"
   ]
  },
  {
   "cell_type": "markdown",
   "metadata": {},
   "source": [
    "#### 3. Create a variable called `n_rounds` to store the maximum number of rounds to play in a game. \n",
    "Remember that the number of rounds must be odd: 1, 3, 5, ..."
   ]
  },
  {
   "cell_type": "code",
   "execution_count": 3,
   "metadata": {},
   "outputs": [],
   "source": [
    "n_rounds = 3"
   ]
  },
  {
   "cell_type": "markdown",
   "metadata": {},
   "source": [
    "#### 4. Create a variable called `rounds_to_win` to store the number of rounds that a player must win to win the game.\n",
    "**Hint**: the value stored in `rounds_to_win` depends on the value of `n_rounds`. "
   ]
  },
  {
   "cell_type": "code",
   "execution_count": 4,
   "metadata": {},
   "outputs": [],
   "source": [
    "rounds_to_win = int(n_rounds/2+1)"
   ]
  },
  {
   "cell_type": "markdown",
   "metadata": {},
   "source": [
    "#### 5. Create two variables to store the number of rounds that the computer and the player have won. Call these variables `cpu_score` and `player_score`."
   ]
  },
  {
   "cell_type": "code",
   "execution_count": 5,
   "metadata": {},
   "outputs": [],
   "source": [
    "cpu_score = 0\n",
    "player_score = 0"
   ]
  },
  {
   "cell_type": "markdown",
   "metadata": {},
   "source": [
    "#### 6. Define a function that randomly returns one of the 3 gesture options.\n",
    "You will use this function to simulate the gesture choice of the computer. "
   ]
  },
  {
   "cell_type": "code",
   "execution_count": 6,
   "metadata": {},
   "outputs": [],
   "source": [
    "def cpu_gesture():\n",
    "    x = random.choice(gestures)\n",
    "    return x\n",
    "    "
   ]
  },
  {
   "cell_type": "markdown",
   "metadata": {},
   "source": [
    "#### 7. Define a function that asks the player which is the gesture he or she wants to show: 'rock', 'paper' or 'scissors'.\n",
    "The player should only be allowed to choose one of the 3 gesture options. If the player's choice is not rock, paper or scissors, keep asking until it is."
   ]
  },
  {
   "cell_type": "code",
   "execution_count": 7,
   "metadata": {},
   "outputs": [],
   "source": [
    "def player_gesture():\n",
    "    y = (input(\"Choose rock, paper or scissors: \"))\n",
    "    while y not in gestures:\n",
    "        player_gesture = input(\"It's not valid. Choose rock, paper or scissors: \")\n",
    "    return y"
   ]
  },
  {
   "cell_type": "markdown",
   "metadata": {},
   "source": [
    "#### 8. Define a function that checks who won a round. \n",
    "The function should return 0 if there is a tie, 1 if the computer wins and 2 if the player wins."
   ]
  },
  {
   "cell_type": "code",
   "execution_count": 8,
   "metadata": {},
   "outputs": [],
   "source": [
    "def win_round():\n",
    "    if cpu_gesture_x == player_gesture_y:\n",
    "        win_round = 0\n",
    "    if cpu_gesture_x == \"rock\" and player_gesture_y == \"scissors\":\n",
    "        win_round = 1\n",
    "    if cpu_gesture_x == \"rock\" and player_gesture_y == \"paper\":\n",
    "        win_round = 2\n",
    "    if cpu_gesture_x == \"paper\" and player_gesture_y == \"rock\":\n",
    "        win_round = 1\n",
    "    if cpu_gesture_x == \"paper\" and player_gesture_y == \"scissors\":\n",
    "        win_round = 2\n",
    "    if cpu_gesture_x == \"scissors\" and player_gesture_y == \"paper\":\n",
    "        win_round = 1\n",
    "    if cpu_gesture_x == \"scissors\" and player_gesture_y == \"rock\":\n",
    "        win_round = 2\n",
    "    return win_round"
   ]
  },
  {
   "cell_type": "markdown",
   "metadata": {},
   "source": [
    "#### 9. Define a function that prints the choice of the computer, the choice of the player and a message that announces who won the current round. \n",
    "You should also use this function to update the variables that count the number of rounds that the computer and the player have won. The score of the winner increases by one point. If there is a tie, the score does not increase."
   ]
  },
  {
   "cell_type": "code",
   "execution_count": 9,
   "metadata": {},
   "outputs": [],
   "source": [
    "def result():\n",
    "    global cpu_score\n",
    "    global player_score\n",
    "    print(\"The player choose:\", player_gesture_y)\n",
    "    print(\"The computer choose:\", cpu_gesture_x)\n",
    "    if(win_round_z == 0):\n",
    "        print(\"It's a tie\")\n",
    "    if(win_round_z == 1):\n",
    "        print(\"The computer win this round\")\n",
    "        cpu_score += 1\n",
    "    if(win_round_z == 2):\n",
    "        print(\"The player win this round\")\n",
    "        player_score += 1"
   ]
  },
  {
   "cell_type": "markdown",
   "metadata": {},
   "source": [
    "#### 10. Now it's time to code the execution of the game using the functions and variables you defined above. \n",
    "\n",
    "First, create a loop structure that repeats while no player reaches the minimum score necessary to win and the number of rounds is less than the maximum number of rounds to play in a game.  \n",
    "\n",
    "Inside the loop, use the functions and variables above to create the execution of a round: ask for the player's choice, generate the random choice of the computer, show the round results, update the scores, etc. "
   ]
  },
  {
   "cell_type": "code",
   "execution_count": 10,
   "metadata": {},
   "outputs": [
    {
     "name": "stdout",
     "output_type": "stream",
     "text": [
      "Choose rock, paper or scissors: paper\n",
      "The player choose: paper\n",
      "The computer choose: rock\n",
      "The player win this round\n",
      "Choose rock, paper or scissors: rock\n",
      "The player choose: rock\n",
      "The computer choose: paper\n",
      "The computer win this round\n",
      "Choose rock, paper or scissors: scissors\n",
      "The player choose: scissors\n",
      "The computer choose: rock\n",
      "The computer win this round\n"
     ]
    }
   ],
   "source": [
    "while n_rounds > 0 and player_score < rounds_to_win and cpu_score < rounds_to_win:\n",
    "    cpu_gesture_x = cpu_gesture()\n",
    "    player_gesture_y = player_gesture()\n",
    "    win_round_z = win_round()\n",
    "    result()\n",
    "    n_rounds -= 1\n"
   ]
  },
  {
   "cell_type": "markdown",
   "metadata": {},
   "source": [
    "#### 11. Print the winner of the game based on who won more rounds.\n",
    "Remember that the game might be tied. "
   ]
  },
  {
   "cell_type": "code",
   "execution_count": 11,
   "metadata": {},
   "outputs": [
    {
     "name": "stdout",
     "output_type": "stream",
     "text": [
      "The computer wins the game\n"
     ]
    }
   ],
   "source": [
    "if player_score > cpu_score:\n",
    "    print(\"The player wins the game\")\n",
    "elif player_score < cpu_score:\n",
    "    print(\"The computer wins the game\")\n",
    "else:\n",
    "    print(\"The game end, It's a tie\")"
   ]
  },
  {
   "cell_type": "markdown",
   "metadata": {},
   "source": [
    "# Bonus: Rock, Paper, Scissors, Lizard & Spock\n",
    "![](images/rpsls.jpg)\n",
    "\n",
    "In this challenge, you need to improve the previous game by adding two new options. To know more about the rules of the improved version of rock, paper, scissors, check this [link](http://www.samkass.com/theories/RPSSL.html). \n",
    "\n",
    "In addition, you will also need to improve how the game interacts with the player: the number of rounds to play, which must be an odd number, will be requested to the user until a valid number is entered. Define a new function to make that request.\n",
    "\n",
    "**Hint**: Try to reuse the code that you already coded in the previous challenge. If your code is efficient, this bonus will only consist of simple modifications to the original game."
   ]
  },
  {
   "cell_type": "code",
   "execution_count": 12,
   "metadata": {},
   "outputs": [
    {
     "name": "stdout",
     "output_type": "stream",
     "text": [
      "Choose the number of rounds that you want to play. It has to be odd: 3\n",
      "Choose rock, paper, scissors, spock or lizard: lizard\n",
      "The player choose: lizard\n",
      "The computer choose: scissors\n",
      "The computer win this round\n",
      "Choose rock, paper, scissors, spock or lizard: spock\n",
      "The player choose: spock\n",
      "The computer choose: lizard\n",
      "The computer win this round\n",
      "The computer wins the game with 2 victories and 0 loses\n"
     ]
    }
   ],
   "source": [
    "import random\n",
    "\n",
    "gestures = [\"rock\", \"paper\", \"scissors\", \"spock\", \"lizard\"]\n",
    "\n",
    "cpu_score = 0\n",
    "player_score = 0\n",
    "tie_score_temp = 0\n",
    "\n",
    "\n",
    "def n_rounds():\n",
    "    n = int(input(\"Choose the number of rounds that you want to play. It has to be odd: \"))\n",
    "    while n % 2 != 1:\n",
    "        input(\"That number is not valid. Please choose an odd number\")\n",
    "    return n\n",
    "\n",
    "\n",
    "def cpu_gesture():\n",
    "    x = random.choice(gestures)\n",
    "    return x\n",
    "\n",
    "\n",
    "def player_gesture():\n",
    "    y = input(\"Choose rock, paper, scissors, spock or lizard: \")\n",
    "    while y not in gestures:\n",
    "        y = input(\"It's not valid. Choose rock, scissors, paper, spock or lizard: \")\n",
    "    return y\n",
    "\n",
    "\n",
    "def win_round():\n",
    "    z = 0\n",
    "    if cpu_gesture_x == \"rock\" and player_gesture_y == \"scissors\":\n",
    "        z = 1\n",
    "    if cpu_gesture_x == \"rock\" and player_gesture_y == \"paper\":\n",
    "        z = 2\n",
    "    if cpu_gesture_x == \"paper\" and player_gesture_y == \"rock\":\n",
    "        z = 1\n",
    "    if cpu_gesture_x == \"paper\" and player_gesture_y == \"scissors\":\n",
    "        z = 2\n",
    "    if cpu_gesture_x == \"scissors\" and player_gesture_y == \"paper\":\n",
    "        z = 1\n",
    "    if cpu_gesture_x == \"scissors\" and player_gesture_y == \"rock\":\n",
    "        z = 2\n",
    "    if cpu_gesture_x == \"rock\" and player_gesture_y == \"spock\":\n",
    "        z = 2\n",
    "    if cpu_gesture_x == \"rock\" and player_gesture_y == \"lizard\":\n",
    "        z = 1\n",
    "    if cpu_gesture_x == \"scissors\" and player_gesture_y == \"spock\":\n",
    "        z = 2\n",
    "    if cpu_gesture_x == \"scissors\" and player_gesture_y == \"lizard\":\n",
    "        z = 1\n",
    "    if cpu_gesture_x == \"paper\" and player_gesture_y == \"spock\":\n",
    "        z = 1\n",
    "    if cpu_gesture_x == \"paper\" and player_gesture_y == \"lizard\":\n",
    "        z = 2\n",
    "    if cpu_gesture_x == \"spock\" and player_gesture_y == \"paper\":\n",
    "        z = 2\n",
    "    if cpu_gesture_x == \"spock\" and player_gesture_y == \"rock\":\n",
    "        z = 1\n",
    "    if cpu_gesture_x == \"spock\" and player_gesture_y == \"scissors\":\n",
    "        z = 1\n",
    "    if cpu_gesture_x == \"spock\" and player_gesture_y == \"lizard\":\n",
    "        z = 2\n",
    "    if cpu_gesture_x == \"lizard\" and player_gesture_y == \"paper\":\n",
    "        z = 1\n",
    "    if cpu_gesture_x == \"lizard\" and player_gesture_y == \"rock\":\n",
    "        z = 2\n",
    "    if cpu_gesture_x == \"lizard\" and player_gesture_y == \"scissors\":\n",
    "        z = 2\n",
    "    if cpu_gesture_x == \"lizard\" and player_gesture_y == \"spock\":\n",
    "        z = 1\n",
    "    return z\n",
    "\n",
    "\n",
    "def result():\n",
    "    global cpu_score\n",
    "    global player_score\n",
    "    global tie_score_temp\n",
    "    print(\"The player choose:\", player_gesture_y)\n",
    "    print(\"The computer choose:\", cpu_gesture_x)\n",
    "    if win_round_z == 0:\n",
    "        print(\"It's a tie\")\n",
    "        tie_score_temp += 1\n",
    "    if win_round_z == 1:\n",
    "        print(\"The computer win this round\")\n",
    "        cpu_score += 1\n",
    "    if win_round_z == 2:\n",
    "        print(\"The player win this round\")\n",
    "        player_score += 1\n",
    "\n",
    "\n",
    "n_rounds_t = n_rounds()\n",
    "rounds_to_win = int(n_rounds_t/2+1)\n",
    "\n",
    "while (n_rounds_t > 0 and cpu_score < rounds_to_win and player_score < rounds_to_win):\n",
    "    cpu_gesture_x = cpu_gesture()\n",
    "    player_gesture_y = player_gesture()\n",
    "    win_round_z = win_round()\n",
    "    result()\n",
    "    if tie_score_temp == 2:\n",
    "        rounds_to_win -= 1\n",
    "        tie_score_temp = 0\n",
    "    n_rounds_t -= 1\n",
    "if player_score > cpu_score:\n",
    "    print(\"The player wins the game with %d victories and %d loses\" % (player_score, cpu_score))\n",
    "elif player_score < cpu_score:\n",
    "    print(\"The computer wins the game with %d victories and %d loses\" % (cpu_score, player_score))\n",
    "else:\n",
    "    print(\"The Game end. It's a tie\")\n"
   ]
  },
  {
   "cell_type": "code",
   "execution_count": null,
   "metadata": {},
   "outputs": [],
   "source": []
  },
  {
   "cell_type": "code",
   "execution_count": null,
   "metadata": {},
   "outputs": [],
   "source": [
    "\n"
   ]
  },
  {
   "cell_type": "code",
   "execution_count": null,
   "metadata": {},
   "outputs": [],
   "source": []
  }
 ],
 "metadata": {
  "kernelspec": {
   "display_name": "Python 3",
   "language": "python",
   "name": "python3"
  },
  "language_info": {
   "codemirror_mode": {
    "name": "ipython",
    "version": 3
   },
   "file_extension": ".py",
   "mimetype": "text/x-python",
   "name": "python",
   "nbconvert_exporter": "python",
   "pygments_lexer": "ipython3",
   "version": "3.7.4"
  }
 },
 "nbformat": 4,
 "nbformat_minor": 2
}
