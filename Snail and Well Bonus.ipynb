{
 "cells": [
  {
   "cell_type": "code",
   "execution_count": 5,
   "metadata": {},
   "outputs": [
    {
     "name": "stdout",
     "output_type": "stream",
     "text": [
      "[10, 1, 13, 57, 24, 25, 3, 25, -8, 14, 35]\n"
     ]
    }
   ],
   "source": [
    "#BONUS\n",
    "\n",
    "# Assign problem data to variables with representative names\n",
    "# well height, daily advance, night retreat, accumulated distance\n",
    "\n",
    "well_height = 125\n",
    "advance_cm = [30, 21, 33, 77, 44, 45, 23, 45, 12, 34, 55]\n",
    "night_retreat = 20\n",
    "daily_advance = [x - 20 for x in advance_cm]\n",
    "print(daily_advance)\n",
    "           "
   ]
  },
  {
   "cell_type": "code",
   "execution_count": null,
   "metadata": {},
   "outputs": [],
   "source": [
    "\n",
    "# Assign 0 to the variable that represents the solution\n",
    "total_days = 0\n",
    "\n",
    "# Write the code that solves the problem\n",
    "# Print the result with print('Days =', days)\n",
    "\n",
    "accumulated_distance = []\n",
    "for i in range(len(daily_advance)):\n",
    "    accumulated_distance.append(daily_advance[0:i+1] - night_retreat) # vale pero aqui esto obteniendo un numero directamente y eso no quiero\n",
    "    total_days =+ 1\n",
    "print(accumulated_distance)\n",
    "print(\"Days\", total_days)"
   ]
  },
  {
   "cell_type": "code",
   "execution_count": null,
   "metadata": {},
   "outputs": [],
   "source": [
    "# What is its maximum displacement in a day? And its minimum?\n",
    "print(max(advance_cm))\n",
    "\n",
    "print(min(advance_cm))"
   ]
  },
  {
   "cell_type": "code",
   "execution_count": null,
   "metadata": {},
   "outputs": [],
   "source": [
    "# What is its average progress?\n",
    "n = len(advance_cm)\n",
    "\n",
    "average = sum(advance_cm)/n\n",
    "\n",
    "print(average)\n"
   ]
  },
  {
   "cell_type": "code",
   "execution_count": 4,
   "metadata": {},
   "outputs": [],
   "source": [
    "# What is the standard deviation of your displacement during the day?\n",
    "# INTENTE PRIMERO ESTA FORMULA PARA EL AVERAGE numerador = [x - [(average)**2] for x in advance_cm] # esta expresada mal esta formula. Pensar luego el porque\n"
   ]
  },
  {
   "cell_type": "code",
   "execution_count": null,
   "metadata": {},
   "outputs": [],
   "source": [
    "# What is the standard deviation of your displacement during the day?\n",
    "\n",
    "standard_deviation = []\n",
    "for i in range(len(average)):\n",
    "    standard_deviation = average**(1.0/2)\n",
    "print(\"The standard deviation is \",standard_deviation)"
   ]
  }
 ],
 "metadata": {
  "kernelspec": {
   "display_name": "Python 3",
   "language": "python",
   "name": "python3"
  },
  "language_info": {
   "codemirror_mode": {
    "name": "ipython",
    "version": 3
   },
   "file_extension": ".py",
   "mimetype": "text/x-python",
   "name": "python",
   "nbconvert_exporter": "python",
   "pygments_lexer": "ipython3",
   "version": "3.7.3"
  }
 },
 "nbformat": 4,
 "nbformat_minor": 2
}
